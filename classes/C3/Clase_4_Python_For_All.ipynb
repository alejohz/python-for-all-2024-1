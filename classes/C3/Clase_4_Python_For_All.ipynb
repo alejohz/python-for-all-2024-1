{
  "cells": [
    {
      "cell_type": "markdown",
      "metadata": {
        "id": "xEDu_dmaJsHf"
      },
      "source": [
        "# Clase 4\n",
        "\n",
        "**Contenido**\n",
        "- Conexión a teams\n",
        "- Preguntas ejercicios anteriores\n",
        "- Diccionarios (Repaso)\n",
        "- Módulo matemático (Breve introducción a modulos y paquetes built-in)\n",
        "- Ejercicios (45, 61)\n",
        "- Ciclos (For)\n",
        "- Listas (Sort y Sorted)\n",
        "- Ejercicios (114, 115)\n",
        "- Ciclos (While), sleep\n",
        "- Ejercicios (61, 62)\n",
        "- Que son funciones?\n",
        "  - Funciones y Métodos\n",
        "- Ejercicio 62 (Normal y Con funciones)\n",
        "- Ejercicio 69 (Normal y Con funciones)"
      ]
    },
    {
      "cell_type": "markdown",
      "source": [
        "## Temas de estudio\n",
        "- [For Loops](https://www.w3schools.com/python/python_for_loops.asp)\n",
        "- [Funciones](https://www.w3schools.com/python/python_functions.asp)\n",
        "\n",
        "## Ejercicios\n",
        "- Ejercicio 79 (Normal y con función)\n",
        "- Ejercicio 85 (Normal y con función)\n",
        "- Ejercicio 86 (Normal y con función)"
      ],
      "metadata": {
        "id": "7FQzkR-nKmqp"
      }
    },
    {
      "cell_type": "code",
      "execution_count": 10,
      "metadata": {
        "id": "O_4iP9qrJsHh",
        "colab": {
          "base_uri": "https://localhost:8080/"
        },
        "outputId": "849f036d-d877-4889-b11b-d45dc8f80b98"
      },
      "outputs": [
        {
          "output_type": "stream",
          "name": "stdout",
          "text": [
            "['banano', 'fresas', 'kiwi', 'mango']\n",
            "<class 'list'>\n",
            "4\n",
            "{'edad (años)': 25, 'nota_evaluacion_1': 5.0, 'nota_evaluacion_2': 4.5}\n",
            "<class 'dict'>\n",
            "25 años\n",
            "{'salario': 1000, 'antiguedad': 5, 'nombre': 'john'}\n",
            "5\n"
          ]
        }
      ],
      "source": [
        "# Diccionarios (Otros Ejemplos)\n",
        "# Inventario\n",
        "inventario = { # Inventario de mi nevera\n",
        "    \"frutas\": [\"banano\", \"fresas\", \"kiwi\", \"mango\"],\n",
        "    \"carnes\": [\"cerdo\", \"pollo\", \"res\", \"pescado\"],\n",
        "    \"jugos\": [\"naranja\", \"limonada\", \"mora azul\"]\n",
        "}\n",
        "print(inventario[\"frutas\"])\n",
        "print(type(inventario[\"frutas\"]))\n",
        "print(len(inventario[\"frutas\"]))\n",
        "# Estudiantes\n",
        "estudiantes = {\n",
        "    \"john\": {\"edad (años)\": 25, \"nota_evaluacion_1\": 5.0, \"nota_evaluacion_2\": 4.5},\n",
        "    \"jorge\": {\"edad\": 20, \"nota_evaluacion_1\": 4.0, \"nota_evaluacion_2\": 3.0}\n",
        "}\n",
        "print(estudiantes[\"john\"])\n",
        "print(type(estudiantes[\"john\"]))\n",
        "print(f'{estudiantes[\"john\"][\"edad\"]} años')\n",
        "# Empleados\n",
        "empleados = {\n",
        "    10100005: {\"salario\": 1000, \"antiguedad\": 5, \"nombre\": \"john\"},\n",
        "    10200005: {\"salario\": 2000, \"antiguedad\": 2, \"nombre\": \"jorge\"}\n",
        "}\n",
        "print(empleados[10100005])\n",
        "print(empleados[10100005][\"antiguedad\"])\n",
        "# Configuración\n",
        "config = {\n",
        "    \"Editor key bindings\": \"Default\",\n",
        "    \"Font size (px)\": 20,\n",
        "    \"Identation width (spaces)\": 2,\n",
        "}\n",
        "print(config[\"Identation width (spaces)\"])\n",
        "# Perfiles (Online)"
      ]
    },
    {
      "cell_type": "code",
      "source": [
        "# built-in modules\n",
        "# math, random\n",
        "# import me permite traer modulos built-in, tambien me permite traer modulos externos\n",
        "# eso lo veremos mas adelante.\n",
        "# operadores matematicos: + - * ** / // %\n",
        "import math # Importando el modulo \"math\" modulo matematico\n",
        "raiz = math.sqrt(25)\n",
        "print(raiz)"
      ],
      "metadata": {
        "colab": {
          "base_uri": "https://localhost:8080/"
        },
        "id": "aWG2cZITmlT8",
        "outputId": "043596ee-e334-445b-cb89-2ed82ac447f6"
      },
      "execution_count": 11,
      "outputs": [
        {
          "output_type": "stream",
          "name": "stdout",
          "text": [
            "5.0\n"
          ]
        }
      ]
    },
    {
      "cell_type": "code",
      "source": [
        "# Solo debo importar los modulos, una vez\n",
        "funcion_techo = math.ceil(4.00001)\n",
        "print(funcion_techo)\n",
        "print(type(funcion_techo))\n",
        "\n",
        "funcion_piso = math.floor(4.5)\n",
        "print(funcion_piso)"
      ],
      "metadata": {
        "colab": {
          "base_uri": "https://localhost:8080/"
        },
        "id": "LYsi56-Wn7Pu",
        "outputId": "3ab9e2f4-290f-4336-ca39-2f9e8f2dd43b"
      },
      "execution_count": 16,
      "outputs": [
        {
          "output_type": "stream",
          "name": "stdout",
          "text": [
            "5\n",
            "<class 'int'>\n",
            "4\n"
          ]
        }
      ]
    },
    {
      "cell_type": "code",
      "source": [
        "logaritmo = math.log10(150.5)\n",
        "print(logaritmo)"
      ],
      "metadata": {
        "colab": {
          "base_uri": "https://localhost:8080/"
        },
        "id": "2WOKnfiTomyq",
        "outputId": "d86a27d9-f115-4744-f067-39d441fae1fe"
      },
      "execution_count": 17,
      "outputs": [
        {
          "output_type": "stream",
          "name": "stdout",
          "text": [
            "2.1775364999298623\n"
          ]
        }
      ]
    },
    {
      "cell_type": "code",
      "source": [
        "# Otra forma de importar funciones de modulos built-in\n",
        "# Aca vamos a importar funciones especificas\n",
        "# Esto se usa cuando yo se cuales funciones quiero extraer del modulo\n",
        "from math import sqrt # DE modulo math importar sqrt\n",
        "\n",
        "segunda_raiz = sqrt(36) # Ya no me toco escribir math.\n",
        "print(segunda_raiz)"
      ],
      "metadata": {
        "colab": {
          "base_uri": "https://localhost:8080/"
        },
        "id": "JlcZDTyLo_GH",
        "outputId": "b9a5a167-02b9-4d37-8a2e-6d53f83261a2"
      },
      "execution_count": 19,
      "outputs": [
        {
          "output_type": "stream",
          "name": "stdout",
          "text": [
            "6.0\n"
          ]
        }
      ]
    },
    {
      "cell_type": "code",
      "source": [
        "# tarea de calculo\n",
        "# manera numero 1\n",
        "from math import (\n",
        "    acos,\n",
        "    cos,\n",
        "    sin,\n",
        "    asin,\n",
        "    sqrt,\n",
        "    tanh,\n",
        ")\n",
        "\n",
        "# manera numero 2\n",
        "import math"
      ],
      "metadata": {
        "id": "_l-_tBFzpqLe"
      },
      "execution_count": null,
      "outputs": []
    },
    {
      "cell_type": "code",
      "source": [
        "\"\"\"\n",
        "from modulo1 import funcion_w\n",
        "from modulo2 import funcion_w\n",
        "\n",
        "import modulo1\n",
        "import modulo2\n",
        "\n",
        "modulo1.funcion_w\n",
        "modulo2.funcion_w\n",
        "\"\"\""
      ],
      "metadata": {
        "id": "9DgW65WiqNz3"
      },
      "execution_count": null,
      "outputs": []
    },
    {
      "cell_type": "code",
      "source": [
        "# random es el modulo aleatorio\n",
        "# hay varias funciones muy utiles\n",
        "import random"
      ],
      "metadata": {
        "id": "Rh0QQL6Bqsf7"
      },
      "execution_count": 20,
      "outputs": []
    },
    {
      "cell_type": "code",
      "source": [
        "aleatorio_entero = random.randint(10, 20)\n",
        "aleatorio_lista = random.choice([1, 2, 3, 4, 5])\n",
        "aleatorio_decimal = random.random()\n",
        "print(aleatorio_entero)\n",
        "print(aleatorio_lista)\n",
        "print(aleatorio_decimal)\n",
        "random."
      ],
      "metadata": {
        "colab": {
          "base_uri": "https://localhost:8080/"
        },
        "id": "81tjf6HorE4M",
        "outputId": "1fe67ae5-9ab8-4bbb-9983-7d6a533dac18"
      },
      "execution_count": 21,
      "outputs": [
        {
          "output_type": "stream",
          "name": "stdout",
          "text": [
            "12\n",
            "1\n",
            "0.09202099667233399\n"
          ]
        }
      ]
    },
    {
      "cell_type": "code",
      "source": [
        "print(random.random() * 25)"
      ],
      "metadata": {
        "colab": {
          "base_uri": "https://localhost:8080/"
        },
        "id": "YUYvrNpJsOrl",
        "outputId": "f2c373d7-0125-431b-b0ec-7e619c15c78a"
      },
      "execution_count": 38,
      "outputs": [
        {
          "output_type": "stream",
          "name": "stdout",
          "text": [
            "18.430200076882457\n"
          ]
        }
      ]
    },
    {
      "cell_type": "code",
      "source": [
        "print(random.uniform(10, 20)) # Distribucion estadistica uniforme"
      ],
      "metadata": {
        "colab": {
          "base_uri": "https://localhost:8080/"
        },
        "id": "-Exxfl8wtOa3",
        "outputId": "914004f6-9afd-40d0-c0f1-f1839dffd99e"
      },
      "execution_count": 39,
      "outputs": [
        {
          "output_type": "stream",
          "name": "stdout",
          "text": [
            "14.261480853766216\n"
          ]
        }
      ]
    },
    {
      "cell_type": "code",
      "source": [
        "# El intervalo de random.random() de [0, 1)\n",
        "random_float = random.random() * 10 + 10 # [10, 20)\n",
        "print(random_float)\n",
        "print(f\"{random_float:.3f}\")"
      ],
      "metadata": {
        "colab": {
          "base_uri": "https://localhost:8080/"
        },
        "id": "bH4g1BkXuOEU",
        "outputId": "9795ae27-a4de-42f2-f3bd-0af6b26f7b34"
      },
      "execution_count": 57,
      "outputs": [
        {
          "output_type": "stream",
          "name": "stdout",
          "text": [
            "19.39083101263919\n",
            "19.391\n"
          ]
        }
      ]
    },
    {
      "cell_type": "code",
      "source": [
        "\"\"\"\n",
        "Exercise 61: Is a License Plate Valid?\n",
        "In a particular jurisdiction, older license plates consist\n",
        " of three uppercase letters followed by three digits. When all of the license\n",
        " plates following that pattern had been used, the format was changed to four\n",
        " digits followed by three uppercase letters. Write a program that begins by\n",
        " reading a string of characters from the user. Then your program should display\n",
        " a message indicating whether the characters are valid for an older style license\n",
        " plate or a newer style license plate. Your program should display an appropriate\n",
        " message if the string entered by the user is not valid for either\n",
        "style of license plate.\n",
        "\"\"\"\n",
        "plate = input(\"Enter a plate: \")\n",
        "plate_list = list(plate)\n",
        "list_length = len(plate_list)\n",
        "primer_elemento = plate_list[0]\n",
        "primer_elemento_es_digito = primer_elemento.isdigit()\n",
        "primer_elemento_es_alphanum = primer_elemento.isalpha()\n",
        "if list_length == 6 and (not primer_elemento_es_digito) and primer_elemento_es_alphanum:\n",
        "  # print(plate, \"is older style\")\n",
        "  print(f\"{plate} is older style\")\n",
        "elif list_length == 7 and primer_elemento_es_digito:\n",
        "  print(f\"{plate} is newer style\")\n",
        "else:\n",
        "  print(\"Plate is not valid\")"
      ],
      "metadata": {
        "colab": {
          "base_uri": "https://localhost:8080/"
        },
        "id": "0sPDTKpIzt2l",
        "outputId": "6f1afb53-b943-4707-c921-7d22c94dd699"
      },
      "execution_count": 69,
      "outputs": [
        {
          "output_type": "stream",
          "name": "stdout",
          "text": [
            "Enter a plate: 1234ABC\n",
            "1234ABC is newer style\n"
          ]
        }
      ]
    },
    {
      "cell_type": "code",
      "source": [
        "# Algunos tipos de datos tienen funciones que pertenecen solo\n",
        "# a ese tipo de dato. Sin importar el dato que sea\n",
        "# Ejemplos\n",
        "# \"hola\".format()\n",
        "# [1, 2].append()\n",
        "print(\"hello\".upper())\n",
        "print(\"HELLO\".lower())\n",
        "print(\"hello\".capitalize())\n",
        "print(\"1\".isdigit())\n",
        "# Funciones de los strings"
      ],
      "metadata": {
        "colab": {
          "base_uri": "https://localhost:8080/"
        },
        "id": "1j2kCSyD27G2",
        "outputId": "06c158a3-fcd1-42e3-ca18-4cb83c58b886"
      },
      "execution_count": 65,
      "outputs": [
        {
          "output_type": "stream",
          "name": "stdout",
          "text": [
            "HELLO\n",
            "hello\n",
            "Hello\n",
            "True\n"
          ]
        }
      ]
    },
    {
      "cell_type": "code",
      "source": [
        "from random import randint\n",
        "enteros = [randint(10, 20), randint(10, 20), randint(10, 20), randint(10, 20)]\n",
        "print(enteros)"
      ],
      "metadata": {
        "colab": {
          "base_uri": "https://localhost:8080/"
        },
        "id": "LjQ0atlc5e9S",
        "outputId": "347d8c47-a449-4c07-a17f-3100b6983374"
      },
      "execution_count": 81,
      "outputs": [
        {
          "output_type": "stream",
          "name": "stdout",
          "text": [
            "[13, 14, 17, 17]\n"
          ]
        }
      ]
    },
    {
      "cell_type": "code",
      "source": [
        "if enteros[0] == 15:\n",
        "  print(\"Posicion 1 es 15\")\n",
        "elif enteros[1] == 15:\n",
        "  print(\"Posicion 2 es 15\")\n",
        "elif enteros[2] == 15:\n",
        "  print(\"Posicion 3 es 15\")\n",
        "elif enteros[3] == 15:\n",
        "  print(\"Posicion 4 es 15\")\n",
        "else:\n",
        "  print(\"No hay 15\")"
      ],
      "metadata": {
        "colab": {
          "base_uri": "https://localhost:8080/"
        },
        "id": "J1S7fYJq5v9B",
        "outputId": "57071b7f-3f96-4eb1-e985-42f96e07675b"
      },
      "execution_count": 82,
      "outputs": [
        {
          "output_type": "stream",
          "name": "stdout",
          "text": [
            "No hay 15\n"
          ]
        }
      ]
    },
    {
      "cell_type": "code",
      "source": [
        "print(inventario.keys())\n",
        "print(inventario.values())\n",
        "print([1, 2, 3, 4, 5]) # Secuencias"
      ],
      "metadata": {
        "colab": {
          "base_uri": "https://localhost:8080/"
        },
        "id": "TobvE0H16Ttv",
        "outputId": "3a05f5a2-d094-4199-cb97-5a9ed469cb45"
      },
      "execution_count": 86,
      "outputs": [
        {
          "output_type": "stream",
          "name": "stdout",
          "text": [
            "dict_keys(['frutas', 'carnes', 'jugos'])\n",
            "dict_values([['banano', 'fresas', 'kiwi', 'mango'], ['cerdo', 'pollo', 'res', 'pescado'], ['naranja', 'limonada', 'mora azul']])\n",
            "[1, 2, 3, 4, 5]\n"
          ]
        }
      ]
    },
    {
      "cell_type": "code",
      "source": [
        "# For Loops\n",
        "# Los ciclos, me permiten ITERAR a traves de secuencias"
      ],
      "metadata": {
        "id": "fc3kxi8y6Gwr"
      },
      "execution_count": null,
      "outputs": []
    },
    {
      "cell_type": "code",
      "source": [
        "rango = range(1, 11)\n",
        "print(rango)\n",
        "print(type(rango))\n",
        "print(list(rango))"
      ],
      "metadata": {
        "colab": {
          "base_uri": "https://localhost:8080/"
        },
        "id": "kT2SDfob6mvX",
        "outputId": "710bb9e3-953f-4fea-aa72-c1e26519ed45"
      },
      "execution_count": 90,
      "outputs": [
        {
          "output_type": "stream",
          "name": "stdout",
          "text": [
            "range(1, 11)\n",
            "<class 'range'>\n",
            "[1, 2, 3, 4, 5, 6, 7, 8, 9, 10]\n"
          ]
        }
      ]
    },
    {
      "cell_type": "code",
      "source": [
        "print(list(range(1, 6)))"
      ],
      "metadata": {
        "colab": {
          "base_uri": "https://localhost:8080/"
        },
        "id": "4tHCkxp78S8Z",
        "outputId": "b38e0a5b-64a7-4155-a1b7-49bc4720b3dd"
      },
      "execution_count": 97,
      "outputs": [
        {
          "output_type": "stream",
          "name": "stdout",
          "text": [
            "[1, 2, 3, 4, 5]\n"
          ]
        }
      ]
    },
    {
      "cell_type": "code",
      "source": [
        "# Por cada elemento en mi secuencia, haz algo\n",
        "for iterador in range(1, 6): # Por cada elemento en rango\n",
        "  print(f\"Esta es la iteración: {iterador}\") # dale print\n",
        "\n",
        "# For es un ciclo con final, empieza y termina con la secuencia"
      ],
      "metadata": {
        "colab": {
          "base_uri": "https://localhost:8080/"
        },
        "id": "FW0IWgeM7P4O",
        "outputId": "750819f7-7738-4b6e-b568-e94984a2f842"
      },
      "execution_count": 96,
      "outputs": [
        {
          "output_type": "stream",
          "name": "stdout",
          "text": [
            "Esta es la iteración: 1\n",
            "Esta es la iteración: 2\n",
            "Esta es la iteración: 3\n",
            "Esta es la iteración: 4\n",
            "Esta es la iteración: 5\n"
          ]
        }
      ]
    },
    {
      "cell_type": "code",
      "source": [
        "nombres = [\"alejandro\", \"juan\", \"miguel\", \"fernando\", \"rafael\", \"sebastian\"]\n",
        "for iterador in nombres:\n",
        "  print(f\"Esta es la iteración: {iterador}\")"
      ],
      "metadata": {
        "colab": {
          "base_uri": "https://localhost:8080/"
        },
        "id": "fz4eNyqe8WpN",
        "outputId": "b77caf52-1848-4e2a-cac3-50574aef427a"
      },
      "execution_count": 103,
      "outputs": [
        {
          "output_type": "stream",
          "name": "stdout",
          "text": [
            "Esta es la iteración: alejandro\n",
            "Esta es la iteración: juan\n",
            "Esta es la iteración: miguel\n",
            "Esta es la iteración: fernando\n",
            "Esta es la iteración: rafael\n",
            "Esta es la iteración: sebastian\n"
          ]
        }
      ]
    },
    {
      "cell_type": "code",
      "source": [
        "list_length = len(nombres)\n",
        "list_range = range(1, list_length + 1)\n",
        "for iterador in list_range:\n",
        "  print(f\"Esta es la iteración: {iterador}\")\n",
        "  print(f\"Este es el elemento de la lista: {nombres[iterador - 1]}\")"
      ],
      "metadata": {
        "colab": {
          "base_uri": "https://localhost:8080/"
        },
        "id": "bGulcnlK8jyT",
        "outputId": "42da5708-4d4b-4298-ec57-4ee0c3d1e3e3"
      },
      "execution_count": 105,
      "outputs": [
        {
          "output_type": "stream",
          "name": "stdout",
          "text": [
            "Esta es la iteración: 1\n",
            "Este es el elemento de la lista: alejandro\n",
            "Esta es la iteración: 2\n",
            "Este es el elemento de la lista: juan\n",
            "Esta es la iteración: 3\n",
            "Este es el elemento de la lista: miguel\n",
            "Esta es la iteración: 4\n",
            "Este es el elemento de la lista: fernando\n",
            "Esta es la iteración: 5\n",
            "Este es el elemento de la lista: rafael\n",
            "Esta es la iteración: 6\n",
            "Este es el elemento de la lista: sebastian\n"
          ]
        }
      ]
    },
    {
      "cell_type": "code",
      "source": [
        "# Objetivo: Crear una lista de 15 enteros aleatorios, entre 5, 15\n",
        "# Debo usar random.randint, for, listas, rangos\n",
        "\n",
        "enteros_aletorios = []\n",
        "rango_a_iterar = range(15)\n",
        "for iterador in rango_a_iterar:\n",
        "  enteros_aletorios.append(random.randint(5, 15))\n",
        "  # print(\"Esto esta ADENTRO del for\")\n",
        "# print(\"Esto esta por FUERA del for\")\n",
        "print(enteros_aletorios)\n",
        "print(len(enteros_aletorios))\n"
      ],
      "metadata": {
        "colab": {
          "base_uri": "https://localhost:8080/"
        },
        "id": "_nCSjlX291Pb",
        "outputId": "1a2994cc-cb11-4917-95c5-89048b33daa5"
      },
      "execution_count": 117,
      "outputs": [
        {
          "output_type": "stream",
          "name": "stdout",
          "text": [
            "[10, 10, 7, 7, 14, 10, 14, 6, 15, 9, 7, 15, 5, 15, 11]\n",
            "15\n"
          ]
        }
      ]
    },
    {
      "cell_type": "code",
      "source": [
        "nombres_meses = [\"enero\", \"febrero\", \"marzo\"]\n",
        "numeros_meses = [1, 2, 3]\n",
        "diccionario_meses = {}\n",
        "rango_a_iterar = range(len(nombres_meses) + 1)\n",
        "for i in rango_a_iterar:\n",
        "  diccionario_meses[nombres_meses[i - 1]] = numeros_meses[i - 1]\n",
        "print(diccionario_meses)"
      ],
      "metadata": {
        "colab": {
          "base_uri": "https://localhost:8080/"
        },
        "id": "T05xkASh_7Da",
        "outputId": "11a0e22c-a67f-4d44-ed01-cb524b7eee36"
      },
      "execution_count": 114,
      "outputs": [
        {
          "output_type": "stream",
          "name": "stdout",
          "text": [
            "{'marzo': 3, 'enero': 1, 'febrero': 2}\n"
          ]
        }
      ]
    },
    {
      "cell_type": "code",
      "source": [
        "# Iterando sobre elementos\n",
        "for nombre in nombres:\n",
        "  print(nombre)\n",
        "# Iterando sobre rangos (indices)\n",
        "for indice in range(5):\n",
        "  print(indice)"
      ],
      "metadata": {
        "colab": {
          "base_uri": "https://localhost:8080/"
        },
        "id": "4h2yPaDQAq28",
        "outputId": "6174af71-e15a-40a4-efac-be7a1f02bcd2"
      },
      "execution_count": 120,
      "outputs": [
        {
          "output_type": "stream",
          "name": "stdout",
          "text": [
            "alejandro\n",
            "juan\n",
            "miguel\n",
            "fernando\n",
            "rafael\n",
            "sebastian\n",
            "0\n",
            "1\n",
            "2\n",
            "3\n",
            "4\n"
          ]
        }
      ]
    },
    {
      "cell_type": "code",
      "source": [
        "# Las listas tambien tienen funciones\n",
        "# append es una funcion de las listas\n",
        "# insert es una funcion de las listas\n",
        "# Hay funciones EN LINEA (Inline)\n",
        "# Hay otras funciones normales\n",
        "enteros_aleatorios = [9, 8, 4, 1, 4, 3, 2]\n",
        "print(enteros_aleatorios) # print 1 va a salir la lista normal\n",
        "enteros_ordenados = enteros_aleatorios.sort(reverse=True) # funcion en linea\n",
        "# SORT es una funcion inline, que SI modifica el valor original\n",
        "print(enteros_ordenados) # print 2 va a salir (ordenada, aleatoria, nada)\n",
        "print(enteros_aleatorios) # print 3 va a salir (ordenada, aleatoria, nada)"
      ],
      "metadata": {
        "colab": {
          "base_uri": "https://localhost:8080/"
        },
        "id": "ZgL-oWiaCZF9",
        "outputId": "2b7a0277-5d12-4347-e898-b964b51238b7"
      },
      "execution_count": 128,
      "outputs": [
        {
          "output_type": "stream",
          "name": "stdout",
          "text": [
            "[9, 8, 4, 1, 4, 3, 2]\n",
            "None\n",
            "[9, 8, 4, 4, 3, 2, 1]\n"
          ]
        }
      ]
    },
    {
      "cell_type": "code",
      "source": [
        "enteros_aleatorios = [9, 8, 4, 1, 4, 3, 2]\n",
        "print(enteros_aleatorios)\n",
        "enteros_ordenados = sorted(enteros_aleatorios, reverse=True) # sorted si es una funcion normal\n",
        "# porque me devuelve un valor nuevo modificado sin modificar el original\n",
        "print(enteros_ordenados)\n",
        "print(enteros_aleatorios)"
      ],
      "metadata": {
        "colab": {
          "base_uri": "https://localhost:8080/"
        },
        "id": "hWXTdstHEQPK",
        "outputId": "adc443ab-478e-4df9-da7b-4694d7840b65"
      },
      "execution_count": 129,
      "outputs": [
        {
          "output_type": "stream",
          "name": "stdout",
          "text": [
            "[9, 8, 4, 1, 4, 3, 2]\n",
            "[9, 8, 4, 4, 3, 2, 1]\n",
            "[9, 8, 4, 1, 4, 3, 2]\n"
          ]
        }
      ]
    },
    {
      "cell_type": "code",
      "source": [
        "texto_1 = \"Hello\"\n",
        "text_pero_mayus = texto_1.upper() # es una funcion normal, que devuelve la\n",
        "# variable modificada, NO modifica el valor original\n",
        "print(texto_1)\n",
        "print(text_pero_mayus)"
      ],
      "metadata": {
        "colab": {
          "base_uri": "https://localhost:8080/"
        },
        "id": "dz_O44PMDrpr",
        "outputId": "63dc5dda-43b8-49c4-92d5-47688aa3eb69"
      },
      "execution_count": 126,
      "outputs": [
        {
          "output_type": "stream",
          "name": "stdout",
          "text": [
            "Hello\n",
            "HELLO\n"
          ]
        }
      ]
    },
    {
      "cell_type": "code",
      "source": [
        "\"\"\"\n",
        "Exercise 114: Negatives, Zeros and Positives\n",
        "Create a program that reads integers from the user until a blank line is\n",
        "entered. Once all of the integers have been read your program should\n",
        "display all of the negative numbers, followed by all of the zeros, followed\n",
        "by all of the positive numbers. Within each group the numbers should be\n",
        "displayed in the same order that they were entered by the user. For example,\n",
        "if the user enters the values 3, -4, 1, 0, -1, 0, and -2 then\n",
        "your program should output the values -4, -1, -2, 0, 0, 3, and 1. Your\n",
        "program should display each value on its own line.\n",
        "\"\"\"\n",
        "# Debes usar while, listas, input, print\n",
        "# Vamos a usar un nuevo ciclo\n",
        "# Se llama WHILE\n",
        "# While me permite iterar hasta que una condicion se cumpla\n",
        "# En los ciclos\n",
        "# Hay dos iteradores especiales\n",
        "# Contadores, Acumuladores\n",
        "lista_numeros = [1, 2, 3, 4, 5]\n",
        "contador = 0\n",
        "while contador <= 3:\n",
        "  print(f\"El elemento de la lista es: {lista_numeros[contador]}\")\n",
        "  print(f\"El contador es: {contador}\")\n",
        "  contador = contador + 1"
      ],
      "metadata": {
        "colab": {
          "base_uri": "https://localhost:8080/"
        },
        "id": "4QaDctoOFPA_",
        "outputId": "21cdce34-085a-416d-a4b1-4db575016a1c"
      },
      "execution_count": 136,
      "outputs": [
        {
          "output_type": "stream",
          "name": "stdout",
          "text": [
            "El elemento de la lista es: 1\n",
            "El contador es: 0\n",
            "El elemento de la lista es: 2\n",
            "El contador es: 1\n",
            "El elemento de la lista es: 3\n",
            "El contador es: 2\n",
            "El elemento de la lista es: 4\n",
            "El contador es: 3\n"
          ]
        }
      ]
    },
    {
      "cell_type": "code",
      "source": [],
      "metadata": {
        "id": "J34NZB-OHJDp"
      },
      "execution_count": null,
      "outputs": []
    }
  ],
  "metadata": {
    "language_info": {
      "name": "python"
    },
    "colab": {
      "provenance": []
    },
    "kernelspec": {
      "name": "python3",
      "display_name": "Python 3"
    }
  },
  "nbformat": 4,
  "nbformat_minor": 0
}