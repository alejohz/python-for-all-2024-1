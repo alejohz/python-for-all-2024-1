{
  "cells": [
    {
      "cell_type": "markdown",
      "metadata": {
        "id": "Xg2dfIo_LAMv"
      },
      "source": [
        "# Clase 7\n",
        "\n",
        "#### **Contenido**\n",
        "- Revisar dudas de ejercicios para prácticar de la clase anterior\n",
        "- Setup Inicial Python y VSCode (Que son IDEs?)\n",
        "- Ambientes Virtuales? (Virtual Environments)\n",
        "- Terminar Archivos y Excepciones (Ejemplos)\n",
        "  - Abrir archivos con with\n",
        "- Ejercicio 151\n",
        "- Ejercicio 142 (Función)\n",
        "- Ejercicio 143 (Función)\n",
        "- Módulos\n",
        "\n",
        "\n",
        "#### Ejercicios para practicar\n",
        "- Ejercicio 146\n",
        "- Ejercicio 168\n",
        "- Ejercicio 172\n",
        "  \n",
        "#### Temas de estudio\n",
        "- Que son expresiones regulares? Y porque son utiles?\n",
        "\n",
        "\n",
        "#### Why virtual environments?\n",
        "[Video](https://www.youtube.com/watch?v=28eLP22SMTA)"
      ]
    },
    {
      "cell_type": "code",
      "source": [
        "\"\"\"\n",
        "VSCode - Visual Studio Code (Visual Studio) IDE\n",
        "Spyder - Pycharm - Jupyter\n",
        "\"\"\""
      ],
      "metadata": {
        "id": "n5PuHjXLSPzn"
      },
      "execution_count": null,
      "outputs": []
    },
    {
      "cell_type": "code",
      "source": [
        "\"\"\" Virtual Environments\n",
        "python -m venv myenv\n",
        "\n",
        "Windows\n",
        "1. Apretar boton de windows\n",
        "2. Escribir PowerShell\n",
        "3. Click derecho\n",
        "4. Correr como administrador\n",
        "5. Debe abrir una pantalla con fondo negro\n",
        "6. Vamos a escribir un comando\n",
        "7. Vamos a correr comando que QUITA las restricciones de windows\n",
        "para correr scripts que no tienen firma -Scope Process\n",
        "permite que solo sea por esta sesión.\n",
        "\n",
        "Set-ExecutionPolicy -Scope Process -ExecutionPolicy RemoteSigned\n",
        "8. Darle Si\n",
        "\n",
        "python -m venv \"nombre del ambiente\"\n",
        "\n",
        "C:/Users/Nombre/folder\n",
        "\n",
        "cd\n",
        "\n",
        ".\\myenv\\Scripts\\Activate.ps1\n",
        "\n",
        "Mac\n",
        "source myenv/bin/activate\n",
        "\"\"\""
      ],
      "metadata": {
        "id": "NhzU9tzBPag_"
      },
      "execution_count": null,
      "outputs": []
    },
    {
      "cell_type": "code",
      "execution_count": null,
      "metadata": {
        "colab": {
          "base_uri": "https://localhost:8080/"
        },
        "id": "YAZVkIcVLAMw",
        "outputId": "eb47bac1-2427-4f54-ebef-e5094dd06903"
      },
      "outputs": [
        {
          "output_type": "stream",
          "name": "stdout",
          "text": [
            "El archivo esta cerrado? True\n",
            "['david, manuel, samuel, gregorio, jose']\n",
            "1\n",
            "david, manuel, samuel, gregorio, jose\n",
            "['david', ' manuel', ' samuel', ' gregorio', ' jose']\n",
            "david\n",
            "manuel\n",
            "samuel\n",
            "gregorio\n",
            "jose\n"
          ]
        }
      ],
      "source": [
        "f = open(\"nombres.txt\", \"r\")\n",
        "lines = f.readlines()\n",
        "f.close()\n",
        "print(f\"El archivo esta cerrado? {f.closed}\")\n",
        "print(lines)\n",
        "print(len(lines))\n",
        "print(lines[0])\n",
        "print(lines[0].split(\",\"))\n",
        "lista_nombres = lines[0].split(\",\")\n",
        "for nombre in lista_nombres:\n",
        "  print(nombre.strip()) # strip es el metodo que elimina espacios"
      ]
    },
    {
      "cell_type": "code",
      "source": [
        "lista1 = [\"1, 2, 3333,,,, 4\"]\n",
        "lista2 = [1, 2, 3, 4]"
      ],
      "metadata": {
        "id": "X4qLYylUn2zi"
      },
      "execution_count": null,
      "outputs": []
    },
    {
      "cell_type": "code",
      "source": [
        "lista1.split(\",\")"
      ],
      "metadata": {
        "colab": {
          "base_uri": "https://localhost:8080/",
          "height": 141
        },
        "id": "jgKCioaTpLyS",
        "outputId": "98be13ab-74d1-4c43-a528-e465e29c0ddf"
      },
      "execution_count": null,
      "outputs": [
        {
          "output_type": "error",
          "ename": "AttributeError",
          "evalue": "'list' object has no attribute 'split'",
          "traceback": [
            "\u001b[0;31m---------------------------------------------------------------------------\u001b[0m",
            "\u001b[0;31mAttributeError\u001b[0m                            Traceback (most recent call last)",
            "\u001b[0;32m<ipython-input-10-072834441513>\u001b[0m in \u001b[0;36m<cell line: 1>\u001b[0;34m()\u001b[0m\n\u001b[0;32m----> 1\u001b[0;31m \u001b[0mlista1\u001b[0m\u001b[0;34m.\u001b[0m\u001b[0msplit\u001b[0m\u001b[0;34m(\u001b[0m\u001b[0;34m\",\"\u001b[0m\u001b[0;34m)\u001b[0m\u001b[0;34m\u001b[0m\u001b[0;34m\u001b[0m\u001b[0m\n\u001b[0m",
            "\u001b[0;31mAttributeError\u001b[0m: 'list' object has no attribute 'split'"
          ]
        }
      ]
    },
    {
      "cell_type": "code",
      "source": [
        "lista1[0].split(\",\")"
      ],
      "metadata": {
        "colab": {
          "base_uri": "https://localhost:8080/"
        },
        "id": "1VT91dzlpckB",
        "outputId": "02019193-abd5-4e7f-ff6d-7694598e39f2"
      },
      "execution_count": null,
      "outputs": [
        {
          "output_type": "execute_result",
          "data": {
            "text/plain": [
              "['1', ' 2', ' 3333', '', '', '', ' 4']"
            ]
          },
          "metadata": {},
          "execution_count": 11
        }
      ]
    },
    {
      "cell_type": "code",
      "source": [
        "print(\"Hola, Mundo\".split())\n",
        "print(\"Hola, Mundo\".split(sep=\",\"))"
      ],
      "metadata": {
        "colab": {
          "base_uri": "https://localhost:8080/"
        },
        "id": "bNYGfBgKoFSk",
        "outputId": "f5be51f9-f75a-4f2d-ecd6-a25d735d0d3a"
      },
      "execution_count": null,
      "outputs": [
        {
          "output_type": "stream",
          "name": "stdout",
          "text": [
            "['Hola,', 'Mundo']\n",
            "['Hola', ' Mundo']\n"
          ]
        }
      ]
    },
    {
      "cell_type": "code",
      "source": [
        "with open(\"nombres.txt\", \"r\") as f:\n",
        "  lines = f.readlines()\n",
        "  print(f.closed)\n",
        "print(f.closed)\n",
        "print(lines)"
      ],
      "metadata": {
        "colab": {
          "base_uri": "https://localhost:8080/"
        },
        "id": "9hsOANvxo8Q2",
        "outputId": "53db48cf-55c0-4e8e-ddbd-48e82e4484b2"
      },
      "execution_count": null,
      "outputs": [
        {
          "output_type": "stream",
          "name": "stdout",
          "text": [
            "False\n",
            "True\n",
            "['david, manuel, samuel, gregorio, jose']\n"
          ]
        }
      ]
    },
    {
      "cell_type": "code",
      "source": [
        "def clean_file(path):\n",
        "  \"\"\"\n",
        "  Reads a file located in path and returns clean lines.\n",
        "  \"\"\"\n",
        "  with open(path, \"r\") as f:\n",
        "    lines = f.readlines()\n",
        "  clean_lines = []\n",
        "  for nombre in lines[0].split(\",\"):\n",
        "    clean_lines.append(nombre.strip())\n",
        "  return clean_lines"
      ],
      "metadata": {
        "id": "i2syVwBJqdec"
      },
      "execution_count": null,
      "outputs": []
    },
    {
      "cell_type": "code",
      "source": [
        "nombres_limpios = clean_file(\"nombres.txt\")\n",
        "print(nombres_limpios)"
      ],
      "metadata": {
        "colab": {
          "base_uri": "https://localhost:8080/"
        },
        "id": "g8xKFV11rlpb",
        "outputId": "03eda41b-512e-448f-c268-709209848a5d"
      },
      "execution_count": null,
      "outputs": [
        {
          "output_type": "stream",
          "name": "stdout",
          "text": [
            "['david', 'manuel', 'samuel', 'gregorio', 'jose']\n"
          ]
        }
      ]
    },
    {
      "cell_type": "code",
      "source": [
        "\"\"\"\n",
        "Exercise 151: Concatenate Multiple Files\n",
        "Unix-based operating systems typically include a tool named\n",
        "cat, which is short for concatenate. Its purpose is to display\n",
        "the concatenation of one or more files whose names are provided\n",
        "as command line arguments. The files are displayed in the same\n",
        "order that they appear on the command line.\n",
        "Create a Python program that performs this task. It\n",
        "should generate an appropriate\n",
        "error message for any file that cannot be displayed, and\n",
        "then proceed to the next file. Display an appropriate error\n",
        "message if your program is started without any command line\n",
        "arguments.\n",
        "\"\"\""
      ],
      "metadata": {
        "id": "dIznEcCtsFwo"
      },
      "execution_count": null,
      "outputs": []
    },
    {
      "cell_type": "code",
      "source": [
        "# try\n",
        "# except\n",
        "# Excepciones\n",
        "try:\n",
        "  clean_file(\"nombre.txt\")\n",
        "except FileNotFoundError:\n",
        "  print(\"Ojo, el archivo no fue encontrado\")\n",
        "# Las mas famosas excepciones\n",
        "# ZeroDivisionError\n",
        "# ValueError\n",
        "# TypeError"
      ],
      "metadata": {
        "colab": {
          "base_uri": "https://localhost:8080/"
        },
        "id": "jY2akVVJsm6I",
        "outputId": "7661e22e-9c66-4e8c-b930-2f4e1ec8727f"
      },
      "execution_count": null,
      "outputs": [
        {
          "output_type": "stream",
          "name": "stdout",
          "text": [
            "Ojo, el archivo no fue encontrado\n"
          ]
        }
      ]
    },
    {
      "cell_type": "code",
      "source": [
        "clean_file(\"nombre.txt\")"
      ],
      "metadata": {
        "colab": {
          "base_uri": "https://localhost:8080/",
          "height": 263
        },
        "id": "1w-reZgxtpMl",
        "outputId": "245ac0ef-da7f-42c3-bff2-a42344d4b81f"
      },
      "execution_count": null,
      "outputs": [
        {
          "output_type": "error",
          "ename": "FileNotFoundError",
          "evalue": "[Errno 2] No such file or directory: 'nombre.txt'",
          "traceback": [
            "\u001b[0;31m---------------------------------------------------------------------------\u001b[0m",
            "\u001b[0;31mFileNotFoundError\u001b[0m                         Traceback (most recent call last)",
            "\u001b[0;32m<ipython-input-23-948b41a37c21>\u001b[0m in \u001b[0;36m<cell line: 1>\u001b[0;34m()\u001b[0m\n\u001b[0;32m----> 1\u001b[0;31m \u001b[0mclean_file\u001b[0m\u001b[0;34m(\u001b[0m\u001b[0;34m\"nombre.txt\"\u001b[0m\u001b[0;34m)\u001b[0m\u001b[0;34m\u001b[0m\u001b[0;34m\u001b[0m\u001b[0m\n\u001b[0m",
            "\u001b[0;32m<ipython-input-17-433cada3b70d>\u001b[0m in \u001b[0;36mclean_file\u001b[0;34m(path)\u001b[0m\n\u001b[1;32m      3\u001b[0m   \u001b[0mReads\u001b[0m \u001b[0ma\u001b[0m \u001b[0mfile\u001b[0m \u001b[0mlocated\u001b[0m \u001b[0;32min\u001b[0m \u001b[0mpath\u001b[0m \u001b[0;32mand\u001b[0m \u001b[0mreturns\u001b[0m \u001b[0mclean\u001b[0m \u001b[0mlines\u001b[0m\u001b[0;34m.\u001b[0m\u001b[0;34m\u001b[0m\u001b[0;34m\u001b[0m\u001b[0m\n\u001b[1;32m      4\u001b[0m   \"\"\"\n\u001b[0;32m----> 5\u001b[0;31m   \u001b[0;32mwith\u001b[0m \u001b[0mopen\u001b[0m\u001b[0;34m(\u001b[0m\u001b[0mpath\u001b[0m\u001b[0;34m,\u001b[0m \u001b[0;34m\"r\"\u001b[0m\u001b[0;34m)\u001b[0m \u001b[0;32mas\u001b[0m \u001b[0mf\u001b[0m\u001b[0;34m:\u001b[0m\u001b[0;34m\u001b[0m\u001b[0;34m\u001b[0m\u001b[0m\n\u001b[0m\u001b[1;32m      6\u001b[0m     \u001b[0mlines\u001b[0m \u001b[0;34m=\u001b[0m \u001b[0mf\u001b[0m\u001b[0;34m.\u001b[0m\u001b[0mreadlines\u001b[0m\u001b[0;34m(\u001b[0m\u001b[0;34m)\u001b[0m\u001b[0;34m\u001b[0m\u001b[0;34m\u001b[0m\u001b[0m\n\u001b[1;32m      7\u001b[0m   \u001b[0mclean_lines\u001b[0m \u001b[0;34m=\u001b[0m \u001b[0;34m[\u001b[0m\u001b[0;34m]\u001b[0m\u001b[0;34m\u001b[0m\u001b[0;34m\u001b[0m\u001b[0m\n",
            "\u001b[0;31mFileNotFoundError\u001b[0m: [Errno 2] No such file or directory: 'nombre.txt'"
          ]
        }
      ]
    },
    {
      "cell_type": "code",
      "source": [
        "try:\n",
        "  clean_file(\"nombre.txt\")\n",
        "except:\n",
        "  print(\"Salio un error\")"
      ],
      "metadata": {
        "id": "yxqro2QJv0gl"
      },
      "execution_count": null,
      "outputs": []
    },
    {
      "cell_type": "code",
      "source": [
        "try:\n",
        "  clean_file(\"nombre.txt\")\n",
        "except FileNotFoundError:\n",
        "  print(\"El archivo no existe\")\n",
        "except ZeroDivisionError:\n",
        "  print(\"No se puede dividir por cero\")"
      ],
      "metadata": {
        "id": "sQNbu0mNv4oZ"
      },
      "execution_count": null,
      "outputs": []
    },
    {
      "cell_type": "code",
      "source": [
        "def concat(*paths):\n",
        "  if len(paths) == 0:\n",
        "    # raise ValueError(\"Function called without arguments\")\n",
        "    return (\"Se llamo la funcion sin archivos\")\n",
        "  file_contents =[]\n",
        "  # print(file_contents)\n",
        "  for path in paths:\n",
        "    # print(path)\n",
        "    try:\n",
        "      with open(path, \"r\") as f:\n",
        "        file_contents.append(f.readlines())\n",
        "    except FileNotFoundError:\n",
        "        print(f\"{path} is not found\")\n",
        "  concatenated_string = \"\"\n",
        "  for file in file_contents:\n",
        "    # print(file) # Solo para ver como corre el for\n",
        "    concatenated_string += \"\".join(file) + \", \"\n",
        "  return concatenated_string"
      ],
      "metadata": {
        "id": "NLNqZn-3w7DX"
      },
      "execution_count": null,
      "outputs": []
    },
    {
      "cell_type": "code",
      "source": [
        "mensaje =  concat(\"nombres.txt\", \"apellidos.txt\", \"barrios.txt\")\n",
        "print(mensaje)"
      ],
      "metadata": {
        "colab": {
          "base_uri": "https://localhost:8080/"
        },
        "id": "X5MJb1DByzx3",
        "outputId": "deba7e72-c3e2-4c2d-a16e-336d9a639676"
      },
      "execution_count": null,
      "outputs": [
        {
          "output_type": "stream",
          "name": "stdout",
          "text": [
            "barrios.txt is not found\n",
            "david, manuel, samuel, gregorio, jose, londono, henao, ardila, bustos, munoz, castelblanco, \n"
          ]
        }
      ]
    },
    {
      "cell_type": "code",
      "source": [
        "concat()"
      ],
      "metadata": {
        "colab": {
          "base_uri": "https://localhost:8080/",
          "height": 35
        },
        "id": "w6n_jAEW1H7b",
        "outputId": "a42a8a47-c830-4463-d6e6-5aef6cbd27a8"
      },
      "execution_count": null,
      "outputs": [
        {
          "output_type": "execute_result",
          "data": {
            "text/plain": [
              "'Se llamo la funcion sin archivos'"
            ],
            "application/vnd.google.colaboratory.intrinsic+json": {
              "type": "string"
            }
          },
          "metadata": {},
          "execution_count": 74
        }
      ]
    },
    {
      "cell_type": "code",
      "source": [
        "# numeros = [0, 1, 2]\n",
        "numeros = [1, 2, 3]\n",
        "for i in numeros:\n",
        "  print(i)\n",
        "  # print(numeros[i])\n",
        "\n",
        "for i in range(len(numeros)):\n",
        "  print(numeros[i])"
      ],
      "metadata": {
        "colab": {
          "base_uri": "https://localhost:8080/"
        },
        "id": "8Vv6wHEhxeGP",
        "outputId": "799a3725-ac07-4b29-e389-fcfde71ecaf8"
      },
      "execution_count": null,
      "outputs": [
        {
          "output_type": "stream",
          "name": "stdout",
          "text": [
            "1\n",
            "2\n",
            "3\n",
            "1\n",
            "2\n",
            "3\n"
          ]
        }
      ]
    },
    {
      "cell_type": "code",
      "source": [
        "# lista3 = [\"nombre\", \"apellido\", \"casa\"]\n",
        "lista3 = [\"nombre\", \"apellido\", \"casa\", \"barrio\"]\n",
        "for i in lista3:\n",
        "  print(i)\n",
        "rango_a_iterar = range(len(lista3))\n",
        "for i in rango_a_iterar:\n",
        "  print(i)"
      ],
      "metadata": {
        "colab": {
          "base_uri": "https://localhost:8080/"
        },
        "id": "RoyVnJaRyOBa",
        "outputId": "64754a23-270c-4745-d853-11283af582c0"
      },
      "execution_count": null,
      "outputs": [
        {
          "output_type": "stream",
          "name": "stdout",
          "text": [
            "nombre\n",
            "apellido\n",
            "casa\n",
            "barrio\n",
            "0\n",
            "1\n",
            "2\n",
            "3\n"
          ]
        }
      ]
    },
    {
      "cell_type": "code",
      "source": [
        "print(list(\"anana\"))\n",
        "palabra_como_lista = list(\"anana\")\n",
        "lista_como_palabra = \"\".join(palabra_como_lista)\n",
        "print(lista_como_palabra)"
      ],
      "metadata": {
        "colab": {
          "base_uri": "https://localhost:8080/"
        },
        "id": "TabiXNcRyPLp",
        "outputId": "f6728525-42a1-4bcf-e3bd-c3e3b5cc048b"
      },
      "execution_count": null,
      "outputs": [
        {
          "output_type": "stream",
          "name": "stdout",
          "text": [
            "['a', 'n', 'a', 'n', 'a']\n",
            "anana\n"
          ]
        }
      ]
    },
    {
      "cell_type": "code",
      "source": [
        "\"\"\"\n",
        "Exercise 142: Unique Characters\n",
        "Create a program that determines and displays the number of\n",
        "unique characters in a string entered by the user.\n",
        "For example, Hello, World! has 10 unique characters while zzz\n",
        "has only one unique character. Use a dictionary or set to solve\n",
        "this problem.\n",
        "\"\"\""
      ],
      "metadata": {
        "id": "q-nIhVkB4Cfk"
      },
      "execution_count": null,
      "outputs": []
    },
    {
      "cell_type": "code",
      "source": [
        "def count_unique(word):\n",
        "  # lista_palabra = list(word)\n",
        "  # diccionario_letras = {}\n",
        "  # for letra in lista_palabra:\n",
        "  #   diccionario_letras[letra] = 1\n",
        "  # acumulador = 0\n",
        "  # for valor in diccionario_letras.values():\n",
        "  #   acumulador += valor\n",
        "  # return acumulador\n",
        "  return len(set(word))"
      ],
      "metadata": {
        "id": "qe9m9ZCb4Uip"
      },
      "execution_count": null,
      "outputs": []
    },
    {
      "cell_type": "code",
      "source": [
        "palabra_ingresada = input(\"Ingresa un palabra \")\n",
        "print(count_unique(palabra_ingresada))"
      ],
      "metadata": {
        "colab": {
          "base_uri": "https://localhost:8080/"
        },
        "id": "rlplXt0F5CCp",
        "outputId": "d6596a69-20f1-47c7-dd2b-bdcd91a92822"
      },
      "execution_count": null,
      "outputs": [
        {
          "output_type": "stream",
          "name": "stdout",
          "text": [
            "Ingresa un palabra zzz\n",
            "1\n"
          ]
        }
      ]
    }
  ],
  "metadata": {
    "language_info": {
      "name": "python"
    },
    "colab": {
      "provenance": []
    },
    "kernelspec": {
      "name": "python3",
      "display_name": "Python 3"
    }
  },
  "nbformat": 4,
  "nbformat_minor": 0
}