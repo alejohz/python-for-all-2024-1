{
 "cells": [
  {
   "cell_type": "markdown",
   "metadata": {},
   "source": [
    "# Clase 7\n",
    "\n",
    "#### **Contenido**\n",
    "- Revisar dudas de ejercicios para prácticar de la clase anterior\n",
    "- Setup Inicial Python y VSCode (Que son IDEs?)\n",
    "- Terminar Archivos y Excepciones (Ejemplos)\n",
    "- Ejercicio 151\n",
    "- Ejercicio 142 (Función)\n",
    "- Ejercicio 143 (Función)\n",
    "- Módulos\n",
    "\n",
    "\n",
    "#### Ejercicios para practicar\n",
    "- Ejercicio 146\n",
    "- Ejercicio 168\n",
    "- Ejercicio 172\n",
    "  \n",
    "#### Temas de estudio\n",
    "- Que son expresiones regulares? Y porque son utiles?"
   ]
  },
  {
   "cell_type": "code",
   "execution_count": null,
   "metadata": {},
   "outputs": [],
   "source": []
  }
 ],
 "metadata": {
  "language_info": {
   "name": "python"
  }
 },
 "nbformat": 4,
 "nbformat_minor": 2
}
