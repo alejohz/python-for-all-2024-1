{
  "cells": [
    {
      "cell_type": "markdown",
      "metadata": {
        "id": "wVn-w-1WHEa6"
      },
      "source": [
        "# Clase 3\n",
        "Contenido\n",
        "- Preguntas ejercicios anteriores (10, 14, 21, 24, 28, 30, 37, 39, 40)\n",
        "- Módulo de ayuda (help)\n",
        "- Ejercicios (35, 36, 34) Repaso condicionales\n",
        "- Contenedores\n",
        "  - Listas (Repaso)\n",
        "  - Diccionarios\n",
        "  - Tuplas\n",
        "- Módulo matemático (Breve introducción a modulos y paquetes built-in)\n",
        "- Ejercicios (45, 60, 104)\n",
        "- Ciclos (For)\n",
        "- Listas (Sort y Sorted)\n",
        "- Ejercicios (114, 115)\n",
        "- Ciclos (While), sleep\n",
        "- Ejercicios (61, 62)\n",
        "- List comprehension (Comprensión de listas)"
      ]
    },
    {
      "cell_type": "markdown",
      "source": [
        "### Tema de estudio\n",
        "- [Dictionaries](https://www.w3schools.com/python/python_dictionaries.asp)\n",
        "- [For loops](https://www.w3schools.com/python/python_for_loops.asp)  \n",
        "\n",
        "### Ejercicios de estudio\n",
        "- 38, 46, 48, 50"
      ],
      "metadata": {
        "id": "LrvjlES-IBO-"
      }
    },
    {
      "cell_type": "code",
      "execution_count": null,
      "metadata": {
        "colab": {
          "base_uri": "https://localhost:8080/"
        },
        "id": "pZvWHmGLHEa8",
        "outputId": "ec05d482-2e73-4449-e3be-7c73170ab7fa"
      },
      "outputs": [
        {
          "output_type": "stream",
          "name": "stdout",
          "text": [
            "\n",
            "Here is a list of the Python keywords.  Enter any keyword to get more help.\n",
            "\n",
            "False               class               from                or\n",
            "None                continue            global              pass\n",
            "True                def                 if                  raise\n",
            "and                 del                 import              return\n",
            "as                  elif                in                  try\n",
            "assert              else                is                  while\n",
            "async               except              lambda              with\n",
            "await               finally             nonlocal            yield\n",
            "break               for                 not                 \n",
            "\n"
          ]
        }
      ],
      "source": [
        "# Modulo de ayuda\n",
        "# Hermano de print, input y type\n",
        "# Modulo de ayuda\n",
        "help(\"keywords\")"
      ]
    },
    {
      "cell_type": "code",
      "execution_count": null,
      "metadata": {
        "colab": {
          "base_uri": "https://localhost:8080/"
        },
        "id": "GfQWcNWUHEa9",
        "outputId": "641a2501-d66d-4adb-a674-b2519f33908f"
      },
      "outputs": [
        {
          "output_type": "stream",
          "name": "stdout",
          "text": [
            "Ingresa un entero: 30\n",
            "30 es par\n"
          ]
        }
      ],
      "source": [
        "# Ejercicio 35\n",
        "\"\"\"\n",
        "Write a program that reads an integer from the user. Then your program should\n",
        "display a message indicating whether the integer is even or odd.\n",
        "\"\"\"\n",
        "# Declarativo\n",
        "entero_ingresado = input(\"Ingresa un entero: \")\n",
        "entero_convertido = int(entero_ingresado)\n",
        "residuo_del_entero = entero_convertido % 2\n",
        "el_entero_es_par = residuo_del_entero == 0\n",
        "if el_entero_es_par: # Aqui estoy evaluando\n",
        "  print(entero_convertido, \"es par\")\n",
        "else:\n",
        "  print(entero_convertido, \"no es par\")"
      ]
    },
    {
      "cell_type": "code",
      "source": [
        "# Ejercicio 35 - Reescrito\n",
        "\"\"\"\n",
        "Write a program that reads an integer from the user. Then your program should\n",
        "display a message indicating whether the integer is even or odd.\n",
        "\"\"\"\n",
        "entero_convertido = int(input(\"Ingresa un entero: \"))\n",
        "if (entero_convertido % 2) == 0:\n",
        "  print(entero_convertido, \"es par\")\n",
        "else:\n",
        "  print(entero_convertido, \"no es par\")"
      ],
      "metadata": {
        "colab": {
          "base_uri": "https://localhost:8080/"
        },
        "id": "L3n9L5hRP35r",
        "outputId": "b1bf8419-1a3b-4c50-aae5-5f5fbd3e5a46"
      },
      "execution_count": null,
      "outputs": [
        {
          "output_type": "stream",
          "name": "stdout",
          "text": [
            "Ingresa un entero: 5\n",
            "5 no es par\n"
          ]
        }
      ]
    },
    {
      "cell_type": "code",
      "source": [
        "# Ejercicio 36\n",
        "\"\"\"\n",
        "It is commonly said that one human year is equivalent to 7 dog years. However\n",
        "this simple conversion fails to recognize that dogs reach adulthood in\n",
        "approximately two years. As a result, some people believe that it is better\n",
        "to count each of the first two human years as 10.5 dog years, and then count\n",
        "each additional human year as 4 dog years.\n",
        "Write a program that implements the conversion from human years to dog years\n",
        "described in the previous paragraph. Ensure that your program works correctly\n",
        "for conversions of less than two human years and for conversions of two or more\n",
        "human years. Your program should display an appropriate error message if the\n",
        "user enters a negative number.\n",
        "\n",
        "Primera hipotesis = 1 año humano son 7 años perrunos\n",
        "Entonces 5 años humanos son 35 años perrunos.\n",
        "\n",
        "Segunda hipotesis = los primeros dos años humanos son 10.5 años perrunos cada uno\n",
        "El resto son 4 años perrunos por cada año humano.\n",
        "Entonces 3 años humanos son 25 años perrunos.\n",
        "13 años son 65 años perrunos, (2 x 10.5) + (11 x 4) = 65\n",
        "\"\"\"\n",
        "\n",
        "edad_humana = input(\"Ingresa una edad :\")\n",
        "edad_humana_flotante = float(edad_humana)\n",
        "if edad_humana_flotante < 0: # Aqui recojo el error, si el numero es negativo\n",
        "  print(\"Recuerda que las edades solo pueden ser positivas\")\n",
        "else:\n",
        "  if edad_humana_flotante <= 2: # Aca comparo con menor a dos para calcular de la primer\n",
        "    # manera\n",
        "    edad_perruna = edad_humana_flotante * 10.5\n",
        "    print(\"La edad perruna es\", edad_perruna)\n",
        "  else:\n",
        "    parte_1 = 2 * 10.5 # Esta es la primer parte de la ecuacion, 2 x 10.5, siempre es 21\n",
        "    parte_2 = edad_humana_flotante - 2 # Esta es la segunda parte, la edad restante\n",
        "    edad_perruna = parte_1 + (parte_2 * 4) # Aqui calculo la edad perruna\n",
        "    print(\"La edad perruna es\", edad_perruna)\n"
      ],
      "metadata": {
        "colab": {
          "base_uri": "https://localhost:8080/"
        },
        "id": "sCjotavhRU4I",
        "outputId": "629ca1d0-47ad-4bbb-97bb-f40417471037"
      },
      "execution_count": null,
      "outputs": [
        {
          "output_type": "stream",
          "name": "stdout",
          "text": [
            "Ingresa una edad :5\n",
            "La edad perruna es 33.0\n"
          ]
        }
      ]
    },
    {
      "cell_type": "code",
      "source": [
        "# Ejercicio 36 - Reescrito\n",
        "edad_humana = input(\"Ingresa una edad :\")\n",
        "edad_humana_flotante = float(edad_humana)\n",
        "if edad_humana_flotante < 0: # Aqui recojo el error, si el numero es negativo\n",
        "  print(\"Recuerda que las edades solo pueden ser positivas\")\n",
        "elif edad_humana_flotante <= 2: # Aca comparo con menor a dos para calcular de la primer\n",
        "  # manera\n",
        "  edad_perruna = edad_humana_flotante * 10.5\n",
        "  print(\"La edad perruna es\", edad_perruna)\n",
        "else:\n",
        "  parte_1 = 2 * 10.5 # Esta es la primer parte de la ecuacion, 2 x 10.5, siempre es 21\n",
        "  parte_2 = edad_humana_flotante - 2 # Esta es la segunda parte, la edad restante\n",
        "  edad_perruna = parte_1 + (parte_2 * 4) # Aqui calculo la edad perruna\n",
        "  print(\"La edad perruna es\", edad_perruna)"
      ],
      "metadata": {
        "colab": {
          "base_uri": "https://localhost:8080/"
        },
        "id": "MftyWUVFZcXR",
        "outputId": "ec9aecba-0016-470e-c91d-fb46185c1d77"
      },
      "execution_count": null,
      "outputs": [
        {
          "output_type": "stream",
          "name": "stdout",
          "text": [
            "Ingresa una edad :-2\n",
            "Recuerda que las edades solo pueden ser positivas\n"
          ]
        }
      ]
    },
    {
      "cell_type": "code",
      "source": [
        "\"\"\"\n",
        "Exercise 34: Day Old Bread\n",
        "A bakery sells loaves of bread for $3.49 each. Day old bread is discounted by\n",
        "60 percent. Write a program that begins by reading the number of loaves of day\n",
        "old bread being purchased from the user. Then your program should display the\n",
        "regular price for the bread, the discount because it is a day old, and the total\n",
        "price. Each of these amounts should be displayed on its own line with an appropriate\n",
        "label. All of the values should be displayed using two decimal places, and the decimal\n",
        "points in all of the numbers should be aligned when reasonable values are entered by\n",
        "the user.\n",
        "\n",
        "Oferta:\n",
        "Pantalon a 100 pesos\n",
        "Con el 30 % de descuento\n",
        "El descuento es 30 pesos\n",
        "Pago 70 pesos\n",
        "\"\"\"\n",
        "cantidad_ingresada_texto = input(\"Cuantos pedazos de pan viejo va a comprar? \")\n",
        "cantidad_convertida = int(cantidad_ingresada_texto)\n",
        "precio_regular = cantidad_convertida * 3.49\n",
        "descuento = precio_regular * 0.6\n",
        "cantidad_a_pagar = precio_regular - descuento\n",
        "print(\"Precio Regular:\", precio_regular)\n",
        "print(\"Descuento:\", descuento)\n",
        "print(\"Cantidad total a pagar:\", cantidad_a_pagar)\n",
        "\n",
        "# Primera forma - Esta mal\n",
        "# Esta utilizando round, para redondear los numeros\n",
        "# round recibe el numero y el numero de decimales a redondear\n",
        "# Cuando el ultimo numero es cero, round lo elimina\n",
        "numero_de_digitos = 2\n",
        "print(\"Precio Regular:\", round(precio_regular, numero_de_digitos))\n",
        "print(\"Descuento:\", round(descuento, numero_de_digitos))\n",
        "print(\"Cantidad total a pagar:\", round(cantidad_a_pagar, numero_de_digitos))\n",
        "\n",
        "# Segunda forma\n",
        "print(\"Precio Regular: {:.2f}\".format(precio_regular)) # Lo que este adentro de format\n",
        "# Se va a poner dentro de las llaves en el texto\n",
        "# :.2f\n",
        "# : empieza el formato\n",
        "# . separador\n",
        "# 2 cantidad de decimales\n",
        "# f flotante\n",
        "print(\"Descuento: {:.2f}\".format(descuento))\n",
        "print(\"Cantidad total a pagar: {:.2f}\".format(cantidad_a_pagar))\n",
        "\n",
        "# Tercera forma\n",
        "# El profe usa más este\n",
        "# f strings poniendo el valor dentro de las llaves y empezando el string\n",
        "# con f\n",
        "print(f\"Precio Regular: {precio_regular:.2f}\")\n",
        "print(f\"Descuento: {descuento:.2f}\")\n",
        "print(f\"Cantidad total a pagar: {cantidad_a_pagar:.2f}\")\n"
      ],
      "metadata": {
        "colab": {
          "base_uri": "https://localhost:8080/"
        },
        "id": "rXgqbiBFaPS6",
        "outputId": "3ad698e6-c485-4949-f3a2-377dfd0e1237"
      },
      "execution_count": null,
      "outputs": [
        {
          "output_type": "stream",
          "name": "stdout",
          "text": [
            "Cuantos pedazos de pan viejo va a comprar? 20\n",
            "Precio Regular: 69.80000000000001\n",
            "Descuento: 41.88\n",
            "Cantidad total a pagar: 27.92000000000001\n",
            "Precio Regular: 69.8\n",
            "Descuento: 41.88\n",
            "Cantidad total a pagar: 27.92\n",
            "Precio Regular: 69.80\n",
            "Descuento: 41.88\n",
            "Cantidad total a pagar: 27.92\n",
            "Precio Regular: 69.80\n",
            "Descuento: 41.88\n",
            "Cantidad total a pagar: 27.92\n"
          ]
        }
      ]
    },
    {
      "cell_type": "code",
      "source": [
        "print(\"Precio Regular: {:.2f}\")\n",
        "print(\"Precio Regular: {:.2f}\".format(precio_regular))"
      ],
      "metadata": {
        "colab": {
          "base_uri": "https://localhost:8080/"
        },
        "id": "OlxlXD0-kScF",
        "outputId": "f4aabdf2-0591-4251-bb1c-7e3e49c8dc51"
      },
      "execution_count": null,
      "outputs": [
        {
          "output_type": "stream",
          "name": "stdout",
          "text": [
            "Precio Regular: {:.2f}\n",
            "Precio Regular: 34.90\n"
          ]
        }
      ]
    },
    {
      "cell_type": "code",
      "source": [
        "# La f antes de comillas convierte las strings en f-strings\n",
        "# Las f-strings, me permiten meter variables dentro del texto y formatearlas\n",
        "# Si no le pongo f, se escribe tal cual\n",
        "# Si le pongo f, sin llaves, se escribe tal cual\n",
        "# Pero si le pongo f, con llaves, dentro de las llaves debe ir una variable\n",
        "print(f\"Precio Regular:\", precio_regular)\n",
        "print(\"Precio Regular:\", precio_regular)\n",
        "print(f\"Precio Regular: {precio_regular}\")\n",
        "print(\"Precio Regular: {precio_regular}\")\n",
        "print(f\"Precio Regular: {precio_regular:.2f}\")\n"
      ],
      "metadata": {
        "colab": {
          "base_uri": "https://localhost:8080/"
        },
        "id": "lPR7U0Y-lAvC",
        "outputId": "c0631daa-aee8-4539-e5c8-3175371f8a7c"
      },
      "execution_count": null,
      "outputs": [
        {
          "output_type": "stream",
          "name": "stdout",
          "text": [
            "Precio Regular: 34.900000000000006\n",
            "Precio Regular: 34.900000000000006\n",
            "Precio Regular: 34.900000000000006\n",
            "Precio Regular: {precio_regular}\n",
            "Precio Regular: 34.90\n"
          ]
        }
      ]
    },
    {
      "cell_type": "code",
      "source": [
        "print(f\"El precio regular es {precio_regular}, el descuento es {descuento} y el precio total es {cantidad_a_pagar}\")"
      ],
      "metadata": {
        "colab": {
          "base_uri": "https://localhost:8080/"
        },
        "id": "OzMxPz30mG6W",
        "outputId": "f1f532cd-140f-424c-9993-30e7a05b917c"
      },
      "execution_count": null,
      "outputs": [
        {
          "output_type": "stream",
          "name": "stdout",
          "text": [
            "El precio regular es 34.900000000000006, el descuento es 20.94 y el precio total es 13.960000000000004\n"
          ]
        }
      ]
    },
    {
      "cell_type": "code",
      "source": [
        "texto = \"3141\"\n",
        "lista_del_texto = list(texto)\n",
        "print(lista_del_texto)\n",
        "print(lista_del_texto[0])\n",
        "lista_vacia = []\n",
        "# print(lista_vacia[0]) # No puedo acceder a elementos en una lista vacia\n",
        "lista_vacia.append(1)\n",
        "print(lista_vacia)\n",
        "print(len(lista_del_texto))\n",
        "# print(lista_del_texto[4])# no puedo acceder a elementos por fuera del indice\n",
        "lista_del_texto.insert(1, 5)\n",
        "print(lista_del_texto)"
      ],
      "metadata": {
        "colab": {
          "base_uri": "https://localhost:8080/"
        },
        "id": "ogUzI99YnmgB",
        "outputId": "b71b50d3-3a6a-4431-85dc-689e98fd1142"
      },
      "execution_count": null,
      "outputs": [
        {
          "output_type": "stream",
          "name": "stdout",
          "text": [
            "['3', '1', '4', '1']\n",
            "3\n",
            "[1]\n",
            "4\n",
            "['3', 5, '1', '4', '1']\n"
          ]
        }
      ]
    },
    {
      "cell_type": "code",
      "source": [
        "# Contenedores\n",
        "# Set\n",
        "lista_de_numeros = [1, 2, 3, 3, 3, 4 ,5] # lista\n",
        "print(lista_de_numeros)\n",
        "set_de_numeros = set(lista_de_numeros) # lista\n",
        "print(set_de_numeros)\n",
        "# Set dos particularidades vs las listas\n",
        "# Solo pueden tener objetos unicos y se arman con llaves\n",
        "set_mio = {10, 20, 40, 50, 80, 100, 1}\n",
        "print(type(set_mio))\n",
        "print(set_mio)\n",
        "\n",
        "# Ejercicio Angela\n",
        "lista_de_invitados = [\"1\", \"1\", \"2\", \"2\", \"3\", \"3\"]\n",
        "print(lista_de_invitados)\n",
        "set_de_invitados = set(lista_de_invitados)\n",
        "print(set_de_invitados)\n",
        "lista_de_invitados_unicos = list(set_de_invitados)\n",
        "print(lista_de_invitados_unicos)"
      ],
      "metadata": {
        "colab": {
          "base_uri": "https://localhost:8080/"
        },
        "id": "_5kWWt4upBLP",
        "outputId": "6f452e45-bb55-4338-a145-7ed753b2b396"
      },
      "execution_count": null,
      "outputs": [
        {
          "output_type": "stream",
          "name": "stdout",
          "text": [
            "[1, 2, 3, 3, 3, 4, 5]\n",
            "{1, 2, 3, 4, 5}\n",
            "<class 'set'>\n",
            "{80, 1, 50, 100, 20, 40, 10}\n",
            "['1', '1', '2', '2', '3', '3']\n",
            "{'2', '3', '1'}\n",
            "['2', '3', '1']\n"
          ]
        }
      ]
    },
    {
      "cell_type": "code",
      "source": [
        "# Diccionario -> dict\n",
        "# Los diccionarios tambien se llaman con llaves\n",
        "# PERO hay algo diferente, tienen conjuntos de llave, valor\n",
        "# Que siempre están unidos\n",
        "# key, value\n",
        "valentina = {\n",
        "    \"edad\": \"26 años\",\n",
        "    \"estatura\": \"168 cm\",\n",
        "    \"peso\": \"40 kg\",\n",
        "    \"barrio\": \"Envigado, Antioquia\",\n",
        "    \"nacionalidad\": \"colombiana\",\n",
        "    \"caracteristica_1\": 26\n",
        "}\n",
        "print(type(valentina))\n",
        "print(valentina)\n",
        "# Llaves\n",
        "print(valentina.keys())\n",
        "# Valores: Las cosas que están despues de los dos puntos\n",
        "print(valentina.values())\n",
        "# Quiero ver los valores dentros de las llaves\n",
        "print(valentina['peso'])\n",
        "# No puedo ver las llaves a partir de los valores\n",
        "# Porque los valores se pueden repetir\n",
        "# Pero las llaves no"
      ],
      "metadata": {
        "colab": {
          "base_uri": "https://localhost:8080/"
        },
        "id": "ToON_o50rv0u",
        "outputId": "7d2ce2d6-34ed-4055-92fe-cab0b4a08bbc"
      },
      "execution_count": null,
      "outputs": [
        {
          "output_type": "stream",
          "name": "stdout",
          "text": [
            "<class 'dict'>\n",
            "{'edad': '26 años', 'estatura': '168 cm', 'peso': '40 kg', 'barrio': 'Envigado, Antioquia', 'nacionalidad': 'colombiana', 'caracteristica_1': 26}\n",
            "dict_keys(['edad', 'estatura', 'peso', 'barrio', 'nacionalidad', 'caracteristica_1'])\n",
            "dict_values(['26 años', '168 cm', '40 kg', 'Envigado, Antioquia', 'colombiana', 26])\n",
            "40 kg\n"
          ]
        }
      ]
    },
    {
      "cell_type": "code",
      "source": [
        "meses = { \"enero\": 1, \"febrero\": 2, \"marzo\": 3}\n",
        "invitados = {\n",
        "    1: [\"Alejandro\", \"Henao\", 26, \"Envigado\"],\n",
        "    2: [\"Juan Miguel\", \"Orozco\", 26, \"Medellín\"],\n",
        "    3: {\"nombre\": \"Alejandro\"}\n",
        "}"
      ],
      "metadata": {
        "id": "REKGZ4J4s4dR"
      },
      "execution_count": null,
      "outputs": []
    },
    {
      "cell_type": "code",
      "source": [
        "mi_nuevo_diccionario = {\n",
        "    \"a\": 1,\n",
        "    \"b\": 2,\n",
        "    \"c\": 3,\n",
        "    \"d\": 4,\n",
        "    \"e\": 5,\n",
        "    \"f\": 6,\n",
        "    \"g\": 7\n",
        "  }\n",
        "print(\"Quiero traduir GEA a numeros\")\n",
        "print(mi_nuevo_diccionario[\"g\"])\n",
        "print(mi_nuevo_diccionario[\"e\"])\n",
        "print(mi_nuevo_diccionario[\"a\"])\n",
        "print(mi_nuevo_diccionario[\"g\"], mi_nuevo_diccionario[\"e\"], mi_nuevo_diccionario[\"a\"])\n",
        "print(f\"{mi_nuevo_diccionario['g']}{mi_nuevo_diccionario['e']}{mi_nuevo_diccionario['a']}\")"
      ],
      "metadata": {
        "colab": {
          "base_uri": "https://localhost:8080/"
        },
        "id": "EVnKl3jZu9J5",
        "outputId": "9e181b8b-a92d-465c-f7f3-a96ffee11aa4"
      },
      "execution_count": null,
      "outputs": [
        {
          "output_type": "stream",
          "name": "stdout",
          "text": [
            "Quiero traduir GEA a numeros\n",
            "7\n",
            "5\n",
            "1\n",
            "7 5 1\n",
            "751\n"
          ]
        }
      ]
    },
    {
      "cell_type": "code",
      "source": [
        "print(valentina[\"edad\"])\n",
        "valentina[\"edad\"] = \"27 años\" # Reescribiendo el valor que existe dentro de la llave\n",
        "# valentina\n",
        "print(valentina[\"edad\"])"
      ],
      "metadata": {
        "colab": {
          "base_uri": "https://localhost:8080/"
        },
        "id": "gz-x4XPZvynQ",
        "outputId": "a6ee6944-4e89-4c96-f472-359b06f29930"
      },
      "execution_count": null,
      "outputs": [
        {
          "output_type": "stream",
          "name": "stdout",
          "text": [
            "26 años\n",
            "27 años\n"
          ]
        }
      ]
    },
    {
      "cell_type": "code",
      "source": [
        "print(valentina.keys())"
      ],
      "metadata": {
        "colab": {
          "base_uri": "https://localhost:8080/"
        },
        "id": "eYl0QGz2w6sD",
        "outputId": "5956b75b-7660-4142-ebf5-731022b9891e"
      },
      "execution_count": null,
      "outputs": [
        {
          "output_type": "stream",
          "name": "stdout",
          "text": [
            "dict_keys(['edad', 'estatura', 'peso', 'barrio', 'nacionalidad', 'caracteristica_1'])\n"
          ]
        }
      ]
    },
    {
      "cell_type": "code",
      "source": [
        "valentina[\"lenguaje\"] = \"Python\" # Aqui cree una llave nueva (key)\n",
        "print(valentina.keys())"
      ],
      "metadata": {
        "colab": {
          "base_uri": "https://localhost:8080/"
        },
        "id": "-X8GcNyzwlIQ",
        "outputId": "66538f7b-d4a5-46de-bb7e-48e109c93529"
      },
      "execution_count": null,
      "outputs": [
        {
          "output_type": "stream",
          "name": "stdout",
          "text": [
            "dict_keys(['edad', 'estatura', 'peso', 'barrio', 'nacionalidad', 'caracteristica_1', 'lenguaje'])\n"
          ]
        }
      ]
    },
    {
      "cell_type": "code",
      "source": [
        "print(valentina)"
      ],
      "metadata": {
        "colab": {
          "base_uri": "https://localhost:8080/"
        },
        "id": "31Q1ZtkgxETK",
        "outputId": "e561c4ef-6378-4947-e467-2ae293af58ad"
      },
      "execution_count": null,
      "outputs": [
        {
          "output_type": "stream",
          "name": "stdout",
          "text": [
            "{'edad': '27 años', 'estatura': '168 cm', 'peso': '40 kg', 'barrio': 'Envigado, Antioquia', 'nacionalidad': 'colombiana', 'caracteristica_1': 26, 'lenguaje': 'Python'}\n"
          ]
        }
      ]
    },
    {
      "cell_type": "code",
      "source": [
        "print(valentina[\"peso\"])"
      ],
      "metadata": {
        "colab": {
          "base_uri": "https://localhost:8080/"
        },
        "id": "yDgunMm006--",
        "outputId": "d91d38e1-8ed2-4106-c590-a95aa01781b5"
      },
      "execution_count": null,
      "outputs": [
        {
          "output_type": "stream",
          "name": "stdout",
          "text": [
            "40 kg\n"
          ]
        }
      ]
    },
    {
      "cell_type": "code",
      "source": [
        "\"\"\"\n",
        "Exercise 45: Date to Holiday Name\n",
        "Canada has three national holidays which fall on the same dates each year.\n",
        "Holiday\n",
        "New Year’s Day Canada Day Christmas Day\n",
        "Date\n",
        "January 1 July 1 December 25\n",
        "Write a program that reads a month and day from the user.\n",
        "If the month and day match one of the holidays listed previously then\n",
        "your program should display the holiday’s name. Otherwise your program\n",
        "should indicate that the entered month and day do not correspond to a\n",
        "fixed-date holiday.\n",
        "\"\"\"\n",
        "month = input(\"Enter a month, beginning with capital: \")\n",
        "day = input(\"Enter a day: \")\n",
        "holidays = {\n",
        "    \"January 1\": \"New Year’s Day\",\n",
        "    \"July 1\": \"Canada Day\",\n",
        "    \"December 25\": \"Christmas Day\"\n",
        "}\n",
        "month_and_day = month + \" \" + day # Espacio\n",
        "# month_and_day = month + day\n",
        "# print(month_and_day)\n",
        "if month_and_day in holidays.keys(): # operador logico IN (dentro de)\n",
        "  print(holidays[month_and_day]) # busco el valor\n",
        "  # SOLO si la llave estaba DENTRO (IN) de las llaves del diccionario\n",
        "else:\n",
        "  print(\"The date entered is not a fixed-date holiday\")"
      ],
      "metadata": {
        "colab": {
          "base_uri": "https://localhost:8080/"
        },
        "id": "gQ_CaMPHxcDu",
        "outputId": "88c07d4b-cd79-44ab-8011-ffd9cc7e28ac"
      },
      "execution_count": null,
      "outputs": [
        {
          "output_type": "stream",
          "name": "stdout",
          "text": [
            "Enter a month, beginning with capital: January\n",
            "Enter a day: 1\n",
            "January1\n",
            "The date entered is not a fixed-date holiday\n"
          ]
        }
      ]
    }
  ],
  "metadata": {
    "kernelspec": {
      "display_name": "Python 3",
      "language": "python",
      "name": "python3"
    },
    "language_info": {
      "codemirror_mode": {
        "name": "ipython",
        "version": 3
      },
      "file_extension": ".py",
      "mimetype": "text/x-python",
      "name": "python",
      "nbconvert_exporter": "python",
      "pygments_lexer": "ipython3",
      "version": "3.9.6"
    },
    "colab": {
      "provenance": []
    }
  },
  "nbformat": 4,
  "nbformat_minor": 0
}