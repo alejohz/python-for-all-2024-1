{
  "cells": [
    {
      "cell_type": "markdown",
      "metadata": {
        "id": "WkAFv1sn5w1y"
      },
      "source": [
        "# Clase 6\n",
        "\n",
        "**Contenido**\n",
        "- Preguntas ejercicios anteriores\n",
        "- Nueva metodológia de temas de estudio\n",
        "- Instalar Python y VSCode (No los vamos a usar todavía)\n",
        "- Funciones (Repaso) y Métodos\n",
        "  - Funciones con argumentos posicionales indefinidos\n",
        "- Ejercicio 69 (Normal y Con funciones)\n",
        "- Operaciones con operadores combinados (+=, -=, *=, /=)\n",
        "- Archivos y Excepciones (Ejemplos)\n",
        "\n",
        "Ejercicios de estudio, los primeros 10 del capitulo 7 del libro.\n",
        "\n",
        "\n",
        "#### Temas de estudio\n",
        "- ¿Qué es Git?\n",
        "- Cuales son los principales comandos de Git\n",
        "- ¿Qué es GitHub?\n",
        "- ¿Qué es un repositorio?\n",
        "- ¿Qué es un commit?"
      ]
    },
    {
      "cell_type": "markdown",
      "metadata": {
        "id": "DVUV5ov25w1z"
      },
      "source": [
        "### Funciones (Repaso)\n",
        "Las funciones son bloques de código que se pueden reutilizar en cualquier parte del programa.\n",
        "Las funciones se definen con la palabra reservada `def` seguido del nombre de la función\n",
        "y los parámetros o argumentos que recibe.\n",
        "\n",
        "Temas a repasar:\n",
        "- Argumentos posicionales (Positional, Required)\n",
        "- Argumentos con valores por defecto (KeyWord, Default)\n",
        "- Retorno de valores o resultados"
      ]
    },
    {
      "cell_type": "code",
      "execution_count": 7,
      "metadata": {
        "id": "MxfE3aIy5w10"
      },
      "outputs": [],
      "source": [
        "def saludar_y_despedir(nombre):\n",
        "  print(f\"Buenas noches {nombre}\")\n",
        "  print(f\"Chao {nombre}\")"
      ]
    },
    {
      "cell_type": "code",
      "source": [
        "print(\"Hola Alejandro\")\n",
        "print(\"Hola Samuel\")\n",
        "print(\"Hola Juan\")\n",
        "print(\"Hola Santiago\")\n",
        "print(\"Hola Sebastian\")"
      ],
      "metadata": {
        "colab": {
          "base_uri": "https://localhost:8080/"
        },
        "id": "JIM0OQAvk0lQ",
        "outputId": "61102183-51d8-4bea-8b58-a5ba2e97a1a1"
      },
      "execution_count": 8,
      "outputs": [
        {
          "output_type": "stream",
          "name": "stdout",
          "text": [
            "Hola Alejandro\n",
            "Hola Samuel\n",
            "Hola Juan\n",
            "Hola Santiago\n",
            "Hola Sebastian\n"
          ]
        }
      ]
    },
    {
      "cell_type": "code",
      "source": [
        "saludar_y_despedir(\"Alejandro\")\n",
        "saludar_y_despedir(\"Samuel\")\n",
        "saludar_y_despedir(\"Juan\")\n",
        "saludar_y_despedir(\"Santiago\")\n",
        "saludar_y_despedir(\"Sebastian\")"
      ],
      "metadata": {
        "colab": {
          "base_uri": "https://localhost:8080/"
        },
        "id": "P5r5vqdrk841",
        "outputId": "2a031444-12d3-4d0c-dc6b-a2b509e03027"
      },
      "execution_count": 9,
      "outputs": [
        {
          "output_type": "stream",
          "name": "stdout",
          "text": [
            "Buenas noches Alejandro\n",
            "Chao Alejandro\n",
            "Buenas noches Samuel\n",
            "Chao Samuel\n",
            "Buenas noches Juan\n",
            "Chao Juan\n",
            "Buenas noches Santiago\n",
            "Chao Santiago\n",
            "Buenas noches Sebastian\n",
            "Chao Sebastian\n"
          ]
        }
      ]
    },
    {
      "cell_type": "code",
      "source": [
        "def nombre_mes(numero_mes):\n",
        "  meses = {\n",
        "      1: \"enero\",\n",
        "      2: \"febrero\",\n",
        "      6: \"junio\",\n",
        "      12: \"diciembre\",\n",
        "  }\n",
        "  print(meses.get(numero_mes, \"Esta llave no existe\"))\n",
        "  # Get es una forma de conseguir la llave, sin error"
      ],
      "metadata": {
        "id": "JEAXbSmBlWT-"
      },
      "execution_count": 15,
      "outputs": []
    },
    {
      "cell_type": "code",
      "source": [
        "nombre_mes(1)"
      ],
      "metadata": {
        "colab": {
          "base_uri": "https://localhost:8080/"
        },
        "id": "LhDC2y-ql5Ky",
        "outputId": "02c03916-67d9-4aa1-cce0-f6d6736e281d"
      },
      "execution_count": 18,
      "outputs": [
        {
          "output_type": "stream",
          "name": "stdout",
          "text": [
            "enero\n"
          ]
        }
      ]
    },
    {
      "cell_type": "code",
      "source": [
        "# Get es metodo de los diccionarios\n",
        "# Upper es un metodo de los strings\n",
        "# Append es un metodo de las listas\n",
        "# Insert es un metodo de las listas"
      ],
      "metadata": {
        "id": "9d4Dn2BJmjen"
      },
      "execution_count": null,
      "outputs": []
    },
    {
      "cell_type": "code",
      "source": [
        "print(\"hola mundo\".upper()) # metodo upper\n",
        "print(len([])) # funcion len"
      ],
      "metadata": {
        "colab": {
          "base_uri": "https://localhost:8080/"
        },
        "id": "RQzi4AUsmtbc",
        "outputId": "9566e25e-d5c8-4a1f-df86-3d859f50133b"
      },
      "execution_count": 21,
      "outputs": [
        {
          "output_type": "stream",
          "name": "stdout",
          "text": [
            "HOLA MUNDO\n",
            "0\n"
          ]
        }
      ]
    },
    {
      "cell_type": "code",
      "source": [
        "print(\"hola\".upper()) # upper pone en mayuscula\n",
        "print(\"HOLA\".lower()) # lower pone en minuscula\n",
        "print(\"Hola Mundo\".split()) # Split es un metodo que separa string\n",
        "# por los espacios\n",
        "print(\"  Hola \".strip()) # Strip es un metodo que quita espacios"
      ],
      "metadata": {
        "colab": {
          "base_uri": "https://localhost:8080/"
        },
        "id": "LGRK1bKYm6Dc",
        "outputId": "c7c486f0-75cc-4b5f-aaab-130025f11ce0"
      },
      "execution_count": 23,
      "outputs": [
        {
          "output_type": "stream",
          "name": "stdout",
          "text": [
            "HOLA\n",
            "hola\n",
            "['Hola', 'Mundo']\n",
            "Hola\n"
          ]
        }
      ]
    },
    {
      "cell_type": "code",
      "source": [
        "# Los metodos son funciones asociadas a los tipos de datos."
      ],
      "metadata": {
        "id": "T-yqFIo8nmlJ"
      },
      "execution_count": null,
      "outputs": []
    },
    {
      "cell_type": "code",
      "source": [
        "def mostrar_numeros(numero1, numero2):\n",
        "  print(numero1)\n",
        "  print(numero2)"
      ],
      "metadata": {
        "id": "1bWa_KPjnqzE"
      },
      "execution_count": 24,
      "outputs": []
    },
    {
      "cell_type": "code",
      "source": [
        "mostrar_numeros(2, 1)"
      ],
      "metadata": {
        "colab": {
          "base_uri": "https://localhost:8080/"
        },
        "id": "_sAWL7Q7n2KB",
        "outputId": "875f8b7f-370c-462d-c9a6-3db35ff6c6e2"
      },
      "execution_count": 26,
      "outputs": [
        {
          "output_type": "stream",
          "name": "stdout",
          "text": [
            "2\n",
            "1\n"
          ]
        }
      ]
    },
    {
      "cell_type": "code",
      "source": [
        "def restar_numeros(a, b):\n",
        "  print(a - b)"
      ],
      "metadata": {
        "id": "UtG1cLBan88v"
      },
      "execution_count": 27,
      "outputs": []
    },
    {
      "cell_type": "code",
      "source": [
        "restar_numeros(5, 10.0)"
      ],
      "metadata": {
        "colab": {
          "base_uri": "https://localhost:8080/"
        },
        "id": "kGSAcG_2oC2F",
        "outputId": "6c808983-0e36-4b02-8a00-f592f3c7292b"
      },
      "execution_count": 31,
      "outputs": [
        {
          "output_type": "stream",
          "name": "stdout",
          "text": [
            "-5.0\n"
          ]
        }
      ]
    },
    {
      "cell_type": "code",
      "source": [
        "# Posicionales tambien se llaman non-default\n",
        "# Keyword tambien se llaman default"
      ],
      "metadata": {
        "id": "OqyExERzowxo"
      },
      "execution_count": null,
      "outputs": []
    },
    {
      "cell_type": "code",
      "source": [
        "def saludar_nombre_apellido(\n",
        "    nombre=\"\",\n",
        "    apellido=\"\"\n",
        "):\n",
        "  print(f\"Hello nombre:{nombre} apellido:{apellido}\")"
      ],
      "metadata": {
        "id": "SSchcIb9oRst"
      },
      "execution_count": 43,
      "outputs": []
    },
    {
      "cell_type": "code",
      "source": [
        "saludar_nombre_apellido()"
      ],
      "metadata": {
        "colab": {
          "base_uri": "https://localhost:8080/"
        },
        "id": "c10pzRQfphU4",
        "outputId": "9aeab181-4fae-4f31-d719-c2531c50b367"
      },
      "execution_count": 44,
      "outputs": [
        {
          "output_type": "stream",
          "name": "stdout",
          "text": [
            "Hello nombre: apellido:\n"
          ]
        }
      ]
    },
    {
      "cell_type": "code",
      "source": [
        "saludar_nombre_apellido(apellido=\"arbelaez\", nombre=\"juan\")"
      ],
      "metadata": {
        "colab": {
          "base_uri": "https://localhost:8080/"
        },
        "id": "C9YWyOAgonem",
        "outputId": "709c1eed-651d-4c8a-b4ce-33d662661374"
      },
      "execution_count": 37,
      "outputs": [
        {
          "output_type": "stream",
          "name": "stdout",
          "text": [
            "Hello juan arbelaez\n"
          ]
        }
      ]
    },
    {
      "cell_type": "code",
      "source": [
        "def calculadora(a, b, operacion=\"suma\"):\n",
        "  if operacion == \"suma\":\n",
        "    print(a + b)\n",
        "  elif operacion == \"resta\":\n",
        "    print(a - b)\n",
        "  elif operacion == \"multiplicacion\":\n",
        "    print(a * b)\n",
        "  elif operacion == \"division\":\n",
        "    print(a / b)\n",
        "  else:\n",
        "    print(\"ERROR operación no soportada\")"
      ],
      "metadata": {
        "id": "mS_Un62ZpZ3d"
      },
      "execution_count": 69,
      "outputs": []
    },
    {
      "cell_type": "code",
      "source": [
        "calculadora(5, 10, operacion=\"division\")"
      ],
      "metadata": {
        "colab": {
          "base_uri": "https://localhost:8080/"
        },
        "id": "fvoXdrKqqEA5",
        "outputId": "047b6b8b-bd12-4619-81d0-18b9a7d28a6b"
      },
      "execution_count": 70,
      "outputs": [
        {
          "output_type": "stream",
          "name": "stdout",
          "text": [
            "0.5\n"
          ]
        }
      ]
    },
    {
      "cell_type": "code",
      "source": [
        "# def gasto_actual(mes_actual=2/05/2024.month)\n",
        "# gasto_actual(mes_actual=4)\n",
        "# def gasto_actual()\n",
        "#  mes_actual=2/05/2024.month"
      ],
      "metadata": {
        "id": "iStutjL8sj8e"
      },
      "execution_count": null,
      "outputs": []
    },
    {
      "cell_type": "code",
      "source": [
        "# argumentos nombrados\n",
        "texto_a_separar = \"Hola, mi nombre es Alejandro, y soy el, profesor\"\n",
        "print(texto_a_separar.split(sep=\",\"))"
      ],
      "metadata": {
        "colab": {
          "base_uri": "https://localhost:8080/"
        },
        "id": "fZZNOdoksl__",
        "outputId": "78f1599c-fe81-42d5-f67f-17b626da3038"
      },
      "execution_count": 74,
      "outputs": [
        {
          "output_type": "stream",
          "name": "stdout",
          "text": [
            "['Hola', ' mi nombre es Alejandro', ' y soy el', ' profesor']\n"
          ]
        }
      ]
    },
    {
      "cell_type": "code",
      "source": [
        "lista_1 = [1, 3, 2]\n",
        "print(lista_1) # 1 (1, 3, 2) OK\n",
        "print(sorted(lista_1)) # 2 (3, 2, 1) (1, 2, 3) OK\n",
        "print(lista_1.sort()) # 3 (3, 2, 1) # Porque salio None\n",
        "print(lista_1) # 4 (3, 2, 1) (1, 3, 2) # Porque salio 1,2,3"
      ],
      "metadata": {
        "colab": {
          "base_uri": "https://localhost:8080/"
        },
        "id": "Xq6T3LOBtlPE",
        "outputId": "20791a76-6198-49f1-d5a0-c91bb654be98"
      },
      "execution_count": 76,
      "outputs": [
        {
          "output_type": "stream",
          "name": "stdout",
          "text": [
            "[1, 3, 2]\n",
            "[1, 2, 3]\n",
            "None\n",
            "[1, 2, 3]\n"
          ]
        }
      ]
    },
    {
      "cell_type": "code",
      "source": [
        "# Las funciones que NO devuelven y modifican el valor original\n",
        "# se llaman funciones INLINE"
      ],
      "metadata": {
        "id": "Y1exNLRGwUwk"
      },
      "execution_count": null,
      "outputs": []
    },
    {
      "cell_type": "code",
      "source": [
        "def saludar(nombre):\n",
        "  return f\"hola {nombre}\""
      ],
      "metadata": {
        "id": "hYikF4aMuYSF"
      },
      "execution_count": null,
      "outputs": []
    },
    {
      "cell_type": "code",
      "source": [
        "texto = list(\"abecedario\")\n",
        "texto.sort()\n",
        "print(texto)"
      ],
      "metadata": {
        "colab": {
          "base_uri": "https://localhost:8080/"
        },
        "id": "9hvAxXBIvRoe",
        "outputId": "3424be54-6659-4600-a7fe-85572af05e65"
      },
      "execution_count": 79,
      "outputs": [
        {
          "output_type": "stream",
          "name": "stdout",
          "text": [
            "['a', 'a', 'b', 'c', 'd', 'e', 'e', 'i', 'o', 'r']\n"
          ]
        }
      ]
    },
    {
      "cell_type": "code",
      "source": [
        "texto = list(\"abecedario\")\n",
        "sorted(texto)\n",
        "print(texto)"
      ],
      "metadata": {
        "colab": {
          "base_uri": "https://localhost:8080/"
        },
        "id": "ug19Ln7VvTR-",
        "outputId": "42a93cc9-e098-4cb7-c2d3-7c2a979f60f7"
      },
      "execution_count": 81,
      "outputs": [
        {
          "output_type": "stream",
          "name": "stdout",
          "text": [
            "['a', 'a', 'b', 'c', 'd', 'e', 'e', 'i', 'o', 'r']\n"
          ]
        }
      ]
    },
    {
      "cell_type": "code",
      "source": [
        "\"texto a guardar\"\n",
        "print(1)\n"
      ],
      "metadata": {
        "colab": {
          "base_uri": "https://localhost:8080/"
        },
        "id": "uoQDGLTlvvS3",
        "outputId": "b2da4596-8d8a-48de-cbfd-7d38dc78a6a2"
      },
      "execution_count": 82,
      "outputs": [
        {
          "output_type": "stream",
          "name": "stdout",
          "text": [
            "1\n"
          ]
        }
      ]
    },
    {
      "cell_type": "code",
      "source": [
        "lista_2 = [4, 5, 6]\n",
        "lista_2.append(7)\n",
        "print(lista_2)"
      ],
      "metadata": {
        "colab": {
          "base_uri": "https://localhost:8080/"
        },
        "id": "ea4M53YHwIrC",
        "outputId": "03fa3120-081b-4794-b4d7-718e4a9b831c"
      },
      "execution_count": 83,
      "outputs": [
        {
          "output_type": "stream",
          "name": "stdout",
          "text": [
            "[4, 5, 6, 7]\n"
          ]
        }
      ]
    },
    {
      "cell_type": "markdown",
      "source": [
        "### Exercise 69: Admission Price  \n",
        "A particular zoo determines the price of admission based on the age of the guest. Guests 2 years of age and less are admitted without charge. Children between 3 and 12 years of age cost \\$14.00. Seniors aged 65 years and over cost \\$18.00. Admission\n",
        "for all other guests is $23.00.\n",
        "Create a program that begins by reading the ages of all of the guests in a group\n",
        "from the user, with one age entered on each line. The user will enter a blank line to indicate that there are no more guests in the group. Then your program should display the admission cost for the group with an appropriate message. The cost should be displayed using two decimal places."
      ],
      "metadata": {
        "id": "0acB62scx4-8"
      }
    },
    {
      "cell_type": "code",
      "source": [
        "# Que tenemos que utilizar\n",
        "# input, diccionario, condicional, while\n",
        "lista_edades = []\n",
        "edad = input(\"Escribe la edad del primer invitado \")\n",
        "while edad != \" \":\n",
        "  print(edad)\n",
        "  lista_edades.append(int(edad))\n",
        "  edad = input(\"Escribe la edad del siguiente invitado \")\n",
        "\n",
        "# for i in range(len(lista_edades)): # Indices\n",
        "precio = 0\n",
        "for edad in lista_edades: # Elementos\n",
        "  if edad <= 2:\n",
        "    precio += 0.0 # precio = precio + 0\n",
        "  elif edad >= 3 and edad <= 12:\n",
        "    precio += 14.00\n",
        "  elif edad >= 65:\n",
        "    precio += 18.00\n",
        "  else:\n",
        "    precio += 23.00\n",
        "\n",
        "print(\n",
        "    f\"El precio de admisión para los invitados es: {precio:.2f}\"\n",
        ")"
      ],
      "metadata": {
        "colab": {
          "base_uri": "https://localhost:8080/"
        },
        "id": "gScLqpSMx4mc",
        "outputId": "90ec8c0d-273a-4b4e-9209-6187cecdf77d"
      },
      "execution_count": 98,
      "outputs": [
        {
          "output_type": "stream",
          "name": "stdout",
          "text": [
            "Escribe la edad del primer invitado 4\n",
            "4\n",
            "Escribe la edad del siguiente invitado 20\n",
            "20\n",
            "Escribe la edad del siguiente invitado 70\n",
            "70\n",
            "Escribe la edad del siguiente invitado  \n",
            "El precio de admisión para los invitados es: 55.00\n"
          ]
        }
      ]
    },
    {
      "cell_type": "code",
      "source": [
        "def leer_edades(caracter_de_terminacion=\" \"):\n",
        "  lista_edades = []\n",
        "  edad = input(\"Escribe la edad del primer invitado \")\n",
        "  while edad != caracter_de_terminacion:\n",
        "    lista_edades.append(int(edad))\n",
        "    edad = input(\"Escribe la edad del siguiente invitado \")\n",
        "  return lista_edades\n",
        "\n",
        "def calcular_precio(lista_a_calcular):\n",
        "  precio = 0\n",
        "  for edad in lista_a_calcular:\n",
        "    if edad <= 2:\n",
        "      precio += 0.0\n",
        "    elif edad >= 3 and edad <= 12:\n",
        "      precio += 14.00\n",
        "    elif edad >= 65:\n",
        "      precio += 18.00\n",
        "    else:\n",
        "      precio += 23.00\n",
        "  return precio\n",
        "\n",
        "def formatear_salida(lista, valor):\n",
        "  print(\n",
        "      f\"La lista es {lista}\"\n",
        "  )\n",
        "  print(\n",
        "    f\"El precio de admisión para los invitados es: {valor:.2f}\"\n",
        "  )"
      ],
      "metadata": {
        "id": "ItsamKQB9fow"
      },
      "execution_count": 99,
      "outputs": []
    },
    {
      "cell_type": "code",
      "source": [
        "def main():\n",
        "  lista_edades = leer_edades()\n",
        "  precio = calcular_precio(lista_edades)\n",
        "  formatear_salida(lista_edades, precio)\n"
      ],
      "metadata": {
        "id": "VC2WYUK_BZkl"
      },
      "execution_count": 100,
      "outputs": []
    },
    {
      "cell_type": "code",
      "source": [
        "main()"
      ],
      "metadata": {
        "colab": {
          "base_uri": "https://localhost:8080/"
        },
        "id": "PNHR31DeB_-y",
        "outputId": "c418f0b2-8b11-4453-e4ed-487f04677218"
      },
      "execution_count": 101,
      "outputs": [
        {
          "output_type": "stream",
          "name": "stdout",
          "text": [
            "Escribe la edad del primer invitado 4\n",
            "Escribe la edad del siguiente invitado 20\n",
            "Escribe la edad del siguiente invitado 70\n",
            "Escribe la edad del siguiente invitado  \n",
            "La lista es [4, 20, 70]\n",
            "El precio de admisión para los invitados es: 55.00\n"
          ]
        }
      ]
    },
    {
      "cell_type": "code",
      "source": [
        "# Funciones con argumentos indefinidos\n",
        "print(1, 2, 3 ,4 , \"hola mundo\", \"5\", [], {}, \"1\",2, 3, 4)"
      ],
      "metadata": {
        "colab": {
          "base_uri": "https://localhost:8080/"
        },
        "id": "Ln125QxrCBKF",
        "outputId": "88db00ff-6fd4-447d-a1e1-f02b21820095"
      },
      "execution_count": 103,
      "outputs": [
        {
          "output_type": "stream",
          "name": "stdout",
          "text": [
            "1 2 3 4 hola mundo 5 [] {} 1 2 3 4\n"
          ]
        }
      ]
    },
    {
      "cell_type": "code",
      "source": [
        "def mostrar_lista(*lista):\n",
        "  # Starred expressions\n",
        "  lista_de_numeros = list(lista)\n",
        "  for elemento in lista_de_numeros:\n",
        "    print(elemento)\n",
        "\n",
        "mostrar_lista(1, 2, 3, 4, 100, 1000, 10000)\n",
        "## Expresiones indefinidas\n",
        "# *args -> nombre\n",
        "# normalmente en los ejemplos, se encuentra como\n",
        "# def function1(*args):\n",
        "#  args\n",
        "# Tema de estudio: **kwargs"
      ],
      "metadata": {
        "colab": {
          "base_uri": "https://localhost:8080/"
        },
        "id": "6zKyfjo_D2az",
        "outputId": "00d7af90-e275-46b2-8a2c-0288bf13b22c"
      },
      "execution_count": 111,
      "outputs": [
        {
          "output_type": "stream",
          "name": "stdout",
          "text": [
            "1\n",
            "2\n",
            "3\n",
            "4\n",
            "100\n",
            "1000\n",
            "10000\n"
          ]
        }
      ]
    },
    {
      "cell_type": "code",
      "source": [
        "print(range(1, 6))\n",
        "print(list(range(1, 6)))"
      ],
      "metadata": {
        "colab": {
          "base_uri": "https://localhost:8080/"
        },
        "id": "CAXhud-OE_fq",
        "outputId": "978f7f5c-f40f-419d-ded7-69d288ca8414"
      },
      "execution_count": 107,
      "outputs": [
        {
          "output_type": "stream",
          "name": "stdout",
          "text": [
            "range(1, 6)\n",
            "[1, 2, 3, 4, 5]\n"
          ]
        }
      ]
    },
    {
      "cell_type": "code",
      "source": [
        "f = open(\n",
        "    \"/content/sample_data/california_housing_test.csv\",\n",
        "    mode=\"r\"\n",
        ")\n",
        "lineas_del_archivo = f.readlines()\n",
        "# Si estuviera en modo w\n",
        "# f.writelines(linea)\n",
        "# f.write(TODO ESTE TEXTO SE ESCRIBE)\n",
        "f.close()\n",
        "print(f.closed)\n",
        "\n",
        "for i in range(6):\n",
        "  print(lineas_del_archivo[i])\n",
        "# modos de apertura\n",
        "# r, w, a\n",
        "# read\n",
        "# write\n",
        "# append\n",
        "# CSV es comma separated values\n",
        "# TXT es tab separated values (TSV)"
      ],
      "metadata": {
        "colab": {
          "base_uri": "https://localhost:8080/"
        },
        "id": "K0YeuwxiG0Ca",
        "outputId": "fda0cc3e-ef48-4ad6-b562-26b35819feb9"
      },
      "execution_count": 116,
      "outputs": [
        {
          "output_type": "stream",
          "name": "stdout",
          "text": [
            "True\n",
            "\"longitude\",\"latitude\",\"housing_median_age\",\"total_rooms\",\"total_bedrooms\",\"population\",\"households\",\"median_income\",\"median_house_value\"\n",
            "\n",
            "-122.050000,37.370000,27.000000,3885.000000,661.000000,1537.000000,606.000000,6.608500,344700.000000\n",
            "\n",
            "-118.300000,34.260000,43.000000,1510.000000,310.000000,809.000000,277.000000,3.599000,176500.000000\n",
            "\n",
            "-117.810000,33.780000,27.000000,3589.000000,507.000000,1484.000000,495.000000,5.793400,270500.000000\n",
            "\n",
            "-118.360000,33.820000,28.000000,67.000000,15.000000,49.000000,11.000000,6.135900,330000.000000\n",
            "\n",
            "-119.670000,36.330000,19.000000,1241.000000,244.000000,850.000000,237.000000,2.937500,81700.000000\n",
            "\n"
          ]
        }
      ]
    },
    {
      "cell_type": "code",
      "source": [
        "f = open(\n",
        "    \"datos.txt\",\n",
        "    mode=\"r\"\n",
        ")\n",
        "lineas_del_archivo = f.readlines()\n",
        "f.close()\n",
        "print(f.closed)\n",
        "\n",
        "for i in range(1):\n",
        "  print(lineas_del_archivo[i])"
      ],
      "metadata": {
        "colab": {
          "base_uri": "https://localhost:8080/"
        },
        "id": "mhgGlhUAHzox",
        "outputId": "506121ed-561a-4192-e20d-e32784637d3b"
      },
      "execution_count": 118,
      "outputs": [
        {
          "output_type": "stream",
          "name": "stdout",
          "text": [
            "True\n",
            "15,81,13,20,30\n"
          ]
        }
      ]
    }
  ],
  "metadata": {
    "language_info": {
      "name": "python"
    },
    "colab": {
      "provenance": []
    },
    "kernelspec": {
      "name": "python3",
      "display_name": "Python 3"
    }
  },
  "nbformat": 4,
  "nbformat_minor": 0
}