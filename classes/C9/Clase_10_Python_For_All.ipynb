{
 "cells": [
  {
   "cell_type": "markdown",
   "metadata": {},
   "source": [
    "# Clase 10 - Final\n",
    "\n",
    "#### **Contenido**\n",
    "- Recordatorio Evaluación al docente - Curso\n",
    "- Dudas ejercicio final (Hay plazo hasta el 16/05/2024 23:59)\n",
    "- Terminar POO\n",
    "- Ejercicios de repaso finales\n",
    "\n",
    "\n",
    "##### Temas muy útiles para que continuen aprendiendo\n",
    "- Git y Github\n",
    "- Pandas, Plotly (Ciencia de datos)\n",
    "- Pytorch, Tensorflow (Machine Learning)\n",
    "- Nube (AWS, Azure, GCP, etc)\n",
    "- FastAPI (Backend)"
   ]
  },
  {
   "cell_type": "code",
   "execution_count": null,
   "metadata": {},
   "outputs": [],
   "source": [
    "# POO - OOP\n",
    "# Programación orientada a objetos\n",
    "# Objetos es aquellas capsulas de código que representan algo en la vida real\n",
    "# Normalmente, las clases son sustantivos\n",
    "# ejemplos: Persona, Animal, Ruleta\n",
    "# Esos objetos van a tener Atributos y Funciones\n",
    "# Atributos son las cosas que describen al objeto\n",
    "# Funciones las cosas que puede hacer\n",
    "\n",
    "# Dos de los principales caracteristicas de la POO\n",
    "# La tercera no la vamos a ver, pero se llama POLIMORFISMO\n",
    "# Poliformismo: Una clase hija, puede comportarse diferente a una clase padre con los mismos metodos."
   ]
  },
  {
   "cell_type": "code",
   "execution_count": null,
   "metadata": {},
   "outputs": [],
   "source": [
    "# 1 caracteristica de POO es ENCAPSULAMIENTO\n",
    "# Persona - > Objeto\n",
    "# Atributos - > Cosas que describen el objeto\n",
    "# Edad\n",
    "# Nombre\n",
    "# Estatura\n",
    "# Peso\n",
    "\n",
    "# Funciones - > Cosas que hace el objeto o ejecuta\n",
    "# Hablar\n",
    "# Caminar\n",
    "# Comer"
   ]
  },
  {
   "cell_type": "code",
   "execution_count": 15,
   "metadata": {},
   "outputs": [
    {
     "name": "stdout",
     "output_type": "stream",
     "text": [
      "178\n",
      "Estoy caminando\n",
      "Mateo está comiendo\n",
      "True\n",
      "Mateo va a hablar: \n",
      "Hola yo soy mateo\n",
      "2.5428571428571427\n",
      "2.54\n"
     ]
    }
   ],
   "source": [
    "# Dentro del parentesis de INIT van los atributos que inicializo con llamo la clase\n",
    "class Persona:\n",
    "    def __init__(self, nombre, edad, estatura, peso): # Lo que hace es inicializar los atributos de la clase/objeto\n",
    "        self.nombre = nombre\n",
    "        self.edad = edad\n",
    "        self.estatura = estatura\n",
    "        self.peso = peso\n",
    "    \n",
    "    def caminar(self):\n",
    "        print(\"Estoy caminando\")\n",
    "    \n",
    "    def comer(self):\n",
    "        self.comiendo = True\n",
    "        print(f\"{self.nombre} está comiendo\")\n",
    "    \n",
    "    def hablar(self, texto=\"\"):\n",
    "        print(f\"{self.nombre} va a hablar: \\n{texto}\")\n",
    "\n",
    "    def mostrar_bmi(self):\n",
    "        print(f\"{self.bmi:.2f}\")\n",
    "    \n",
    "    def calcular_bmi(self):\n",
    "        self.bmi = self.estatura / self.peso\n",
    "\n",
    "\n",
    "# Los atributos NO tienen parentesis, los metodos SI tienen parentesis\n",
    "# En pandas\n",
    "# df.columns\n",
    "# df.describe()\n",
    "mateo = Persona(\"Mateo\", 18, 178, 70) # la clase es Persona, el objeto es mateo\n",
    "objeto1 = Persona(\"Santiago\", 25, 189, 90)\n",
    "\n",
    "print(mateo.estatura)\n",
    "mateo.caminar()\n",
    "# print(mateo.comiendo) # este atributo es creado dentro del metodo comer\n",
    "mateo.comer()\n",
    "print(mateo.comiendo)\n",
    "mateo.hablar(\"Hola yo soy mateo\")\n",
    "mateo.calcular_bmi()\n",
    "print(mateo.bmi)\n",
    "mateo.mostrar_bmi()"
   ]
  },
  {
   "cell_type": "code",
   "execution_count": 19,
   "metadata": {},
   "outputs": [
    {
     "name": "stdout",
     "output_type": "stream",
     "text": [
      "9\n",
      "2\n",
      "1\n"
     ]
    }
   ],
   "source": [
    "# Herencia\n",
    "\n",
    "class Poligono: # Creo la clase poligono\n",
    "    def __init__(self, lados): # Inicializo la clase con el atributo lados\n",
    "        self.lados = lados # Aca creo lados dentro de la clase\n",
    "\n",
    "    def calcular_perimetro(self): # Creo un metodo que se llama calcular_perimetro\n",
    "        self.perimetro = self.lados * self.lados # Creo un atributo que se llama perimetro\n",
    "\n",
    "# En la herencia, hay una clase Padre\n",
    "# Una clase hija, la clase hija, hereda los atributos y los metodos de su padre\n",
    "# Pero la clase padre, no tiene nada de la hija.\n",
    "\n",
    "class Circulo(Poligono): # Creo la clase Circulo, CLASE HIJA de Poligono\n",
    "    def __init__(self, lados):\n",
    "        super().__init__(lados)\n",
    "    \n",
    "    def calcular_area(self):\n",
    "        self.area = self.lados * 2\n",
    "\n",
    "triangulo = Poligono(3)\n",
    "triangulo.calcular_perimetro()\n",
    "print(triangulo.perimetro)\n",
    "\n",
    "circulo = Circulo(1)\n",
    "circulo.calcular_perimetro()\n",
    "circulo.calcular_area()\n",
    "print(circulo.area)\n",
    "print(circulo.perimetro)\n",
    "\n",
    "# triangulo.calcular_area()\n",
    "# triangulo.area"
   ]
  },
  {
   "cell_type": "markdown",
   "metadata": {},
   "source": [
    "### Exercise 1: Automated Grade Calculator\n",
    "Objective: Create a program that automates the grading process for a class and provides insights into the performance of the students.\n",
    "\n",
    "Context:\n",
    "You are tasked with developing a grade calculator for a class of students. The program should take into account the scores obtained by each student in multiple assignments and exams.\n",
    "\n",
    "Test Data is below.\n",
    "\n",
    "Exercise Steps:\n",
    "\n",
    "1. Implement a function calculate_final_grades(grades_data, weightage) that calculates the final grades for each student based on the provided weightage.\n",
    "2. Use a loop to iterate through the students' grades and apply the weightage to assignments and exams.\n",
    "3. Use conditionals to categorize the students into 'Pass' or 'Fail' based on a passing threshold (e.g., a final grade above 70% is a pass).\n",
    "4. Implement exception handling using try-except blocks to ensure the program handles unexpected errors gracefully.\n",
    "5. Display the final grades and the pass/fail status for each student."
   ]
  },
  {
   "cell_type": "code",
   "execution_count": 20,
   "metadata": {},
   "outputs": [],
   "source": [
    "# Student grades data (each list represents a student's scores)\n",
    "import random\n",
    "\n",
    "random.seed(42) # Semilla para que siempre se generen los mismos numeros aleatorios\n",
    "\n",
    "grades_data = []\n",
    "for i in range(30):\n",
    "    intermediate_list = []\n",
    "    for j in range(5):\n",
    "        intermediate_list.append(random.randint(0, 100))\n",
    "    grades_data.append(intermediate_list)\n",
    "\n",
    "# Weights for each assignment type\n",
    "weightage = {\n",
    "    'assignments': 0.4,\n",
    "    'exams': 0.6\n",
    "}\n",
    "\n",
    "# The second and last notes are exams, the rest are assignments"
   ]
  },
  {
   "cell_type": "code",
   "execution_count": 21,
   "metadata": {},
   "outputs": [
    {
     "name": "stdout",
     "output_type": "stream",
     "text": [
      "[[65, 74, 29, 99, 33], [63, 55, 76, 92, 88], [31, 46, 49, 30, 1], [100, 67, 0, 48, 24], [53, 15, 68, 68, 6], [27, 30, 28, 57, 85], [56, 51, 32, 85, 31], [30, 2, 37, 44, 37], [57, 16, 52, 43, 49], [79, 99, 67, 66, 1], [75, 16, 91, 74, 62], [98, 68, 41, 43, 33], [47, 52, 94, 89, 69], [52, 5, 73, 84, 43], [76, 24, 90, 36, 36], [18, 11, 31, 10, 43], [11, 85, 38, 12, 87], [36, 25, 81, 39, 81], [43, 51, 12, 0, 66], [1, 14, 21, 94, 72], [0, 43, 89, 66, 45], [26, 7, 75, 4, 53], [28, 63, 89, 91, 100], [65, 47, 20, 28, 12], [62, 13, 4, 52, 38], [27, 28, 37, 90, 14], [21, 12, 25, 25, 64], [46, 27, 47, 10, 49], [59, 15, 21, 99, 64], [12, 74, 98, 36, 93]]\n",
      "{'assignments': 0.4, 'exams': 0.6}\n"
     ]
    }
   ],
   "source": [
    "print(grades_data)\n",
    "print(weightage)"
   ]
  },
  {
   "cell_type": "code",
   "execution_count": 37,
   "metadata": {},
   "outputs": [
    {
     "name": "stdout",
     "output_type": "stream",
     "text": [
      "76.45\n"
     ]
    }
   ],
   "source": [
    "estudiante1 = [63, 55, 76, 92, 88]\n",
    "examenes_estudiante1 = ((estudiante1[1] + estudiante1[4]) / 2) * 0.1\n",
    "tareas_estudiante1 = ((estudiante1[0] + estudiante1[2] + estudiante1[3]) / 3) * 0.9\n",
    "nota_final_estudiante1 = (examenes_estudiante1 + tareas_estudiante1)\n",
    "print(nota_final_estudiante1)"
   ]
  },
  {
   "cell_type": "code",
   "execution_count": 42,
   "metadata": {},
   "outputs": [
    {
     "name": "stdout",
     "output_type": "stream",
     "text": [
      "57.83 Fail\n",
      "73.70 Pass\n",
      "28.77 Fail\n",
      "47.03 Fail\n",
      "31.50 Fail\n",
      "49.43 Fail\n",
      "47.67 Fail\n",
      "26.50 Fail\n",
      "39.77 Fail\n",
      "58.27 Fail\n",
      "55.40 Fail\n",
      "54.57 Fail\n",
      "66.97 Fail\n",
      "42.27 Fail\n",
      "44.93 Fail\n",
      "24.07 Fail\n",
      "59.73 Fail\n",
      "52.60 Fail\n",
      "42.43 Fail\n",
      "41.27 Fail\n",
      "47.07 Fail\n",
      "32.00 Fail\n",
      "76.63 Pass\n",
      "32.77 Fail\n",
      "31.03 Fail\n",
      "33.13 Fail\n",
      "32.27 Fail\n",
      "36.53 Fail\n",
      "47.57 Fail\n",
      "69.57 Fail\n"
     ]
    }
   ],
   "source": [
    "# Buena practica\n",
    "# Hacer type hinting (Pistas de los tipos)\n",
    "def calculate_final_grades( # Defino una funcion que se llama calculate_final_grades\n",
    "        data: list[list[int]], # Primer argumento posicional llamado data\n",
    "        weights: dict[float] # Segundo argumento posciional llamado weights\n",
    "    ):\n",
    "    final_grades = [] # Creo una lista vacia para almacenar las notas\n",
    "    for student in data: # itero por los estudiantes y calculo su nota final\n",
    "        if len(student) != 5\n",
    "        exams = ((student[1] + student[4]) / 2) * weights[\"exams\"] # Aca calculamos el peso de los examenes\n",
    "        assignments = ((student[0] + student[2] + student[3]) / 3) * weights[\"assignments\"]\n",
    "        # Aca calculamos el peso de las tareas\n",
    "        final_grade = (exams + assignments) # Aca calculamos la nota final\n",
    "        if final_grade > 70:\n",
    "            pass_status = \"Pass\"\n",
    "        else:\n",
    "            pass_status = \"Fail\"\n",
    "        final_grades.append(\n",
    "            [final_grade, pass_status]\n",
    "        )\n",
    "    \n",
    "    for student_final in final_grades:\n",
    "        print(f\"{student_final[0]:.2f} {student_final[1]}\")\n",
    "\n",
    "calculate_final_grades(grades_data, weightage)"
   ]
  },
  {
   "cell_type": "markdown",
   "metadata": {},
   "source": [
    "### Exercise 2: Word Frequency Counter\n",
    "Objective: Build a program that analyzes a text and provides insights into the frequency of words.\n",
    "\n",
    "Context:\n",
    "You are developing a word frequency counter for a language class. The program should analyze a given text and display the frequency of each word.\n",
    "\n",
    "Test Data is below.\n",
    "\n",
    "Exercise Steps:\n",
    "\n",
    "1. Implement a function count_word_frequency(text, stopwords) that takes a text and a list of stopwords and returns a dictionary with word frequencies.\n",
    "2. Use a loop to iterate through the words in the text, apply lowercasing, and exclude stopwords.\n",
    "3. Utilize a dictionary to store word frequencies, with words as keys and counts as values.\n",
    "4. Implement a class-based approach where the word frequency counter is a method of a TextAnalyzer class.\n",
    "5. Use list comprehension to filter out stopwords and handle exceptions for potential errors.\n",
    "6. Display the word frequencies in descending order."
   ]
  },
  {
   "cell_type": "code",
   "execution_count": null,
   "metadata": {},
   "outputs": [],
   "source": [
    "# Sample text\n",
    "text = \"Python is a versatile programming language. Python is widely used for web development and data analysis.\"\\\n",
    "    \" Python is very important in data analysis and data engineering\"\n",
    "\n",
    "# Sample stopwords (common words to be excluded from frequency analysis)\n",
    "stopwords = [\"is\", \"a\", \"for\", \"and\"]"
   ]
  }
 ],
 "metadata": {
  "kernelspec": {
   "display_name": "myenv",
   "language": "python",
   "name": "python3"
  },
  "language_info": {
   "codemirror_mode": {
    "name": "ipython",
    "version": 3
   },
   "file_extension": ".py",
   "mimetype": "text/x-python",
   "name": "python",
   "nbconvert_exporter": "python",
   "pygments_lexer": "ipython3",
   "version": "3.12.2"
  }
 },
 "nbformat": 4,
 "nbformat_minor": 2
}
