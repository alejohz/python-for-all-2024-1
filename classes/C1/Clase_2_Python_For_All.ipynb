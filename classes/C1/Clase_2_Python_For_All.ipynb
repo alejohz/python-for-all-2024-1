{
  "cells": [
    {
      "cell_type": "markdown",
      "metadata": {
        "id": "UUGgzUgQS4Ni"
      },
      "source": [
        "# Clase 2\n",
        "# Python for all\n",
        "Vamos a ver un repaso de la clase anterior y a grabarnos bien esos conceptos iniciales de Python.\n",
        "Con las bases listas, podemos seguir avanzando en el curso.\n",
        "\n",
        "La idea es que hoy veamos los siguientes temas:\n",
        "- Introducción a la programación. (Repaso)\n",
        "- Variables, expresiones, operadores. (Repaso)\n",
        "  - Añadir modulo, exponente, divison entera\n",
        "  - Añadir operador logicos\n",
        "- Tipos de datos y conversiones. (Repaso)\n",
        "  - Añadir booleano\n",
        "- Condicionales\n",
        "- Ejercicios (32, 34, 35, 36)\n",
        "- Contenedores\n",
        "- Ejercicios (45, 60, 104)\n",
        "- Ciclos"
      ]
    },
    {
      "cell_type": "markdown",
      "metadata": {
        "id": "CPqTvs4IS4Nk"
      },
      "source": [
        "### Tema de estudio\n",
        "- [Conditionals](https://www.w3schools.com/python/python_conditions.asp)\n",
        "- [Lists](https://www.w3schools.com/python/python_lists.asp)  \n",
        "\n",
        "### Ejercicios de estudio\n",
        "- 10, 14, 21, 24, 28, 30, 37, 39, 40"
      ]
    },
    {
      "cell_type": "markdown",
      "metadata": {
        "id": "WXoMoQAPS4Nk"
      },
      "source": [
        "## Introducción a la programación\n",
        "\n",
        "Programar es como crear una receta. Python es el chef, que va a seguir los pasos detalladamente."
      ]
    },
    {
      "cell_type": "code",
      "execution_count": 1,
      "metadata": {
        "colab": {
          "base_uri": "https://localhost:8080/"
        },
        "id": "PT5fezCdS4Nk",
        "outputId": "3e0ee4ea-810e-4710-f702-d2015f300e17"
      },
      "outputs": [
        {
          "output_type": "stream",
          "name": "stdout",
          "text": [
            "Hola, bienvenidos a la clase 2\n",
            "Hoy estuvo lloviendo antes de la clase\n",
            "Hoy vamos a aprender mucho\n"
          ]
        }
      ],
      "source": [
        "print(\"Hola, bienvenidos a la clase 2\")\n",
        "print(\"Hoy estuvo lloviendo antes de la clase\")\n",
        "print(\"Hoy vamos a aprender mucho\")"
      ]
    },
    {
      "cell_type": "code",
      "source": [
        "mensaje_1 = \"Hola, bienvenidos a la clase 2\"\n",
        "mensaje_2 = 'Hoy estuvo lloviendo antes de la clase'\n",
        "# Buenas practicas\n",
        "# Si voy a usar comilla simple '', sigo usando comilla simple ''\n",
        "# Si voy a usar comilla doble \"\", sigo usando comilla doble \"\"\n",
        "mensaje_3 = \"Hoy vamos a aprender mucho\"\n",
        "mensaje_4 = 'Hoy estuvo \"muy\" caliente'\n",
        "mensaje_5 = \"Let's talk\"\n",
        "print(mensaje_3)\n",
        "print(mensaje_1)\n",
        "print(mensaje_2)\n",
        "print(mensaje_4)\n",
        "print(mensaje_5)"
      ],
      "metadata": {
        "colab": {
          "base_uri": "https://localhost:8080/"
        },
        "id": "Phe4kPSRd7WH",
        "outputId": "7b5add96-a051-45c7-c685-01d58406e7b9"
      },
      "execution_count": 2,
      "outputs": [
        {
          "output_type": "stream",
          "name": "stdout",
          "text": [
            "Hoy vamos a aprender mucho\n",
            "Hola, bienvenidos a la clase 2\n",
            "Hoy estuvo lloviendo antes de la clase\n",
            "Hoy estuvo \"muy\" caliente\n",
            "Let's talk\n"
          ]
        }
      ]
    },
    {
      "cell_type": "code",
      "source": [
        "mensaje_4 = 'Hoy estuvo \"muy\" caliente' # Las comillas que estan funcionando\n",
        "# como apertura y cierre del texto, son las simples\n",
        "mensaje_5 = \"Let's talk\" # Las comillas que estan funcionando\n",
        "# como apaertura y cierre del texto, son las dobles\n",
        "print(mensaje_4)\n",
        "print(mensaje_5)"
      ],
      "metadata": {
        "colab": {
          "base_uri": "https://localhost:8080/"
        },
        "id": "Cc3e7idcinZ7",
        "outputId": "ea848d9d-a26f-456c-96be-0005dec99b64"
      },
      "execution_count": 9,
      "outputs": [
        {
          "output_type": "stream",
          "name": "stdout",
          "text": [
            "Hoy estuvo \"muy\" caliente\n",
            "Let's talk\n"
          ]
        }
      ]
    },
    {
      "cell_type": "code",
      "source": [
        "print(mensaje_1)"
      ],
      "metadata": {
        "colab": {
          "base_uri": "https://localhost:8080/"
        },
        "id": "6tB3_FH9hrlx",
        "outputId": "829fc587-b233-46a9-fe05-9b5038f26432"
      },
      "execution_count": 3,
      "outputs": [
        {
          "output_type": "stream",
          "name": "stdout",
          "text": [
            "Hola, bienvenidos a la clase 2\n"
          ]
        }
      ]
    },
    {
      "cell_type": "code",
      "source": [
        "# Reserved words (Palabras reservadas)\n",
        "# print = \"Hola Mundo\"\n",
        "# type = \"Hola Mundo 2\"\n",
        "# int = \"Hola Mundo 3\"\n",
        "# Estas cosas no se pueden hacer"
      ],
      "metadata": {
        "id": "hmVPbtlNfrma"
      },
      "execution_count": 4,
      "outputs": []
    },
    {
      "cell_type": "code",
      "source": [
        "print(1)"
      ],
      "metadata": {
        "colab": {
          "base_uri": "https://localhost:8080/"
        },
        "id": "1wz3pIuUhYhC",
        "outputId": "3dbe458e-26fd-4cc1-e91f-ed953180ffee"
      },
      "execution_count": 5,
      "outputs": [
        {
          "output_type": "stream",
          "name": "stdout",
          "text": [
            "1\n"
          ]
        }
      ]
    },
    {
      "cell_type": "code",
      "source": [
        "# print = \"Hola Mundo\" # Error, print esta reservado"
      ],
      "metadata": {
        "id": "5il7XQ7FhXGW"
      },
      "execution_count": 6,
      "outputs": []
    },
    {
      "cell_type": "code",
      "source": [
        "print(\"Cual fue el mensaje 1\", mensaje_1, \"Este fue el mensaje 1\")"
      ],
      "metadata": {
        "colab": {
          "base_uri": "https://localhost:8080/"
        },
        "id": "OP6jaxnyf9TT",
        "outputId": "306e85ab-3fc7-4786-a307-0d5daeea55e1"
      },
      "execution_count": 7,
      "outputs": [
        {
          "output_type": "stream",
          "name": "stdout",
          "text": [
            "Cual fue el mensaje 1 Hola, bienvenidos a la clase 2 Este fue el mensaje 1\n"
          ]
        }
      ]
    },
    {
      "cell_type": "code",
      "source": [
        "# A print le puedo pasar tantos\n",
        "print(1, \"Numero\", \"Hola\", \"Texto\", 23.1, \"Flotante\")"
      ],
      "metadata": {
        "colab": {
          "base_uri": "https://localhost:8080/"
        },
        "id": "Spj0IqLPh3t5",
        "outputId": "02629b52-0093-4a9e-f92e-5f9caed5323b"
      },
      "execution_count": 8,
      "outputs": [
        {
          "output_type": "stream",
          "name": "stdout",
          "text": [
            "1 Numero Hola Texto 23.1 Flotante\n"
          ]
        }
      ]
    },
    {
      "cell_type": "code",
      "source": [
        "# Operaciones\n",
        "# Asignacion\n",
        "variable1 = 5 # Estoy asignando con =\n",
        "# = es el operador asignacion"
      ],
      "metadata": {
        "id": "HbPKYKxvjpC8"
      },
      "execution_count": null,
      "outputs": []
    },
    {
      "cell_type": "code",
      "source": [
        "# Aritmeticas\n",
        "suma = 5 + 5\n",
        "resta = 10 - 5\n",
        "multiplicacion = 10 * 5\n",
        "division = 4 / 3\n",
        "potenciacion = 3 ** 2 # Potenciacion o exponente se hace con ** (^)"
      ],
      "metadata": {
        "id": "YY2FqgRljz3i"
      },
      "execution_count": null,
      "outputs": []
    },
    {
      "cell_type": "code",
      "source": [
        "# Divisiones\n",
        "division_2 = 3 / 4\n",
        "print(division_2)\n",
        "division_3 = 3 // 4 # Division entera\n",
        "print(division_3)\n",
        "division_4 = 25 // 2 # Division que me elimina los decimales\n",
        "print(division_4)"
      ],
      "metadata": {
        "colab": {
          "base_uri": "https://localhost:8080/"
        },
        "id": "m7DrckhBkLCk",
        "outputId": "50946bc2-7ebc-4910-f0b8-da37bebd01cb"
      },
      "execution_count": 15,
      "outputs": [
        {
          "output_type": "stream",
          "name": "stdout",
          "text": [
            "0.75\n",
            "0\n",
            "12\n"
          ]
        }
      ]
    },
    {
      "cell_type": "code",
      "source": [
        "# Modulo\n",
        "modulo_1 = 16 % 2 # operador modulo\n",
        "print(modulo_1)\n",
        "modulo_2 = 25 % 2 # operador residuo\n",
        "print(modulo_2)"
      ],
      "metadata": {
        "colab": {
          "base_uri": "https://localhost:8080/"
        },
        "id": "iHqA1wwQklk1",
        "outputId": "2a1ee512-b6c2-4554-d447-08e6f61ef928"
      },
      "execution_count": 16,
      "outputs": [
        {
          "output_type": "stream",
          "name": "stdout",
          "text": [
            "0\n",
            "1\n"
          ]
        }
      ]
    },
    {
      "cell_type": "code",
      "source": [
        "print(17 % 2) # Impar con modulo 2 da 1\n",
        "print(16 % 2) # Par con modulo 2 da 0"
      ],
      "metadata": {
        "colab": {
          "base_uri": "https://localhost:8080/"
        },
        "id": "h-ZN3D2xlrvz",
        "outputId": "2ec4cc3d-e16f-457f-dd7d-6c455324f498"
      },
      "execution_count": 17,
      "outputs": [
        {
          "output_type": "stream",
          "name": "stdout",
          "text": [
            "1\n",
            "0\n"
          ]
        }
      ]
    },
    {
      "cell_type": "code",
      "source": [
        "# Operaciones logicas\n",
        "# and\n",
        "tengo_frio = True\n",
        "tengo_chaqueta = True\n",
        "me_pongo_la_chaqueta = tengo_frio and tengo_chaqueta\n",
        "print(me_pongo_la_chaqueta)"
      ],
      "metadata": {
        "colab": {
          "base_uri": "https://localhost:8080/"
        },
        "id": "NPJH255-mdCY",
        "outputId": "a74f83e2-3402-41a3-b070-d0cf0f478615"
      },
      "execution_count": 19,
      "outputs": [
        {
          "output_type": "stream",
          "name": "stdout",
          "text": [
            "True\n"
          ]
        }
      ]
    },
    {
      "cell_type": "code",
      "source": [
        "tengo_frio = True\n",
        "tengo_chaqueta = False\n",
        "me_pongo_la_chaqueta = tengo_frio and tengo_chaqueta\n",
        "print(me_pongo_la_chaqueta)"
      ],
      "metadata": {
        "colab": {
          "base_uri": "https://localhost:8080/"
        },
        "id": "dmZjkSzAm5ON",
        "outputId": "a1201aaa-2fe6-4053-9cd7-9bc3143a2470"
      },
      "execution_count": 20,
      "outputs": [
        {
          "output_type": "stream",
          "name": "stdout",
          "text": [
            "False\n"
          ]
        }
      ]
    },
    {
      "cell_type": "code",
      "source": [
        "# Aqui tenemos cuatro palabras reservadas\n",
        "# False, True, and, print\n",
        "tengo_frio = False\n",
        "tengo_chaqueta = True\n",
        "me_pongo_la_chaqueta = tengo_frio and tengo_chaqueta\n",
        "print(me_pongo_la_chaqueta)"
      ],
      "metadata": {
        "colab": {
          "base_uri": "https://localhost:8080/"
        },
        "id": "O4IIHa8hm7-I",
        "outputId": "4f36fca1-2c4e-4c76-dd9c-4c80c820f860"
      },
      "execution_count": 21,
      "outputs": [
        {
          "output_type": "stream",
          "name": "stdout",
          "text": [
            "False\n"
          ]
        }
      ]
    },
    {
      "cell_type": "code",
      "source": [
        "tengo_frio = False\n",
        "tengo_chaqueta = False\n",
        "me_pongo_la_chaqueta = tengo_frio and tengo_chaqueta\n",
        "print(me_pongo_la_chaqueta)"
      ],
      "metadata": {
        "colab": {
          "base_uri": "https://localhost:8080/"
        },
        "id": "AJoJA6IcoADp",
        "outputId": "75dc36c6-27f8-4619-f196-4188dc8a3229"
      },
      "execution_count": 22,
      "outputs": [
        {
          "output_type": "stream",
          "name": "stdout",
          "text": [
            "False\n"
          ]
        }
      ]
    },
    {
      "cell_type": "code",
      "source": [
        "# En las operaciones logicas, utilizo variables booleanas\n",
        "# Asi como en las aritmeticas, utilizo numeros"
      ],
      "metadata": {
        "id": "c5ghO4MznA9N"
      },
      "execution_count": null,
      "outputs": []
    },
    {
      "cell_type": "code",
      "source": [
        "# En el operador and ambos lados de la operacion, deben ser verdaderos\n",
        "# numero_1 = 5\n",
        "# numero_2 = 1\n",
        "# numero_1 / numero_2\n",
        "# numero_1 es el lado izquierdo\n",
        "# / es el operador division\n",
        "# numero_2 es el lado derecho\n",
        "\n",
        "# tengo_frio = False\n",
        "# tengo_chaqueta = False\n",
        "# me_pongo_la_chaqueta = tengo_frio and tengo_chaqueta\n",
        "# tengo_frio es el lado izquierdo\n",
        "# tengo_chaqueta es el lado derecho\n",
        "# and es el operador y"
      ],
      "metadata": {
        "id": "566pnCs5m_sw"
      },
      "execution_count": null,
      "outputs": []
    },
    {
      "cell_type": "code",
      "source": [
        "# or\n",
        "comi_banano = True\n",
        "comi_mango = False\n",
        "comi_fruta = comi_banano or comi_mango\n",
        "print(comi_fruta)"
      ],
      "metadata": {
        "colab": {
          "base_uri": "https://localhost:8080/"
        },
        "id": "n6nJQ3ujnulx",
        "outputId": "4e39458a-7e84-48cc-e8d4-9c6cf11d965d"
      },
      "execution_count": 23,
      "outputs": [
        {
          "output_type": "stream",
          "name": "stdout",
          "text": [
            "True\n"
          ]
        }
      ]
    },
    {
      "cell_type": "code",
      "source": [
        "comi_banano = False\n",
        "comi_mango = True\n",
        "comi_fruta = comi_banano or comi_mango\n",
        "print(comi_fruta)"
      ],
      "metadata": {
        "colab": {
          "base_uri": "https://localhost:8080/"
        },
        "id": "hAaYtonGpIye",
        "outputId": "c781a595-1dc2-4886-9f24-9e0fe8948edc"
      },
      "execution_count": 24,
      "outputs": [
        {
          "output_type": "stream",
          "name": "stdout",
          "text": [
            "True\n"
          ]
        }
      ]
    },
    {
      "cell_type": "code",
      "source": [
        "comi_banano = False\n",
        "comi_mango = False\n",
        "comi_fruta = comi_banano or comi_mango\n",
        "print(comi_fruta)"
      ],
      "metadata": {
        "colab": {
          "base_uri": "https://localhost:8080/"
        },
        "id": "xk4rC9wlpPIr",
        "outputId": "3b6cbcca-d9cd-4aea-91bd-3607f2d352c8"
      },
      "execution_count": 25,
      "outputs": [
        {
          "output_type": "stream",
          "name": "stdout",
          "text": [
            "False\n"
          ]
        }
      ]
    },
    {
      "cell_type": "code",
      "source": [
        "comi_banano = True\n",
        "comi_mango = True\n",
        "comi_fruta = comi_banano or comi_mango\n",
        "print(comi_fruta)"
      ],
      "metadata": {
        "colab": {
          "base_uri": "https://localhost:8080/"
        },
        "id": "17sCQcXGpUD4",
        "outputId": "10451f54-9425-4b7c-fa67-39d7faa59a5e"
      },
      "execution_count": 26,
      "outputs": [
        {
          "output_type": "stream",
          "name": "stdout",
          "text": [
            "True\n"
          ]
        }
      ]
    },
    {
      "cell_type": "code",
      "source": [
        "# las cuatro combinaciones de variables booleanas\n",
        "# Es decir (1, 0), (1, 1), (0, 0), (0, 1)\n",
        "# (True, False), (True, True), (False, False), (False, True)\n",
        "# Porque las variables booleanas solo pueden ser True o False\n",
        "# Tienen estos resultados para los operadores and y or\n",
        "# and = False, True, False, False\n",
        "# or = True, True, False, True"
      ],
      "metadata": {
        "id": "oKHgFG2kpiTU"
      },
      "execution_count": null,
      "outputs": []
    },
    {
      "cell_type": "code",
      "source": [
        "tengo_calor = False\n",
        "# not operador negacion\n",
        "print(tengo_calor)\n",
        "tengo_frio = not tengo_calor\n",
        "print(tengo_frio)"
      ],
      "metadata": {
        "colab": {
          "base_uri": "https://localhost:8080/"
        },
        "id": "Q5uBYN44qY8R",
        "outputId": "603e350f-0e95-46ed-cf43-1857ec075da5"
      },
      "execution_count": 27,
      "outputs": [
        {
          "output_type": "stream",
          "name": "stdout",
          "text": [
            "False\n",
            "True\n"
          ]
        }
      ]
    },
    {
      "cell_type": "code",
      "source": [
        "# Si (algo)\n",
        "# Entonces (algo)\n",
        "# Si no (algo)\n",
        "# Algo, puede ser lo que nosotros queramos\n",
        "# Es decir, operaciones, asignaciones o comparaciones, o prints."
      ],
      "metadata": {
        "id": "Ba4klEJCvdOt"
      },
      "execution_count": null,
      "outputs": []
    },
    {
      "cell_type": "code",
      "source": [
        "# tengo_calor = True\n",
        "# tengo_pantaloneta = True"
      ],
      "metadata": {
        "id": "YJ7fQ0IuwBaK"
      },
      "execution_count": null,
      "outputs": []
    },
    {
      "cell_type": "code",
      "source": [
        "# Identacion\n",
        "# Los espacios que vemos dentro de los condicionales (Por ahora)\n",
        "# La identacion es para separar lo que esta adentro de lo que esta afuera\n",
        "# siempre hay que poner los dos puntos\n",
        "# Siempre hay que identar\n",
        "# Las buenas practicas entran para contar los espacios de la identacion\n",
        "tengo_frio = True\n",
        "tengo_chaqueta = True\n",
        "print(\"Estoy afuera del condicional\")\n",
        "if tengo_frio and tengo_chaqueta: # Si\n",
        "  print(\"Me pongo la chaqueta\") # Entonces\n",
        "else: # Si no\n",
        "  print(\"No me la pongo\") # Entonces si no\n",
        "  print(\"Estoy adentro del condicional\") # esta está identada\n",
        "print(\"Estoy otra vez afuera del condicional\") # esta no está identada"
      ],
      "metadata": {
        "colab": {
          "base_uri": "https://localhost:8080/"
        },
        "id": "XgoHq3civ4NT",
        "outputId": "c7389aa5-e921-4269-b0c2-02e7f470f9c1"
      },
      "execution_count": 33,
      "outputs": [
        {
          "output_type": "stream",
          "name": "stdout",
          "text": [
            "Estoy afuera del condicional\n",
            "Me pongo la chaqueta\n",
            "Estoy otra vez afuera del condicional\n"
          ]
        }
      ]
    },
    {
      "cell_type": "code",
      "source": [
        "tengo_frio = True\n",
        "tengo_chaqueta = True\n",
        "if tengo_frio and tengo_chaqueta: # Si\n",
        "  me_pongo_la_chaqueta = True # Entonces\n",
        "else: # Si no\n",
        "  me_pongo_la_chaqueta = False # Entonces si no\n",
        "print(me_pongo_la_chaqueta)"
      ],
      "metadata": {
        "colab": {
          "base_uri": "https://localhost:8080/"
        },
        "id": "Viyh7tfwyeyE",
        "outputId": "98ce433a-2f67-4008-a403-e22ba7853a3a"
      },
      "execution_count": 34,
      "outputs": [
        {
          "output_type": "stream",
          "name": "stdout",
          "text": [
            "True\n"
          ]
        }
      ]
    },
    {
      "cell_type": "code",
      "source": [
        "mes_actual = 4\n",
        "mes_actual_es_par = (mes_actual % 2) == 0\n",
        "print(mes_actual_es_par)"
      ],
      "metadata": {
        "colab": {
          "base_uri": "https://localhost:8080/"
        },
        "id": "4HLoKsqezIYg",
        "outputId": "56a9aa91-63f5-4060-a27e-9cd5a193d7b6"
      },
      "execution_count": 38,
      "outputs": [
        {
          "output_type": "stream",
          "name": "stdout",
          "text": [
            "True\n"
          ]
        }
      ]
    },
    {
      "cell_type": "code",
      "source": [
        "mes_actual = 4\n",
        "residuo = mes_actual % 2\n",
        "mes_actual_es_par = residuo == 0\n",
        "print(mes_actual_es_par)"
      ],
      "metadata": {
        "colab": {
          "base_uri": "https://localhost:8080/"
        },
        "id": "aBiel-Jf08yd",
        "outputId": "5fc5abfa-a4b7-41b0-cdb6-e592b4b1fe4b"
      },
      "execution_count": 45,
      "outputs": [
        {
          "output_type": "stream",
          "name": "stdout",
          "text": [
            "True\n"
          ]
        }
      ]
    },
    {
      "cell_type": "code",
      "source": [
        "print(residuo)"
      ],
      "metadata": {
        "colab": {
          "base_uri": "https://localhost:8080/"
        },
        "id": "n75vy6YF12yc",
        "outputId": "787d41da-6641-45db-c4db-763dcf6a7eb1"
      },
      "execution_count": 47,
      "outputs": [
        {
          "output_type": "stream",
          "name": "stdout",
          "text": [
            "0\n"
          ]
        }
      ]
    },
    {
      "cell_type": "code",
      "source": [
        "mes_actual = 11\n",
        "gasto_actual = 5\n",
        "residuo = mes_actual % 2\n",
        "mes_actual_es_par = residuo == 0\n",
        "if mes_actual_es_par:\n",
        "  print(\"El gasto de este mes fue:\", gasto_actual)\n",
        "else:\n",
        "  print(\"Este mes te fue muy bien\")"
      ],
      "metadata": {
        "colab": {
          "base_uri": "https://localhost:8080/"
        },
        "id": "KxHinZtN1Svo",
        "outputId": "22b1df35-4d52-4808-a509-6e8cc07b3c56"
      },
      "execution_count": 44,
      "outputs": [
        {
          "output_type": "stream",
          "name": "stdout",
          "text": [
            "Este mes te fue muy bien\n"
          ]
        }
      ]
    },
    {
      "cell_type": "code",
      "source": [
        "# If con multiples condiciones\n",
        "# Si (algo)\n",
        "# entonces (algo)\n",
        "# si no si (algo)\n",
        "# si no (algo)"
      ],
      "metadata": {
        "id": "l47XcAcT2TMR"
      },
      "execution_count": null,
      "outputs": []
    },
    {
      "cell_type": "code",
      "source": [
        "# 4, 11, 3\n",
        "gasto_actual = 5\n",
        "mes_actual = 3\n",
        "mes_actual_es_par = (mes_actual % 2) == 0\n",
        "if mes_actual_es_par:\n",
        "  print(\"El gasto fue:\", gasto_actual) # print 1\n",
        "elif mes_actual >= 6:\n",
        "  print(\"Aunque sea impar, aqui esta:\", gasto_actual) # print 2\n",
        "else:\n",
        "  print(\"Te fue muy bien este mes\") # print 3"
      ],
      "metadata": {
        "colab": {
          "base_uri": "https://localhost:8080/"
        },
        "id": "u2Ua4Y0l2oaO",
        "outputId": "3630f154-cad5-4990-ec95-3e94344a78d8"
      },
      "execution_count": 51,
      "outputs": [
        {
          "output_type": "stream",
          "name": "stdout",
          "text": [
            "El gasto fue: 5\n"
          ]
        }
      ]
    },
    {
      "cell_type": "code",
      "source": [
        "# 4, 11, 3\n",
        "gasto_actual = 5\n",
        "mes_actual = 3\n",
        "mes_actual_es_par = (mes_actual % 2) == 0\n",
        "if mes_actual_es_par:\n",
        "  print(\"El gasto fue:\", gasto_actual) # print 1\n",
        "elif mes_actual >= 6:\n",
        "  print(\"Aunque sea impar, aqui esta:\", gasto_actual) # print 2\n",
        "# Cuando pongo el else\n",
        "# Lo pongo solo cuando quiero que salga algo o que pase algo\n",
        "# Si ninguna condicion fue cumplida"
      ],
      "metadata": {
        "id": "CZ8c6ozQ4bmc"
      },
      "execution_count": 54,
      "outputs": []
    },
    {
      "cell_type": "code",
      "source": [
        "# Juan Miguel sugiere eliminar la variable es par\n",
        "# 4, 11, 3\n",
        "gasto_actual = 5\n",
        "mes_actual = 11\n",
        "if (mes_actual % 2) == 0:\n",
        "  print(\"El gasto fue:\", gasto_actual) # print 1\n",
        "elif mes_actual >= 6:\n",
        "  print(\"Aunque sea impar, aqui esta:\", gasto_actual) # print 2\n",
        "# Cuando pongo el else?\n",
        "# Lo pongo solo cuando quiero que salga algo o que pase algo\n",
        "# Si ninguna condicion fue cumplida"
      ],
      "metadata": {
        "colab": {
          "base_uri": "https://localhost:8080/"
        },
        "id": "67TtZCBq42QQ",
        "outputId": "05e31e91-46eb-49df-a938-ff8ea4213036"
      },
      "execution_count": 56,
      "outputs": [
        {
          "output_type": "stream",
          "name": "stdout",
          "text": [
            "Aunque sea impar, aqui esta: 5\n"
          ]
        }
      ]
    },
    {
      "cell_type": "code",
      "source": [
        "# Como poner o en condicionales\n",
        "comi_banano = False\n",
        "comi_mango = False\n",
        "\n",
        "if comi_banano or comi_mango:\n",
        "  print(\"Comi fruta hoy\")\n",
        "else:\n",
        "  print(\"No comi fruta\")"
      ],
      "metadata": {
        "colab": {
          "base_uri": "https://localhost:8080/"
        },
        "id": "aK2s7AB03z1-",
        "outputId": "e479d103-ebe4-495f-e11d-41bd4eec8545"
      },
      "execution_count": 58,
      "outputs": [
        {
          "output_type": "stream",
          "name": "stdout",
          "text": [
            "No comi fruta\n"
          ]
        }
      ]
    },
    {
      "cell_type": "code",
      "source": [
        "comi_banano = False\n",
        "comi_mango = True\n",
        "\n",
        "if comi_banano:\n",
        "  print(\"Comi fruta\")\n",
        "elif comi_mango:\n",
        "  print(\"Comi fruta\")\n",
        "else:\n",
        "  print(\"No comi fruta hoy\")"
      ],
      "metadata": {
        "colab": {
          "base_uri": "https://localhost:8080/"
        },
        "id": "sLbVflLj5s-7",
        "outputId": "37e596c0-35ae-409a-ac8a-70dca3d7f92d"
      },
      "execution_count": 62,
      "outputs": [
        {
          "output_type": "stream",
          "name": "stdout",
          "text": [
            "Comi fruta\n"
          ]
        }
      ]
    },
    {
      "cell_type": "code",
      "source": [
        "# Operadores de comparacion (redundantes)\n",
        "comi_banano = True\n",
        "if comi_banano:\n",
        "  print(\"Comi banano\")\n",
        "\n",
        "# if (Comparacion que sale verdadera)\n",
        "# if (valor que voy a comparar, que ya es booleano) Aqui estoy redundando\n",
        "# cuando si hago comparaciones\n",
        "# Cuando las variables, NO son booleanas\n",
        "if True:\n",
        "  print(\"Aqui siempre es verdadero\")\n",
        "\n",
        "if False:\n",
        "  print(\"Aqui siempre va a ser falso\")\n",
        "\n",
        "# if True == True: # Redundante\n",
        "\n"
      ],
      "metadata": {
        "colab": {
          "base_uri": "https://localhost:8080/"
        },
        "id": "2NSjh3aV6T-s",
        "outputId": "d6ff745f-8b82-44c2-cea8-73dd425ea433"
      },
      "execution_count": 66,
      "outputs": [
        {
          "output_type": "stream",
          "name": "stdout",
          "text": [
            "Comi banano\n",
            "Aqui siempre es verdadero\n"
          ]
        }
      ]
    },
    {
      "cell_type": "code",
      "source": [
        "# Operadores de comparación\n",
        "# menor, mayor, igual\n",
        "# <, >, ==\n",
        "# OJO, operador igualacion es doble igual, es decir, ==\n",
        "igualdad = 5 == 5\n",
        "menor = 4 < 5\n",
        "mayor = 4 > 5\n",
        "menor_o_igual = 4 <= 5\n",
        "mayor_o_igual = 4 >= 5\n",
        "print(igualdad)\n",
        "print(menor)\n",
        "print(mayor)\n",
        "print(menor_o_igual)\n",
        "print(mayor_o_igual)"
      ],
      "metadata": {
        "colab": {
          "base_uri": "https://localhost:8080/"
        },
        "id": "XxNm2TiCzSx5",
        "outputId": "285548fb-38df-41e6-ef7f-5671ca01ead3"
      },
      "execution_count": 37,
      "outputs": [
        {
          "output_type": "stream",
          "name": "stdout",
          "text": [
            "True\n",
            "True\n",
            "False\n",
            "True\n",
            "False\n"
          ]
        }
      ]
    },
    {
      "cell_type": "code",
      "source": [
        "# Como se hacen bloques de comentario\n",
        "\"\"\"\n",
        "Ejercicio 32\n",
        "Develop a program that reads a four-digit integer from the user\n",
        "and displays the sum of its digits.\n",
        "For example, if the user enters 3141 then your program should display\n",
        "3+1+4+1=9.\n",
        "\"\"\"\n",
        "'''\n",
        "Este es otro bloque de comentarios.\n",
        "Aca puedo copiar varias lineas\n",
        "Y no tiene que empezar cada linea por #\n",
        "'''"
      ],
      "metadata": {
        "id": "h1TPqWuk8u4u"
      },
      "execution_count": null,
      "outputs": []
    },
    {
      "cell_type": "code",
      "source": [
        "entero_de_cuatro_digitos = input(\"Ingresa un entero de 4 digitos: \")\n",
        "print(entero_de_cuatro_digitos)"
      ],
      "metadata": {
        "colab": {
          "base_uri": "https://localhost:8080/"
        },
        "id": "KVICZoHI-Sdy",
        "outputId": "3d32629f-fe54-4d65-d062-de565452eee7"
      },
      "execution_count": 68,
      "outputs": [
        {
          "output_type": "stream",
          "name": "stdout",
          "text": [
            "Ingresa un entero de 4 digitos: 3409\n",
            "3409\n"
          ]
        }
      ]
    },
    {
      "cell_type": "code",
      "source": [
        "# Contenedores\n",
        "# Lista o array o list\n",
        "meses = [1, 2, 3, 4, 5, 6, 7, 8, 9, 10, 11, 12]\n",
        "nombre_de_los_meses = [\n",
        "    \"enero\",\n",
        "    \"febrero\",\n",
        "    \"marzo\",\n",
        "    \"abril\",\n",
        "    \"mayo\",\n",
        "    \"junio\",\n",
        "    \"julio\",\n",
        "    \"agosto\",\n",
        "    \"septiembre\",\n",
        "    \"octubre\",\n",
        "    \"noviembre\",\n",
        "    \"diciembre\"\n",
        "  ]\n",
        "# Como puedo saber cuantos elementos tienen mis listas?\n",
        "# para esto tenemos una nueva palabra reservada\n",
        "print(len(meses))\n",
        "print(len(nombre_de_los_meses))\n",
        "print(len(meses) == 12)\n",
        "print(type(meses))\n",
        "print(type(nombre_de_los_meses))"
      ],
      "metadata": {
        "colab": {
          "base_uri": "https://localhost:8080/"
        },
        "id": "xADrecXe-0Gv",
        "outputId": "a9b1408a-2786-450a-bcc5-4f2bffe6752f"
      },
      "execution_count": 72,
      "outputs": [
        {
          "output_type": "stream",
          "name": "stdout",
          "text": [
            "12\n",
            "12\n",
            "True\n",
            "<class 'list'>\n",
            "<class 'list'>\n"
          ]
        }
      ]
    },
    {
      "cell_type": "code",
      "source": [
        "# Como puedo acceder a los valores que hay dentro de mi lista?\n",
        "# Indexing (Indexado)\n",
        "# Los indices son correspondientes a la posicion de mi elemento\n",
        "# dentro de la lista\n",
        "# OJO: En Python, el primer indice siempre es 0."
      ],
      "metadata": {
        "id": "2f5t73AuA8iV"
      },
      "execution_count": null,
      "outputs": []
    },
    {
      "cell_type": "code",
      "source": [
        "print(meses[0]) # PRIMER elemento\n",
        "print(meses[1]) # SEGUNDO elemento\n",
        "print(meses[-1]) # ULTIMO elemento\n",
        "print(meses[11]) # Ultimo indice"
      ],
      "metadata": {
        "colab": {
          "base_uri": "https://localhost:8080/"
        },
        "id": "DnBmHK6cBPBq",
        "outputId": "b2072929-f578-441b-f4fe-66209a64d279"
      },
      "execution_count": 76,
      "outputs": [
        {
          "output_type": "stream",
          "name": "stdout",
          "text": [
            "1\n",
            "2\n",
            "12\n",
            "12\n"
          ]
        }
      ]
    },
    {
      "cell_type": "code",
      "source": [
        "meses"
      ],
      "metadata": {
        "id": "raKy0eXGB3BV"
      },
      "execution_count": null,
      "outputs": []
    },
    {
      "cell_type": "code",
      "source": [
        "\"\"\"\n",
        "append: Este método se utiliza para agregar un elemento al final de la lista.\n",
        "Cada vez que llamas a append, el elemento se añade al final de la lista, sin\n",
        "afectar la posición de otros elementos.\n",
        "Ejemplo de append:\n",
        "\"\"\""
      ],
      "metadata": {
        "id": "z3iBpAOlCbw_"
      },
      "execution_count": null,
      "outputs": []
    },
    {
      "cell_type": "code",
      "source": [
        "my_list = [1, 2, 3]\n",
        "\n",
        "# Agregar el número 4 al final de la lista\n",
        "my_list.append(4)\n",
        "\n",
        "print(my_list)  # Output: [1, 2, 3, 4]\n"
      ],
      "metadata": {
        "colab": {
          "base_uri": "https://localhost:8080/"
        },
        "id": "IXBPT55TCjzU",
        "outputId": "73f6ee3c-0970-478c-92e6-80aea5b288a4"
      },
      "execution_count": 77,
      "outputs": [
        {
          "output_type": "stream",
          "name": "stdout",
          "text": [
            "[1, 2, 3, 4]\n"
          ]
        }
      ]
    },
    {
      "cell_type": "code",
      "source": [
        "\"\"\"\n",
        "A diferencia de append, el método insert se utiliza para insertar un elemento\n",
        " en una posición específica de la lista. Toma dos argumentos: el índice en el\n",
        " que quieres insertar el elemento y el elemento que deseas insertar. Después de\n",
        " la inserción, los elementos existentes se desplazan hacia la derecha.\n",
        " Ejemplo de insert:\n",
        "\"\"\""
      ],
      "metadata": {
        "id": "lDv1i8pPC4v2"
      },
      "execution_count": null,
      "outputs": []
    },
    {
      "cell_type": "code",
      "source": [
        "my_list = [1, 2, 3]\n",
        "\n",
        "# Insertar el número 4 en la posición 1 (segundo lugar)\n",
        "my_list.insert(1, 4)\n",
        "\n",
        "print(my_list)  # Output: [1, 4, 2, 3]\n"
      ],
      "metadata": {
        "id": "bRauIVg3C3pM"
      },
      "execution_count": null,
      "outputs": []
    },
    {
      "cell_type": "code",
      "source": [
        "texto_de_prueba = \"Hola! Mundo?\"\n",
        "texto_como_lista = list(texto_de_prueba)\n",
        "print(texto_como_lista)"
      ],
      "metadata": {
        "colab": {
          "base_uri": "https://localhost:8080/"
        },
        "id": "Ux7WQQIADr52",
        "outputId": "5c88ece2-4e13-42ec-e65b-4656af51a9fc"
      },
      "execution_count": 83,
      "outputs": [
        {
          "output_type": "stream",
          "name": "stdout",
          "text": [
            "['H', 'o', 'l', 'a', '!', ' ', 'M', 'u', 'n', 'd', 'o', '?']\n"
          ]
        }
      ]
    },
    {
      "cell_type": "code",
      "source": [
        "numero_de_prueba = \"3409\"\n",
        "numero_como_lista = list(numero_de_prueba)\n",
        "print(numero_como_lista)"
      ],
      "metadata": {
        "colab": {
          "base_uri": "https://localhost:8080/"
        },
        "id": "PPMvdSkuDOGT",
        "outputId": "82ec3975-101b-497c-e8f8-6597f33e1774"
      },
      "execution_count": 80,
      "outputs": [
        {
          "output_type": "stream",
          "name": "stdout",
          "text": [
            "['3', '4', '0', '9']\n"
          ]
        }
      ]
    },
    {
      "cell_type": "code",
      "source": [
        "# Como se hacen bloques de comentario\n",
        "\"\"\"\n",
        "Ejercicio 32\n",
        "Develop a program that reads a four-digit integer from the user\n",
        "and displays the sum of its digits.\n",
        "For example, if the user enters 3141 then your program should display\n",
        "3+1+4+1=9.\n",
        "\"\"\"\n",
        "'''\n",
        "Este es otro bloque de comentarios.\n",
        "Aca puedo copiar varias lineas\n",
        "Y no tiene que empezar cada linea por #\n",
        "'''"
      ],
      "metadata": {
        "id": "q42-z3hNEJ_K"
      },
      "execution_count": null,
      "outputs": []
    },
    {
      "cell_type": "code",
      "source": [
        "numero_a_sumar = input(\"Ingresa un numero de cuatro digitos, entero: \")\n",
        "# OJO recuerda que todo lo que entre con input es texto, sin importar si yo escribo\n",
        "# numeros\n",
        "# print(type(numero_a_sumar))\n",
        "numero_como_lista = list(numero_a_sumar)\n",
        "primer_digito = int(numero_como_lista[0])\n",
        "segundo_digito = int(numero_como_lista[1])\n",
        "tercer_digito = int(numero_como_lista[2])\n",
        "cuarto_digito = int(numero_como_lista[3])\n",
        "suma_de_los_digitos = primer_digito + segundo_digito + tercer_digito + cuarto_digito\n",
        "print(suma_de_los_digitos)"
      ],
      "metadata": {
        "colab": {
          "base_uri": "https://localhost:8080/"
        },
        "id": "3_BuiZGEEKXw",
        "outputId": "81ad48e5-d495-46ef-eece-82cb470f0c3e"
      },
      "execution_count": 89,
      "outputs": [
        {
          "output_type": "stream",
          "name": "stdout",
          "text": [
            "Ingresa un numero de cuatro digitos, entero: 3141\n",
            "9\n"
          ]
        }
      ]
    }
  ],
  "metadata": {
    "language_info": {
      "name": "python"
    },
    "colab": {
      "provenance": []
    },
    "kernelspec": {
      "name": "python3",
      "display_name": "Python 3"
    }
  },
  "nbformat": 4,
  "nbformat_minor": 0
}