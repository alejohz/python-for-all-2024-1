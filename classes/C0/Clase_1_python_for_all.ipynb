{
  "cells": [
    {
      "cell_type": "markdown",
      "metadata": {},
      "source": [
        "# Clase 1\n",
        "- I/O: Entrada y Salida Básica\n",
        "- Tipos de Datos:\n",
        "- int\n",
        "- float\n",
        "- String\n",
        "    - 'Simple'\n",
        "    - \"Doble\"\n",
        "    - \"\"\"Triple\"\"\"\n",
        "- bool\n",
        "- Variables\n",
        "- Tipado dinámico\n",
        "- Comentarios\n",
        "- Aritmética y Operadores\n",
        "- Contenedores:\n",
        "    - Lista\n",
        "    - Tupla\n",
        "    - Diccionarios\n",
        "    - Conjuntos\n",
        "- Valores de Verdad y Comparaciones\n",
        "- Palabras reservadas"
      ]
    },
    {
      "cell_type": "markdown",
      "metadata": {
        "id": "D4gyz_xifKVW"
      },
      "source": [
        "Fecha: 16/04/2024  \n",
        "Autor: Alejandro Henao  \n",
        "Propósito: Para aprender  "
      ]
    },
    {
      "cell_type": "markdown",
      "metadata": {
        "id": "Z2MtcrmTe6FQ"
      },
      "source": [
        "Hoy vamos a ver unos temas, entre esos variables, operaciones, tipos de datos y cuadernos con google colab."
      ]
    },
    {
      "cell_type": "markdown",
      "metadata": {
        "id": "_jdz3E8EfAzf"
      },
      "source": [
        "Lo primero que vamos a ver es la \"funcion\" print que me permite ver valores."
      ]
    },
    {
      "cell_type": "code",
      "execution_count": 62,
      "metadata": {
        "colab": {
          "base_uri": "https://localhost:8080/"
        },
        "id": "LMUto0DoSoof",
        "outputId": "a1dedf67-f179-4903-d897-93b974b30e36"
      },
      "outputs": [
        {
          "name": "stdout",
          "output_type": "stream",
          "text": [
            "Hola Mundo\n"
          ]
        }
      ],
      "source": [
        "print(\"Hola Mundo\")"
      ]
    },
    {
      "cell_type": "code",
      "execution_count": 63,
      "metadata": {
        "id": "rNO1FQugTKg2"
      },
      "outputs": [],
      "source": [
        "# Descomente estas lineas porque me estaba saliendo un error\n",
        "# Si quieres que te salga el error\n",
        "# Descomentalas (Es decir, quita el # del inicio)\n",
        "# pirnt(\"Hola Mundo\")\n",
        "# Print(\"\")"
      ]
    },
    {
      "cell_type": "code",
      "execution_count": 64,
      "metadata": {
        "colab": {
          "base_uri": "https://localhost:8080/"
        },
        "id": "5zYrBqLrS45Y",
        "outputId": "209de2a5-c53d-41b5-8651-c2b3fce9acdc"
      },
      "outputs": [
        {
          "name": "stdout",
          "output_type": "stream",
          "text": [
            "Hola 2\n"
          ]
        }
      ],
      "source": [
        "print(\"Hola 2\")  # Esta linea de codigo muestra Hola 2, en la parte de abajo de la celda"
      ]
    },
    {
      "cell_type": "code",
      "execution_count": 65,
      "metadata": {
        "colab": {
          "base_uri": "https://localhost:8080/",
          "height": 53
        },
        "id": "yL9UGydJUoCF",
        "outputId": "37d8e062-bf82-4453-c0bc-7b64f4d8353f"
      },
      "outputs": [
        {
          "name": "stdout",
          "output_type": "stream",
          "text": [
            "Escoge un numero5\n"
          ]
        },
        {
          "data": {
            "application/vnd.google.colaboratory.intrinsic+json": {
              "type": "string"
            },
            "text/plain": [
              "'5'"
            ]
          },
          "execution_count": 65,
          "metadata": {},
          "output_type": "execute_result"
        }
      ],
      "source": [
        "input(\"Escoge un numero\")"
      ]
    },
    {
      "cell_type": "code",
      "execution_count": 66,
      "metadata": {
        "colab": {
          "base_uri": "https://localhost:8080/"
        },
        "id": "-yUdrgVcXwPV",
        "outputId": "7b74ddce-c903-4c2c-8d07-a23a471f3373"
      },
      "outputs": [
        {
          "name": "stdout",
          "output_type": "stream",
          "text": [
            "10\n"
          ]
        }
      ],
      "source": [
        "# a no ha sido definido, si no comento la linea, sale un error\n",
        "# print(a*2)"
      ]
    },
    {
      "cell_type": "markdown",
      "metadata": {
        "id": "cudOgY_mdJxh"
      },
      "source": [
        "Variable = Es una caja o contenedor que me permite guardar valores."
      ]
    },
    {
      "cell_type": "code",
      "execution_count": 67,
      "metadata": {
        "id": "4QbRqat2Uz1j"
      },
      "outputs": [],
      "source": [
        "a = 5\n",
        "b = 5\n",
        "variable1 = 5\n",
        "variable3 = 15\n",
        "temperatura = 23.1\n",
        "nombre = \"Alejandro\"\n",
        "x, y = 10, 10\n",
        "puerta_abierta = True\n"
      ]
    },
    {
      "cell_type": "markdown",
      "metadata": {
        "id": "PsLRgqlRVvX3"
      },
      "source": [
        "\"\" Si esta entre comillas es string (Lista de caracteres)"
      ]
    },
    {
      "cell_type": "code",
      "execution_count": 68,
      "metadata": {
        "colab": {
          "base_uri": "https://localhost:8080/"
        },
        "id": "m_4N4ngvVlal",
        "outputId": "3b759362-31d0-4ac1-8649-53c135f9b280"
      },
      "outputs": [
        {
          "name": "stdout",
          "output_type": "stream",
          "text": [
            "a\n"
          ]
        }
      ],
      "source": [
        "print(\"a\")"
      ]
    },
    {
      "cell_type": "code",
      "execution_count": 69,
      "metadata": {
        "colab": {
          "base_uri": "https://localhost:8080/"
        },
        "id": "tJq1OT3wV2R7",
        "outputId": "0542b169-f79d-4a12-e6b5-5939c68eea77"
      },
      "outputs": [
        {
          "name": "stdout",
          "output_type": "stream",
          "text": [
            "5\n"
          ]
        }
      ],
      "source": [
        "print(a)"
      ]
    },
    {
      "cell_type": "code",
      "execution_count": 70,
      "metadata": {
        "colab": {
          "base_uri": "https://localhost:8080/"
        },
        "id": "vvHyk6HBV6NU",
        "outputId": "30be5dd9-9e89-49be-c242-8e6b6e8d6b43"
      },
      "outputs": [
        {
          "name": "stdout",
          "output_type": "stream",
          "text": [
            "5\n"
          ]
        }
      ],
      "source": [
        "print(variable1)"
      ]
    },
    {
      "cell_type": "code",
      "execution_count": 71,
      "metadata": {
        "colab": {
          "base_uri": "https://localhost:8080/"
        },
        "id": "z8c0W4aPV-3V",
        "outputId": "cb21cae5-82b9-4eb6-c271-0e34277c7e74"
      },
      "outputs": [
        {
          "name": "stdout",
          "output_type": "stream",
          "text": [
            "Alejandro\n"
          ]
        }
      ],
      "source": [
        "print(nombre)"
      ]
    },
    {
      "cell_type": "code",
      "execution_count": 72,
      "metadata": {
        "colab": {
          "base_uri": "https://localhost:8080/"
        },
        "id": "f4Zo0xqDWAtf",
        "outputId": "4b85a8c4-456c-4d1c-e630-3ea541bb0d8a"
      },
      "outputs": [
        {
          "name": "stdout",
          "output_type": "stream",
          "text": [
            "nombre\n"
          ]
        }
      ],
      "source": [
        "print(\"nombre\")"
      ]
    },
    {
      "cell_type": "markdown",
      "metadata": {
        "id": "44pcxC0qWTyR"
      },
      "source": [
        "int -> integer (entero).\n",
        "str -> string (lista de caracteres)\n",
        "float -> float (flotante)"
      ]
    },
    {
      "cell_type": "code",
      "execution_count": 73,
      "metadata": {
        "colab": {
          "base_uri": "https://localhost:8080/"
        },
        "id": "pMM2c9qFWHfG",
        "outputId": "816322b1-2eea-47b2-9777-b532aa975c9d"
      },
      "outputs": [
        {
          "name": "stdout",
          "output_type": "stream",
          "text": [
            "<class 'int'>\n",
            "<class 'int'>\n",
            "<class 'str'>\n"
          ]
        }
      ],
      "source": [
        "print(type(a))\n",
        "print(type(variable1))\n",
        "print(type(nombre))"
      ]
    },
    {
      "cell_type": "code",
      "execution_count": 74,
      "metadata": {
        "colab": {
          "base_uri": "https://localhost:8080/"
        },
        "id": "hJ2ZbqJEWXyX",
        "outputId": "e5d72fe4-9ee8-46eb-db04-c60bdbc571e0"
      },
      "outputs": [
        {
          "name": "stdout",
          "output_type": "stream",
          "text": [
            "<class 'float'>\n"
          ]
        }
      ],
      "source": [
        "print(type(temperatura))"
      ]
    },
    {
      "cell_type": "code",
      "execution_count": 75,
      "metadata": {
        "colab": {
          "base_uri": "https://localhost:8080/"
        },
        "id": "ZRG_zHlVWj5h",
        "outputId": "12452175-e18a-4110-ccaa-cdaf550f2054"
      },
      "outputs": [
        {
          "name": "stdout",
          "output_type": "stream",
          "text": [
            "5\n",
            "23.1\n"
          ]
        }
      ],
      "source": [
        "print(variable1)\n",
        "print(temperatura)"
      ]
    },
    {
      "cell_type": "code",
      "execution_count": 76,
      "metadata": {
        "colab": {
          "base_uri": "https://localhost:8080/"
        },
        "id": "ePHiUbx7W3Xd",
        "outputId": "0f58b90d-a77d-4661-ec46-936455dcbd6f"
      },
      "outputs": [
        {
          "name": "stdout",
          "output_type": "stream",
          "text": [
            "15\n"
          ]
        }
      ],
      "source": [
        "print(variable3)"
      ]
    },
    {
      "cell_type": "code",
      "execution_count": 77,
      "metadata": {
        "colab": {
          "base_uri": "https://localhost:8080/"
        },
        "id": "JnFJZBOvWnLX",
        "outputId": "3973d003-758e-471f-9402-bb39729c3d83"
      },
      "outputs": [
        {
          "name": "stdout",
          "output_type": "stream",
          "text": [
            "<class 'int'>\n",
            "<class 'float'>\n"
          ]
        }
      ],
      "source": [
        "print(type(variable1))\n",
        "print(type(temperatura))"
      ]
    },
    {
      "cell_type": "code",
      "execution_count": 78,
      "metadata": {
        "id": "07ZHm1h2XWD5"
      },
      "outputs": [],
      "source": [
        "variable5=25"
      ]
    },
    {
      "cell_type": "code",
      "execution_count": 79,
      "metadata": {
        "colab": {
          "base_uri": "https://localhost:8080/"
        },
        "id": "T-Df9Ap-XYCF",
        "outputId": "f50d1c18-d126-49b2-f1f2-203089f1b537"
      },
      "outputs": [
        {
          "name": "stdout",
          "output_type": "stream",
          "text": [
            "5\n",
            "5\n",
            "25\n"
          ]
        }
      ],
      "source": [
        "a=5\n",
        "print(a)\n",
        "a=\"5\"\n",
        "print(a)\n",
        "a=25\n",
        "print(a)"
      ]
    },
    {
      "cell_type": "code",
      "execution_count": 80,
      "metadata": {
        "colab": {
          "base_uri": "https://localhost:8080/"
        },
        "id": "ECsa4IFZc1lG",
        "outputId": "176aeef2-112a-42f7-96af-dbf83fe92ac6"
      },
      "outputs": [
        {
          "name": "stdout",
          "output_type": "stream",
          "text": [
            "5\n",
            "5\n",
            "25\n"
          ]
        }
      ],
      "source": [
        "a=5\n",
        "print(a)\n",
        "a=\"5\"\n",
        "print(a)\n",
        "a=25\n",
        "print(a)"
      ]
    },
    {
      "cell_type": "code",
      "execution_count": 81,
      "metadata": {
        "colab": {
          "base_uri": "https://localhost:8080/"
        },
        "id": "msmkxTi6Xa0V",
        "outputId": "05426080-f188-403d-abd1-a3f788bcde5b"
      },
      "outputs": [
        {
          "name": "stdout",
          "output_type": "stream",
          "text": [
            "25\n"
          ]
        }
      ],
      "source": [
        "print(a)"
      ]
    },
    {
      "cell_type": "code",
      "execution_count": 82,
      "metadata": {
        "id": "qf-UUKFAX1sa"
      },
      "outputs": [],
      "source": [
        "a=10"
      ]
    },
    {
      "cell_type": "code",
      "execution_count": 83,
      "metadata": {
        "id": "Sdan2RS_dyS_"
      },
      "outputs": [],
      "source": [
        "edad_mia=26\n",
        "reporte_gerencial = \"Para mi gerente, especialmente, tuvimos unas ganancias de ....\"\n",
        "temperatura_16_04=32\n",
        "mes_actual=4\n",
        "gasto_actual=30000000\n"
      ]
    },
    {
      "cell_type": "code",
      "execution_count": 84,
      "metadata": {
        "colab": {
          "base_uri": "https://localhost:8080/"
        },
        "id": "wo150Zq5gPcP",
        "outputId": "aa207e08-dc0d-4cca-f132-6c81f155c3ec"
      },
      "outputs": [
        {
          "name": "stdout",
          "output_type": "stream",
          "text": [
            "3\n"
          ]
        }
      ],
      "source": [
        "print(3)"
      ]
    },
    {
      "cell_type": "code",
      "execution_count": 85,
      "metadata": {
        "colab": {
          "base_uri": "https://localhost:8080/"
        },
        "id": "pEsILGyFgRAJ",
        "outputId": "bee22c89-335a-43dc-9c48-e37409aed065"
      },
      "outputs": [
        {
          "name": "stdout",
          "output_type": "stream",
          "text": [
            "3\n"
          ]
        }
      ],
      "source": [
        "gasto_actual = 3\n",
        "print(gasto_actual)"
      ]
    },
    {
      "cell_type": "code",
      "execution_count": 86,
      "metadata": {
        "colab": {
          "base_uri": "https://localhost:8080/"
        },
        "id": "qvDXfb3VgITc",
        "outputId": "daab5cd6-7356-442e-c1be-39b2c5616937"
      },
      "outputs": [
        {
          "name": "stdout",
          "output_type": "stream",
          "text": [
            "3\n"
          ]
        }
      ],
      "source": [
        "mes_actual=4 # Aqui estoy poniendo el mes actual (en numero)\n",
        "gasto_actual = 3 # Aqui estoy declarando mi gasto actual\n",
        "print(gasto_actual) # Esta linea me muestra cuanto me gaste"
      ]
    },
    {
      "cell_type": "code",
      "execution_count": 87,
      "metadata": {
        "id": "IupDRuV7iexP"
      },
      "outputs": [],
      "source": [
        "noticias, columnas, autores = 5,1,\"rafael, miguel\"\n",
        "\n",
        "noticias = 5\n",
        "columnas = 1\n",
        "autores = \"rafael, miguel\""
      ]
    },
    {
      "cell_type": "code",
      "execution_count": 88,
      "metadata": {
        "id": "-ym_Bu2Vha0v"
      },
      "outputs": [],
      "source": [
        "numero_1=1\n",
        "texto_1 = \"texto\"\n",
        "flotante_1 = 23.1\n",
        "texto_8 = \"texto\"\n",
        "# Las variables booleanas son mas raras\n",
        "# Solo pueden tener verdadero o falso\n",
        "booleano_1 = True\n",
        "booleano_2 = False"
      ]
    },
    {
      "cell_type": "code",
      "execution_count": 89,
      "metadata": {
        "id": "PdXnA44XjTa0"
      },
      "outputs": [],
      "source": [
        "booleano_3 = True"
      ]
    },
    {
      "cell_type": "code",
      "execution_count": 90,
      "metadata": {
        "colab": {
          "base_uri": "https://localhost:8080/"
        },
        "id": "K3WXjaiDjZ3j",
        "outputId": "1a659a76-3d9a-4761-b845-8764260d6699"
      },
      "outputs": [
        {
          "name": "stdout",
          "output_type": "stream",
          "text": [
            "True\n"
          ]
        }
      ],
      "source": [
        "print(booleano_3)"
      ]
    },
    {
      "cell_type": "code",
      "execution_count": 91,
      "metadata": {
        "colab": {
          "base_uri": "https://localhost:8080/"
        },
        "id": "kPf7bbgdjdc_",
        "outputId": "98143016-57d6-4ac9-af4b-2f2892d29ffd"
      },
      "outputs": [
        {
          "name": "stdout",
          "output_type": "stream",
          "text": [
            "False\n"
          ]
        }
      ],
      "source": [
        "print(booleano_2)"
      ]
    },
    {
      "cell_type": "code",
      "execution_count": 96,
      "metadata": {
        "id": "RsX_M0jplFAf"
      },
      "outputs": [],
      "source": [
        "#print(booleano_8)"
      ]
    },
    {
      "cell_type": "code",
      "execution_count": null,
      "metadata": {
        "id": "stiBGVXmmsI4"
      },
      "outputs": [],
      "source": [
        "# type me permite ver el tipo de dato\n",
        "# tipo de dato: que cosa hay dentro de la caja\n",
        "# caja: variable\n"
      ]
    },
    {
      "cell_type": "code",
      "execution_count": 101,
      "metadata": {
        "colab": {
          "base_uri": "https://localhost:8080/"
        },
        "id": "zwhLBxF_m28I",
        "outputId": "e2a913ed-1346-418c-aa61-72e84c617270"
      },
      "outputs": [
        {
          "name": "stdout",
          "output_type": "stream",
          "text": [
            "<class 'int'>\n"
          ]
        }
      ],
      "source": [
        "mes_actual = 4\n",
        "tipo_mes_actual = type(mes_actual)\n",
        "print(tipo_mes_actual)"
      ]
    },
    {
      "cell_type": "code",
      "execution_count": 105,
      "metadata": {
        "colab": {
          "base_uri": "https://localhost:8080/",
          "height": 159
        },
        "id": "lil7cypsnMy_",
        "outputId": "777281cf-dd98-4388-ad11-178c115b5b08"
      },
      "outputs": [
        {
          "ename": "NameError",
          "evalue": "name 'typeentero_que_voy_a_sumar_despues' is not defined",
          "output_type": "error",
          "traceback": [
            "\u001b[0;31m---------------------------------------------------------------------------\u001b[0m",
            "\u001b[0;31mNameError\u001b[0m                                 Traceback (most recent call last)",
            "\u001b[0;32m<ipython-input-105-0c2abb5cf35d>\u001b[0m in \u001b[0;36m<cell line: 2>\u001b[0;34m()\u001b[0m\n\u001b[1;32m      1\u001b[0m \u001b[0mentero_que_voy_a_sumar_despues\u001b[0m \u001b[0;34m=\u001b[0m \u001b[0;36m5\u001b[0m\u001b[0;34m\u001b[0m\u001b[0;34m\u001b[0m\u001b[0m\n\u001b[0;32m----> 2\u001b[0;31m \u001b[0mtipo_del_entero\u001b[0m \u001b[0;34m=\u001b[0m \u001b[0mtypeentero_que_voy_a_sumar_despues\u001b[0m\u001b[0;34m\u001b[0m\u001b[0;34m\u001b[0m\u001b[0m\n\u001b[0m",
            "\u001b[0;31mNameError\u001b[0m: name 'typeentero_que_voy_a_sumar_despues' is not defined"
          ]
        }
      ],
      "source": [
        "entero_que_voy_a_sumar_despues = 5\n",
        "# tipo_del_entero = typeentero_que_voy_a_sumar_despues\n",
        "tipo_del_entero = type(entero_que_voy_a_sumar_despues)"
      ]
    },
    {
      "cell_type": "code",
      "execution_count": 110,
      "metadata": {
        "id": "nf3vyEFdn5v6"
      },
      "outputs": [],
      "source": [
        "variable_dinamica = 5"
      ]
    },
    {
      "cell_type": "markdown",
      "metadata": {
        "id": "RZ9zrJ5vo22k"
      },
      "source": [
        "En la proxima celda vemos tipado dinamico, es decir, la misma variable puede tener diferentes tipos. (O sea que hay dentro de la caja)"
      ]
    },
    {
      "cell_type": "code",
      "execution_count": 109,
      "metadata": {
        "colab": {
          "base_uri": "https://localhost:8080/"
        },
        "id": "sb9hdjpolr0V",
        "outputId": "b0a53599-5f7d-42c8-afc7-5907f98cf309"
      },
      "outputs": [
        {
          "name": "stdout",
          "output_type": "stream",
          "text": [
            "102099999\n",
            "<class 'int'>\n",
            "1.78\n",
            "<class 'float'>\n",
            "documento sobre la ceguera\n",
            "<class 'str'>\n"
          ]
        }
      ],
      "source": [
        "variable_dinamica = 102099999\n",
        "print(variable_dinamica)\n",
        "print(type(variable_dinamica))\n",
        "variable_dinamica = 1.78\n",
        "print(variable_dinamica)\n",
        "print(type(variable_dinamica))\n",
        "variable_dinamica = \"documento sobre la ceguera\"\n",
        "print(variable_dinamica)\n",
        "print(type(variable_dinamica))"
      ]
    },
    {
      "cell_type": "code",
      "execution_count": 111,
      "metadata": {
        "colab": {
          "base_uri": "https://localhost:8080/"
        },
        "id": "isxFvvJCoBF_",
        "outputId": "6272c196-178d-43f0-ce86-30efd50e81e6"
      },
      "outputs": [
        {
          "name": "stdout",
          "output_type": "stream",
          "text": [
            "5\n"
          ]
        }
      ],
      "source": [
        "print(variable_dinamica)"
      ]
    },
    {
      "cell_type": "markdown",
      "metadata": {
        "id": "s7M0ZuPjpgLM"
      },
      "source": [
        "Operaciones aritmeticas\n",
        "\n",
        "Suma, Resta, Multiplicacion, Division"
      ]
    },
    {
      "cell_type": "markdown",
      "metadata": {
        "id": "Mha2tjl7p0sQ"
      },
      "source": [
        "Operador es + - * /"
      ]
    },
    {
      "cell_type": "code",
      "execution_count": 112,
      "metadata": {
        "colab": {
          "base_uri": "https://localhost:8080/"
        },
        "id": "IeAVjpFMpdox",
        "outputId": "8fb3109d-67af-4aa7-e380-a5363e0825b6"
      },
      "outputs": [
        {
          "name": "stdout",
          "output_type": "stream",
          "text": [
            "10\n"
          ]
        }
      ],
      "source": [
        "print(5 + 5)"
      ]
    },
    {
      "cell_type": "code",
      "execution_count": 113,
      "metadata": {
        "colab": {
          "base_uri": "https://localhost:8080/"
        },
        "id": "6by19byxpqta",
        "outputId": "7d2b8d0f-11ab-471a-9a40-298295fe9289"
      },
      "outputs": [
        {
          "name": "stdout",
          "output_type": "stream",
          "text": [
            "3856847161266\n"
          ]
        }
      ],
      "source": [
        "print(3827498237482 + 29348923784)"
      ]
    },
    {
      "cell_type": "code",
      "execution_count": 114,
      "metadata": {
        "colab": {
          "base_uri": "https://localhost:8080/"
        },
        "id": "MKJV7q84pwZX",
        "outputId": "20c70eed-d286-49ce-a235-5b58d8c6fb1b"
      },
      "outputs": [
        {
          "name": "stdout",
          "output_type": "stream",
          "text": [
            "1\n"
          ]
        }
      ],
      "source": [
        "print(8 - 7)"
      ]
    },
    {
      "cell_type": "code",
      "execution_count": 115,
      "metadata": {
        "colab": {
          "base_uri": "https://localhost:8080/"
        },
        "id": "3ahLmIx8pzHk",
        "outputId": "e0f271fe-7de7-4cf4-bfbf-2d2301ea1d9d"
      },
      "outputs": [
        {
          "name": "stdout",
          "output_type": "stream",
          "text": [
            "20\n"
          ]
        }
      ],
      "source": [
        "print(4 * 5)"
      ]
    },
    {
      "cell_type": "code",
      "execution_count": 116,
      "metadata": {
        "colab": {
          "base_uri": "https://localhost:8080/"
        },
        "id": "o8YsRcprqCZ2",
        "outputId": "69f075ed-605b-4143-b21f-c7fe8a71d7d8"
      },
      "outputs": [
        {
          "name": "stdout",
          "output_type": "stream",
          "text": [
            "1.25\n"
          ]
        }
      ],
      "source": [
        "print(5 / 4)"
      ]
    },
    {
      "cell_type": "code",
      "execution_count": 118,
      "metadata": {
        "id": "aeNoyablqD7v"
      },
      "outputs": [],
      "source": [
        "# no se puede dividir por 0 cero\n",
        "# print(5 / 0)"
      ]
    },
    {
      "cell_type": "code",
      "execution_count": 119,
      "metadata": {
        "id": "qm08XfmPqM3Z"
      },
      "outputs": [],
      "source": [
        "documento_que_quiero_utilizar = \"Documento ...\"\n",
        "# operador asignacion es el =\n",
        "# me permite asignar un valor a una variable"
      ]
    },
    {
      "cell_type": "code",
      "execution_count": 120,
      "metadata": {
        "colab": {
          "base_uri": "https://localhost:8080/"
        },
        "id": "PMipsTW5qe9a",
        "outputId": "9739e6bc-9570-4dcd-cec7-5cb910a5ed7c"
      },
      "outputs": [
        {
          "name": "stdout",
          "output_type": "stream",
          "text": [
            "8\n"
          ]
        }
      ],
      "source": [
        "print(8 + 5 - 5)"
      ]
    },
    {
      "cell_type": "code",
      "execution_count": 121,
      "metadata": {
        "colab": {
          "base_uri": "https://localhost:8080/"
        },
        "id": "i0XbrxawqjWk",
        "outputId": "0aaaaeb2-6037-4bc4-e40a-e56691751fb5"
      },
      "outputs": [
        {
          "name": "stdout",
          "output_type": "stream",
          "text": [
            "8\n"
          ]
        }
      ],
      "source": [
        "print((8 + 5) - 5)"
      ]
    },
    {
      "cell_type": "code",
      "execution_count": 123,
      "metadata": {
        "colab": {
          "base_uri": "https://localhost:8080/"
        },
        "id": "oPy2aRmEqwoL",
        "outputId": "2296ae0e-1739-4c42-d1fe-27cd33b7e2df"
      },
      "outputs": [
        {
          "name": "stdout",
          "output_type": "stream",
          "text": [
            "10.666666666666666\n"
          ]
        }
      ],
      "source": [
        "print(8 * 4 / 3)"
      ]
    },
    {
      "cell_type": "code",
      "execution_count": 124,
      "metadata": {
        "colab": {
          "base_uri": "https://localhost:8080/"
        },
        "id": "3Y2D8XMrqzhR",
        "outputId": "f1dc6cf1-7418-4cff-cfaf-29351d6b09c9"
      },
      "outputs": [
        {
          "name": "stdout",
          "output_type": "stream",
          "text": [
            "10.666666666666666\n"
          ]
        }
      ],
      "source": [
        "print(8 * (4 / 3))"
      ]
    },
    {
      "cell_type": "code",
      "execution_count": 125,
      "metadata": {
        "colab": {
          "base_uri": "https://localhost:8080/"
        },
        "id": "g7o2rG83q7xa",
        "outputId": "3eff8796-c786-4e10-92a6-7394f73bfecc"
      },
      "outputs": [
        {
          "name": "stdout",
          "output_type": "stream",
          "text": [
            "10.666666666666666\n"
          ]
        }
      ],
      "source": [
        "print((8 * 4) / 3)"
      ]
    },
    {
      "cell_type": "code",
      "execution_count": 126,
      "metadata": {
        "colab": {
          "base_uri": "https://localhost:8080/"
        },
        "id": "eciEgQHsq_X0",
        "outputId": "3f5849fa-874a-41a3-ddbf-f210b366e660"
      },
      "outputs": [
        {
          "name": "stdout",
          "output_type": "stream",
          "text": [
            "12.166666666666668\n"
          ]
        }
      ],
      "source": [
        "print(8 + 5 / 6 * 5)"
      ]
    },
    {
      "cell_type": "code",
      "execution_count": 127,
      "metadata": {
        "colab": {
          "base_uri": "https://localhost:8080/"
        },
        "id": "-sIamxb7rH_q",
        "outputId": "07eb2b02-cfa8-4cbf-e530-1e024229faf0"
      },
      "outputs": [
        {
          "name": "stdout",
          "output_type": "stream",
          "text": [
            "10.833333333333332\n"
          ]
        }
      ],
      "source": [
        "print((8 + 5) / 6 * 5)"
      ]
    },
    {
      "cell_type": "code",
      "execution_count": 129,
      "metadata": {
        "colab": {
          "base_uri": "https://localhost:8080/"
        },
        "id": "OMLJFNinrSTm",
        "outputId": "d3e88621-8075-47d5-b431-ade1f961c445"
      },
      "outputs": [
        {
          "name": "stdout",
          "output_type": "stream",
          "text": [
            "10.833333333333332\n"
          ]
        }
      ],
      "source": [
        "print(13 / 6 * 5)"
      ]
    },
    {
      "cell_type": "code",
      "execution_count": 131,
      "metadata": {
        "colab": {
          "base_uri": "https://localhost:8080/"
        },
        "id": "44N-fBlDrsKN",
        "outputId": "6471f807-9fb6-47b1-f1db-debafb76f118"
      },
      "outputs": [
        {
          "name": "stdout",
          "output_type": "stream",
          "text": [
            "0.43333333333333335\n"
          ]
        }
      ],
      "source": [
        "print((8 + 5) / (6 * 5))"
      ]
    },
    {
      "cell_type": "code",
      "execution_count": 132,
      "metadata": {
        "colab": {
          "base_uri": "https://localhost:8080/"
        },
        "id": "uKDr347gr3mO",
        "outputId": "04656714-9a08-4012-9b29-fd73b3834605"
      },
      "outputs": [
        {
          "name": "stdout",
          "output_type": "stream",
          "text": [
            "0.43333333333333335\n"
          ]
        }
      ],
      "source": [
        "print(((8 + 5) / (6 * 5)))\n"
      ]
    },
    {
      "cell_type": "code",
      "execution_count": 133,
      "metadata": {
        "colab": {
          "base_uri": "https://localhost:8080/"
        },
        "id": "7NUJt7IWsLs4",
        "outputId": "61b26c7d-429d-4161-8edf-98f16b5bd542"
      },
      "outputs": [
        {
          "name": "stdout",
          "output_type": "stream",
          "text": [
            "0.43333333333333335\n"
          ]
        }
      ],
      "source": [
        "suma1 = 8 + 5\n",
        "multiplicacion1 = 6 * 5\n",
        "division1 = suma1 / multiplicacion1\n",
        "print(division1)"
      ]
    },
    {
      "cell_type": "code",
      "execution_count": 134,
      "metadata": {
        "colab": {
          "base_uri": "https://localhost:8080/"
        },
        "id": "A7ObESXvsXwf",
        "outputId": "f683dfce-9937-49bb-dcae-7f0ca1a166f7"
      },
      "outputs": [
        {
          "name": "stdout",
          "output_type": "stream",
          "text": [
            "0.43333333333333335\n"
          ]
        }
      ],
      "source": [
        "edad_de_mis_hijos = 8 + 5\n",
        "multiplicacion_de_los_meses_que_nacieron = 6 * 5\n",
        "resultado = edad_de_mis_hijos / multiplicacion_de_los_meses_que_nacieron\n",
        "print(resultado)"
      ]
    },
    {
      "cell_type": "code",
      "execution_count": null,
      "metadata": {
        "id": "Rc268uvVslqY"
      },
      "outputs": [],
      "source": [
        "edad_1 = 8\n",
        "edad_2 = 5\n",
        "suma_edad = edad_1 + edad_2"
      ]
    },
    {
      "cell_type": "code",
      "execution_count": 137,
      "metadata": {
        "colab": {
          "base_uri": "https://localhost:8080/"
        },
        "id": "n19aYJ7Qtg_-",
        "outputId": "2cfdf065-2f54-456b-cde7-e3784d277e80"
      },
      "outputs": [
        {
          "name": "stdout",
          "output_type": "stream",
          "text": [
            "<class 'int'>\n"
          ]
        }
      ],
      "source": [
        "print(type(5))"
      ]
    },
    {
      "cell_type": "markdown",
      "metadata": {
        "id": "hV4Jd2_WtVXK"
      },
      "source": [
        "En input, todo llega como string cuando el usuario lo copia. Lo puedo averiguar con type(variable).\n",
        "\n",
        "Debo convertir de tipo str a tipo int"
      ]
    },
    {
      "cell_type": "code",
      "execution_count": 146,
      "metadata": {
        "colab": {
          "base_uri": "https://localhost:8080/",
          "height": 245
        },
        "id": "BRAAfP38szo6",
        "outputId": "8a542b13-b996-4f7c-a20d-6e6aba7b8367"
      },
      "outputs": [
        {
          "name": "stdout",
          "output_type": "stream",
          "text": [
            "Ingresa el primer numero12.3\n",
            "Ingresa el segundo numero12\n"
          ]
        },
        {
          "ename": "ValueError",
          "evalue": "invalid literal for int() with base 10: '12.3'",
          "output_type": "error",
          "traceback": [
            "\u001b[0;31m---------------------------------------------------------------------------\u001b[0m",
            "\u001b[0;31mValueError\u001b[0m                                Traceback (most recent call last)",
            "\u001b[0;32m<ipython-input-146-09a1718c554f>\u001b[0m in \u001b[0;36m<cell line: 3>\u001b[0;34m()\u001b[0m\n\u001b[1;32m      1\u001b[0m \u001b[0mstring_que_parece_numero_1\u001b[0m \u001b[0;34m=\u001b[0m \u001b[0minput\u001b[0m\u001b[0;34m(\u001b[0m\u001b[0;34m\"Ingresa el primer numero\"\u001b[0m\u001b[0;34m)\u001b[0m\u001b[0;34m\u001b[0m\u001b[0;34m\u001b[0m\u001b[0m\n\u001b[1;32m      2\u001b[0m \u001b[0mstring_que_parece_numero_2\u001b[0m \u001b[0;34m=\u001b[0m \u001b[0minput\u001b[0m\u001b[0;34m(\u001b[0m\u001b[0;34m\"Ingresa el segundo numero\"\u001b[0m\u001b[0;34m)\u001b[0m\u001b[0;34m\u001b[0m\u001b[0;34m\u001b[0m\u001b[0m\n\u001b[0;32m----> 3\u001b[0;31m \u001b[0mnumero_1\u001b[0m \u001b[0;34m=\u001b[0m \u001b[0mint\u001b[0m\u001b[0;34m(\u001b[0m\u001b[0mstring_que_parece_numero_1\u001b[0m\u001b[0;34m)\u001b[0m\u001b[0;34m\u001b[0m\u001b[0;34m\u001b[0m\u001b[0m\n\u001b[0m\u001b[1;32m      4\u001b[0m \u001b[0mnumero_2\u001b[0m \u001b[0;34m=\u001b[0m \u001b[0mint\u001b[0m\u001b[0;34m(\u001b[0m\u001b[0mstring_que_parece_numero_2\u001b[0m\u001b[0;34m)\u001b[0m\u001b[0;34m\u001b[0m\u001b[0;34m\u001b[0m\u001b[0m\n\u001b[1;32m      5\u001b[0m \u001b[0mresultado\u001b[0m \u001b[0;34m=\u001b[0m \u001b[0mnumero_1\u001b[0m \u001b[0;34m+\u001b[0m \u001b[0mnumero_2\u001b[0m\u001b[0;34m\u001b[0m\u001b[0;34m\u001b[0m\u001b[0m\n",
            "\u001b[0;31mValueError\u001b[0m: invalid literal for int() with base 10: '12.3'"
          ]
        }
      ],
      "source": [
        "string_que_parece_numero_1 = input(\"Ingresa el primer numero\")\n",
        "string_que_parece_numero_2 = input(\"Ingresa el segundo numero\")\n",
        "numero_1 = int(string_que_parece_numero_1)\n",
        "numero_2 = int(string_que_parece_numero_2)\n",
        "resultado = numero_1 + numero_2\n",
        "print(resultado)"
      ]
    },
    {
      "cell_type": "code",
      "execution_count": 142,
      "metadata": {
        "colab": {
          "base_uri": "https://localhost:8080/"
        },
        "id": "u9z7AsWtuT5y",
        "outputId": "4b7ff901-1594-4ea4-e9b7-6463a1c35cfc"
      },
      "outputs": [
        {
          "name": "stdout",
          "output_type": "stream",
          "text": [
            "<class 'int'>\n"
          ]
        }
      ],
      "source": [
        "variable_10 = 5\n",
        "tipo_variable_10 = type(variable_10)\n",
        "print(tipo_variable_10)"
      ]
    },
    {
      "cell_type": "code",
      "execution_count": 143,
      "metadata": {
        "colab": {
          "base_uri": "https://localhost:8080/"
        },
        "id": "FHOHNUS3ufd3",
        "outputId": "23480601-c833-4008-b5c0-054b3aba8ee8"
      },
      "outputs": [
        {
          "name": "stdout",
          "output_type": "stream",
          "text": [
            "<class 'int'>\n"
          ]
        }
      ],
      "source": [
        "variable_10 = 5\n",
        "print(type(variable_10))"
      ]
    },
    {
      "cell_type": "code",
      "execution_count": 145,
      "metadata": {
        "colab": {
          "base_uri": "https://localhost:8080/"
        },
        "id": "YXb7NMVGuO6d",
        "outputId": "70b6b9a7-5a55-409e-de2f-3de3b33a48c7"
      },
      "outputs": [
        {
          "name": "stdout",
          "output_type": "stream",
          "text": [
            "Ingresa el primer numero12\n",
            "Ingresa el segundo numero12\n",
            "24\n"
          ]
        }
      ],
      "source": [
        "# Juan Miguel pregunta como le ponemos el int al input directamente\n",
        "numero_1 = int(input(\"Ingresa el primer numero\"))\n",
        "numero_2 = int(input(\"Ingresa el segundo numero\"))\n",
        "resultado = numero_1 + numero_2\n",
        "print(resultado)"
      ]
    },
    {
      "cell_type": "code",
      "execution_count": 147,
      "metadata": {
        "colab": {
          "base_uri": "https://localhost:8080/"
        },
        "id": "j5QUT1WLvVoS",
        "outputId": "82dc76a0-92d4-4c0d-e189-48fb53f84f28"
      },
      "outputs": [
        {
          "name": "stdout",
          "output_type": "stream",
          "text": [
            "<class 'float'>\n"
          ]
        }
      ],
      "source": [
        "print(type(12.3))"
      ]
    },
    {
      "cell_type": "code",
      "execution_count": 149,
      "metadata": {
        "colab": {
          "base_uri": "https://localhost:8080/"
        },
        "id": "ktDikPi5vTTm",
        "outputId": "3f3e853a-310e-4b51-b39e-88560b566383"
      },
      "outputs": [
        {
          "name": "stdout",
          "output_type": "stream",
          "text": [
            "Ingresa el primer numero12.3\n",
            "Ingresa el segundo numero3\n",
            "15.3\n"
          ]
        }
      ],
      "source": [
        "string_que_parece_numero_1 = input(\"Ingresa el primer numero\")\n",
        "string_que_parece_numero_2 = input(\"Ingresa el segundo numero\")\n",
        "numero_1 = float(string_que_parece_numero_1)\n",
        "numero_2 = float(string_que_parece_numero_2)\n",
        "resultado = numero_1 + numero_2\n",
        "print(resultado)"
      ]
    },
    {
      "cell_type": "code",
      "execution_count": 150,
      "metadata": {
        "colab": {
          "base_uri": "https://localhost:8080/"
        },
        "id": "XvtgfRVMwf9F",
        "outputId": "893c8479-8009-4814-8196-a3c61821b796"
      },
      "outputs": [
        {
          "name": "stdout",
          "output_type": "stream",
          "text": [
            "Ingresa el primer numero12.3\n",
            "Ingresa el segundo numero3.6\n",
            "8.700000000000001\n"
          ]
        }
      ],
      "source": [
        "string_que_parece_numero_1 = input(\"Ingresa el primer numero\")\n",
        "string_que_parece_numero_2 = input(\"Ingresa el segundo numero\")\n",
        "numero_1 = float(string_que_parece_numero_1)\n",
        "numero_2 = float(string_que_parece_numero_2)\n",
        "resultado = numero_1 - numero_2\n",
        "print(resultado)"
      ]
    },
    {
      "cell_type": "code",
      "execution_count": 151,
      "metadata": {
        "colab": {
          "base_uri": "https://localhost:8080/"
        },
        "id": "vUvQfGTzwll6",
        "outputId": "b15cc0c3-1e69-4667-d963-b8b8e8638f21"
      },
      "outputs": [
        {
          "name": "stdout",
          "output_type": "stream",
          "text": [
            "Ingresa el primer numero3\n",
            "Ingresa el segundo numero3\n",
            "9.0\n"
          ]
        }
      ],
      "source": [
        "string_que_parece_numero_1 = input(\"Ingresa el primer numero\")\n",
        "string_que_parece_numero_2 = input(\"Ingresa el segundo numero\")\n",
        "numero_1 = float(string_que_parece_numero_1)\n",
        "numero_2 = float(string_que_parece_numero_2)\n",
        "resultado = numero_1 * numero_2\n",
        "print(resultado)"
      ]
    },
    {
      "cell_type": "code",
      "execution_count": 154,
      "metadata": {
        "colab": {
          "base_uri": "https://localhost:8080/"
        },
        "id": "QouSozvIwrjS",
        "outputId": "9e4e0aac-0155-4ff5-e720-64e81e19aed2"
      },
      "outputs": [
        {
          "name": "stdout",
          "output_type": "stream",
          "text": [
            "15.0\n",
            "<class 'float'>\n"
          ]
        }
      ],
      "source": [
        "numero_1 = 12.0\n",
        "numero_2 = 3\n",
        "suma = numero_1 + numero_2\n",
        "print(suma)\n",
        "print(type(suma))"
      ]
    }
  ],
  "metadata": {
    "colab": {
      "name": "Welcome To Colaboratory",
      "provenance": []
    },
    "kernelspec": {
      "display_name": "Python 3",
      "name": "python3"
    }
  },
  "nbformat": 4,
  "nbformat_minor": 0
}
