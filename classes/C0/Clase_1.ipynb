{
 "cells": [
  {
   "cell_type": "markdown",
   "metadata": {},
   "source": [
    "# Clase 1\n",
    "- I/O: Entrada y Salida Básica\n",
    "- Tipos de Datos:\n",
    "- int\n",
    "- float\n",
    "- String\n",
    "    - 'Simple'\n",
    "    - \"Doble\"\n",
    "    - \"\"\"Triple\"\"\"\n",
    "- bool\n",
    "- Variables\n",
    "- Tipado dinámico\n",
    "- Comentarios\n",
    "- Aritmética y Operadores\n",
    "- Contenedores:\n",
    "    - Lista\n",
    "    - Tupla\n",
    "    - Diccionarios\n",
    "    - Conjuntos\n",
    "- Valores de Verdad y Comparaciones\n",
    "- Palabras reservadas"
   ]
  },
  {
   "cell_type": "markdown",
   "metadata": {},
   "source": [
    "## Entrada y Salida (Básica)\n",
    "- variables = input(\"Mensaje Indicatorio para el usuario\")\n",
    "- print(variables, \"Esto es un texto\")"
   ]
  }
 ],
 "metadata": {
  "language_info": {
   "name": "python"
  }
 },
 "nbformat": 4,
 "nbformat_minor": 2
}
