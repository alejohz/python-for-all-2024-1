{
  "cells": [
    {
      "cell_type": "markdown",
      "metadata": {
        "id": "xqddFoUJjxow"
      },
      "source": [
        "# Clase 8\n",
        "\n",
        "#### **Contenido**\n",
        "\n",
        "- Asignación de ejercicios para insignia\n",
        "  - El ejercicio debe entregarse antes del 16 de mayo,\n",
        "  antes de las 11:59:59 pm\n",
        "  Al correo ohenaoz@eafit.edu.co\n",
        "- Ejercicios de práctica\n",
        "- Importar modulos con alias\n",
        "- Replace de los strings\n",
        "- Librerias externas (Instalación)\n",
        "- Ver Pandas 🐼\n",
        "  - Columns\n",
        "  - Rows\n",
        "  - Describe\n",
        "  - Info\n",
        "  - Head\n",
        "  - Tail\n",
        "  - Shape\n",
        "  - Index\n",
        "  - Values\n",
        "  - Dtypes\n",
        "  - Sort_values\n",
        "  - Sort_index\n",
        "  - Groupby\n",
        "\n",
        "  \n",
        "#### Temas de estudio\n",
        "- Cuales son las principales librerias que se usan para visualización?\n",
        "- Qué es un EDA?\n",
        "- Qué es una ETL y una ELT?\n",
        "- Qué es Polars?"
      ]
    },
    {
      "cell_type": "markdown",
      "metadata": {
        "id": "Vq4XQIT8jxo0"
      },
      "source": [
        "Write a Python program to find the length of a given list of non-empty strings.  \n",
        "Input:  \n",
        "['cat', 'car', 'fear', 'center']  \n",
        "Output:  \n",
        "[3, 3, 4, 6]  \n",
        "Input:  \n",
        "['cat', 'dog', 'shatter', 'donut', 'at', 'todo', '']  \n",
        "Output:  \n",
        "[3, 3, 7, 5, 2, 4, 0]  "
      ]
    },
    {
      "cell_type": "code",
      "execution_count": 4,
      "metadata": {
        "colab": {
          "base_uri": "https://localhost:8080/"
        },
        "id": "7096ZP19n1h8",
        "outputId": "2be82a6b-cf74-44a4-f48e-b4b194910c42"
      },
      "outputs": [
        {
          "name": "stdout",
          "output_type": "stream",
          "text": [
            "[3, 3, 4, 6]\n",
            "[3, 3, 7, 5, 2, 4, 0]\n",
            "[5, 1, 0, 5]\n"
          ]
        }
      ],
      "source": [
        "def count_strings(to_count_list):\n",
        "  count_list = []\n",
        "  for word in to_count_list:\n",
        "    if isinstance(word, str): # Verificando el tipo\n",
        "      count_list.append(len(word))\n",
        "    else:\n",
        "      count_list.append(0)\n",
        "  return count_list\n",
        "\n",
        "print(count_strings(['cat', 'car', 'fear', 'center']))\n",
        "print(count_strings(['cat', 'dog', 'shatter', 'donut', 'at', 'todo', '']))\n",
        "print(count_strings(['pablo', '1', 1, 'torre']))"
      ]
    },
    {
      "cell_type": "markdown",
      "metadata": {
        "id": "SWnXzzxsjxo0"
      },
      "source": [
        "Write a Python program to find the longest string in a given list of strings.  \n",
        "Input:  \n",
        "['cat', 'car', 'fear', 'center']  \n",
        "Output:  \n",
        "center  \n",
        "Input:  \n",
        "['cat', 'dog', 'shatter', 'donut', 'at', 'todo', '']  \n",
        "Output:  \n",
        "shatter  "
      ]
    },
    {
      "cell_type": "code",
      "execution_count": 12,
      "metadata": {
        "colab": {
          "base_uri": "https://localhost:8080/"
        },
        "id": "OMcn1KjZqz1Y",
        "outputId": "948fe05c-d1f3-4855-a72a-3bb8f147337f"
      },
      "outputs": [
        {
          "name": "stdout",
          "output_type": "stream",
          "text": [
            "Iteración número: 1\n",
            "Estoy evaluando la palabra cat\n",
            "La longitud de la palabra evaluada es 3\n",
            "Se ha inicializado el valor del indice en 0\n",
            "Iteración número: 2\n",
            "Estoy evaluando la palabra car\n",
            "La longitud de la palabra evaluada es 3\n",
            "3 no es mayor a 3\n",
            "Iteración número: 3\n",
            "Estoy evaluando la palabra fear\n",
            "La longitud de la palabra evaluada es 4\n",
            "El indice de mayor longitud ha sido actualizado: 2\n",
            "Iteración número: 4\n",
            "Estoy evaluando la palabra center\n",
            "La longitud de la palabra evaluada es 6\n",
            "El indice de mayor longitud ha sido actualizado: 3\n",
            "center\n"
          ]
        }
      ],
      "source": [
        "def get_largest_word(word_list):\n",
        "  count_list = [] # Creo una lista vacia\n",
        "  for word in word_list: # itero por todas las palabras de la lista\n",
        "      count_list.append(len(word)) # Añado a mi lista vacia\n",
        "      # todas las longitudes de las palabras\n",
        "  largest_count_index = 0 # Inicializo mi variable en 0\n",
        "  for i in range(len(word_list)): # itero por los indices de la lista de palabras\n",
        "    print(f\"Iteración número: {i + 1}\")\n",
        "    print(f\"Estoy evaluando la palabra {word_list[i]}\")\n",
        "    print(f\"La longitud de la palabra evaluada es {count_list[i]}\")\n",
        "    if i == 0: # Si el indice es cero, entonces asigno ese indice a mi valor\n",
        "      print(\"Se ha inicializado el valor del indice en 0\")\n",
        "      largest_count_index = 0\n",
        "    elif count_list[i] > count_list[largest_count_index]:\n",
        "        largest_count_index = i\n",
        "        print(f\"El indice de mayor longitud ha sido actualizado: {largest_count_index}\")\n",
        "    else:\n",
        "      print(f\"{count_list[i]} no es mayor a {count_list[largest_count_index]}\")\n",
        "  return word_list[largest_count_index]\n",
        "\n",
        "print(get_largest_word(['cat', 'car', 'fear', 'center']))\n",
        "# print(get_largest_word(['cat', 'dog', 'shatter', 'donut', 'at', 'todo', '']))\n",
        "# print(get_largest_word(['pablo', '1', '12', 'torre']))"
      ]
    },
    {
      "cell_type": "markdown",
      "metadata": {
        "id": "y2sb_E_4jxo1"
      },
      "source": [
        "Write a Python program to determine the direction ('increasing' or 'decreasing') of monotonic sequence numbers.  \n",
        "Input:  \n",
        "[1, 2, 3, 4, 5, 6]  \n",
        "Output:  \n",
        "Increasing.  \n",
        "Input:  \n",
        "[6, 5, 4, 3, 2, 1]  \n",
        "Output:  \n",
        "Decreasing.  \n",
        "Input:  \n",
        "[19, 19, 5, 5, 5, 5, 5]  \n",
        "Output:  \n",
        "Not a monotonic sequence!  "
      ]
    },
    {
      "cell_type": "code",
      "execution_count": 25,
      "metadata": {
        "colab": {
          "base_uri": "https://localhost:8080/"
        },
        "id": "Mgj-aQnSvre-",
        "outputId": "66a92f05-a23d-4ca3-9071-b98b76c35858"
      },
      "outputs": [
        {
          "name": "stdout",
          "output_type": "stream",
          "text": [
            "Actual: 1\n",
            "Siguiente: 2\n",
            "Actual: 2\n",
            "Siguiente: 3\n",
            "Actual: 3\n",
            "Siguiente: 2\n",
            "Actual: 2\n",
            "Siguiente: 1\n",
            "Esta es la diferencia -1\n",
            "Comparación de la diferencia con 1 False\n",
            "Comparación de la diferencia con -1 True\n",
            "Esta es la diferencia -1\n",
            "Comparación de la diferencia con 1 False\n",
            "Comparación de la diferencia con -1 True\n",
            "Esta es la diferencia 1\n",
            "Comparación de la diferencia con 1 True\n",
            "Comparación de la diferencia con -1 False\n",
            "Esta es la diferencia 1\n",
            "Comparación de la diferencia con 1 True\n",
            "Comparación de la diferencia con -1 False\n",
            "Comparaciones incrementales: [True, True, False, False]\n",
            "Comparaciones decrecientes: [False, False, True, True]\n",
            "Not a monotonic sequence!\n"
          ]
        }
      ],
      "source": [
        "def find_direction(monotonic_list):\n",
        "  difference_list = [] # Defino una nueva lista vacia\n",
        "  for i in range(len(monotonic_list) - 1): # Itero sobre todos los indices de la lista\n",
        "  # Menos el ultimo\n",
        "    print(f\"Actual: {monotonic_list[i]}\")\n",
        "    print(f\"Siguiente: {monotonic_list[i + 1]}\")\n",
        "    difference = monotonic_list[i] - monotonic_list[i + 1] # guardo la diferencia\n",
        "    # En una variable\n",
        "    difference_list.append(difference) # añado la diferencia a una lista\n",
        "    if abs(difference) != 1: # Verifico que la diferencia del actual - el siguiente\n",
        "    # Sea siempre 1 o -1\n",
        "      return (\"Not a monotonic sequence!\")\n",
        "\n",
        "  comparisons_inc = [] # lista de comparaciones si fuera increasing\n",
        "  comparisons_dec = [] # lista de comparaciones si fuera decreasing\n",
        "  for number in difference_list:\n",
        "    print(f\"Esta es la diferencia {number}\")\n",
        "    print(f\"Comparación de la diferencia con 1 {number == 1}\")\n",
        "    print(f\"Comparación de la diferencia con -1 {number == -1}\")\n",
        "    comparisons_inc.append(number == -1)\n",
        "    comparisons_dec.append(number == 1)\n",
        "  print(f\"Comparaciones incrementales: {comparisons_inc}\")\n",
        "  print(f\"Comparaciones decrecientes: {comparisons_dec}\")\n",
        "  if sum(comparisons_inc) == len(difference_list):\n",
        "    return(\"Increasing\")\n",
        "  elif sum(comparisons_dec) == len(difference_list):\n",
        "    return(\"Decreasing\")\n",
        "  else:\n",
        "    return (\"Not a monotonic sequence!\")\n",
        "\n",
        "\n",
        "\n",
        "# print(find_direction([1, 2, 3, 4, 5, 6]))\n",
        "# print(find_direction([3, 2, 1]))\n",
        "# print(find_direction([19, 5, 5]))\n",
        "# print(find_direction([1, 2, 3, 2, 1]))\n"
      ]
    },
    {
      "cell_type": "code",
      "execution_count": 23,
      "metadata": {
        "colab": {
          "base_uri": "https://localhost:8080/"
        },
        "id": "Ibus1ydN8Wha",
        "outputId": "ce5ce059-a22b-4ffe-891f-51ea1ba69862"
      },
      "outputs": [
        {
          "name": "stdout",
          "output_type": "stream",
          "text": [
            "2\n"
          ]
        }
      ],
      "source": [
        "print(sum([True, True, False]))"
      ]
    },
    {
      "cell_type": "code",
      "execution_count": 26,
      "metadata": {
        "colab": {
          "base_uri": "https://localhost:8080/"
        },
        "id": "ZunDUEA69tr2",
        "outputId": "9fce83c0-d715-4595-9b21-8fd95f34f524"
      },
      "outputs": [
        {
          "name": "stdout",
          "output_type": "stream",
          "text": [
            "False\n"
          ]
        }
      ],
      "source": [
        "print(3 > 5)"
      ]
    },
    {
      "cell_type": "code",
      "execution_count": 27,
      "metadata": {
        "colab": {
          "base_uri": "https://localhost:8080/"
        },
        "id": "dIRri2ee91Hu",
        "outputId": "38daa6b0-894f-4f64-b349-6104187bd2d3"
      },
      "outputs": [
        {
          "name": "stdout",
          "output_type": "stream",
          "text": [
            "False\n"
          ]
        }
      ],
      "source": [
        "print(3 == 5)"
      ]
    },
    {
      "cell_type": "code",
      "execution_count": 28,
      "metadata": {
        "colab": {
          "base_uri": "https://localhost:8080/"
        },
        "id": "x2VgzCNy93GC",
        "outputId": "a8a33753-01f5-46e5-a3fe-9ac045507797"
      },
      "outputs": [
        {
          "name": "stdout",
          "output_type": "stream",
          "text": [
            "True\n"
          ]
        }
      ],
      "source": [
        "print(3 < 5)"
      ]
    },
    {
      "cell_type": "code",
      "execution_count": 29,
      "metadata": {
        "colab": {
          "base_uri": "https://localhost:8080/"
        },
        "id": "76b-kzk_95TA",
        "outputId": "89aedd89-16b7-4a4e-91ec-47e46abf7db0"
      },
      "outputs": [
        {
          "name": "stdout",
          "output_type": "stream",
          "text": [
            "True\n"
          ]
        }
      ],
      "source": [
        "print(3 != 5)"
      ]
    },
    {
      "cell_type": "code",
      "execution_count": 1,
      "metadata": {
        "id": "ZUd1BLAIjxo1"
      },
      "outputs": [],
      "source": [
        "from random import choice\n",
        "\n",
        "\n",
        "def assign_exercises():\n",
        "    \"\"\"Assigns a random exercise to each student from a list of exercises and students.\"\"\"\n",
        "    exercises = {\n",
        "        1: \"Develop a Python script that receives a positive integer and constructs a matrix of that dimension filled entirely with the integer itself. Example: For input 3, the output should be [[3, 3, 3], [3, 3, 3], [3, 3, 3]]. For input 4, produce [[4, 4, 4, 4], [4, 4, 4, 4], [4, 4, 4, 4], [4, 4, 4, 4]]. Input of 0 should return an empty list [].\",\n",
        "        2: \"Develop a Python function that iteratively calculates the cube root of a given positive integer until the resultant value is less than 3, and count the number of iterations needed. Example: For 27, the output should be 1, and for 500, the output should be 3.\",\n",
        "        3: \"Develop a Python function to evaluate how many numbers in a list are greater than the number immediately preceding them. Example: For the list [2, 5, 3, 6, 10], the result should be 3.\",\n",
        "        4: \"Create a Python program that checks if the sum of the digits of three given integers is the same. Return True or False accordingly. For instance, [111, 30, 60] should return True, while [17, 28, 39] should return False.\",\n",
        "        5: \"Develop a program that sums the cubes of all positive integers smaller than a given positive integer. For 3, return 9; for 4, return 36.\",\n",
        "        6: \"Develop a Python program to determine if the cube root of the first number in a two-element list is equal to the square root of the second. For [27, 9], return True; for [8, 9], return False.\",\n",
        "        7: \"Construct a Python function to generate the smallest number containing specified counts of even and odd digits. For instance, if asked for 1 even and 2 odd digits, return 113.\",\n",
        "        8: \"Program a solution that finds the nearest palindrome number to a given integer. If two palindromes are equidistant, return the smaller one. Examples: 234 should return 232, and 99 should return 101.\",\n",
        "        9: \"Create a Python program to find the longest common suffix between two strings. For the strings thinking and walking, it should return ing. For introduction and reduction, return tion.\",\n",
        "        10: \"Develop a Python program to reverse only the words of odd length in a given sentence. For Simple exercises, the output should be elpmiM exercises.\",\n",
        "        11: \"Develop a Python function to calculate the sum of all positive and negative numbers separately from an array, and display which sum is larger. For [-3, 5, -2, 7], the result should be 12 (positive sum).\",\n",
        "        12: \"Develop a Python function to check if the average of numbers in an array is a whole number. For [3, 6, 9], return True; for [2, 5], return False.\",\n",
        "        13: \"Create a Python script that sorts every other element of a list while keeping the rest in their original positions. For [10, 1, 30, 2, 50], return [10, 1, 30, 2, 50].\",\n",
        "        14: \"Develop a Python program to transform single-digit numbers from a list into their corresponding English words, sorted in reverse order. For [0, 2, 1], the output should be ['two', 'one', 'zero'].\",\n",
        "        15: \"Develop a Python program to find the first occurrence of a negative cumulative balance from sequential lists of bank transactions. For [[100, -150], [200, -100, -200]], the output should be [-50, None].\",\n",
        "    }\n",
        "    students = [\n",
        "        \"ARDILA PEREZ,VALENTINA\",\n",
        "        \"BUSTOS GIRALDO,PAOLA ANDREA\",\n",
        "        \"CABALLERO PIMENTEL,SAMUEL DAVID\",\n",
        "        \"CAÑOLA MONTOYA,SANTIAGO\",\n",
        "        \"CORDERO GUERRA,ALEXANDER JOSE\",\n",
        "        \"ECHEVERRI MARTINEZ,JORGE DANIEL\",\n",
        "        \"GALLEGO TORRES,ANGELA MARCELA\",\n",
        "        \"ISAZA VILLA,JUAN FERNANDO\",\n",
        "        \"LEZCANO QUINTERO,VICTOR DANIEL\",\n",
        "        \"LUCUARA NOREÑA,RAFAEL ANTONIO\",\n",
        "        \"MUÑOZ URUEÑA,JORGE ANDRES\",\n",
        "        \"OROZCO RINCON,JUAN MIGUEL\",\n",
        "        \"VELÁSQUEZ PÉREZ,ALEJANDRO\",\n",
        "        \"CASTELBLANCO GALLEGO, JUAN PABLO\",\n",
        "        \"GARCÍA BOTERO, SEBASTIAN\",\n",
        "    ]\n",
        "    assigned_exercises = {}\n",
        "    exercise_numbers = list(exercises.keys())\n",
        "    if len(students) > len(exercise_numbers):\n",
        "        return \"There are not enough exercises for all students.\"\n",
        "    elif len(students) < len(exercise_numbers):\n",
        "        return \"There are not enough students for all exercises.\"\n",
        "\n",
        "    for student in students:\n",
        "        assigned_exercises[student] = choice(exercise_numbers)\n",
        "        exercise_numbers.remove(assigned_exercises[student])\n",
        "\n",
        "    with open(\"assigned_exercises.txt\", \"w\") as file:\n",
        "        for student, exercise in assigned_exercises.items():\n",
        "            file.write(f\"{student}: {exercises[exercise]}\\n\\n\")\n",
        "\n",
        "\n",
        "assign_exercises()\n"
      ]
    },
    {
      "cell_type": "code",
      "execution_count": null,
      "metadata": {
        "id": "Pn4hazl9-UHQ"
      },
      "outputs": [],
      "source": [
        "import math\n",
        "import random\n",
        "import time\n",
        "# import modulo_hecho_por_juan\n",
        "\n",
        "r = math.sqrt(25)\n",
        "# Alias\n",
        "import math as m\n",
        "\n",
        "r = m.sqrt(25)\n",
        "\n",
        "import random as random_number_gen\n",
        "\n",
        "s = random_number_gen.randint(10, 20)\n",
        "\n",
        "\n",
        "from random import randint as rand\n",
        "\n",
        "s1 = rand(10, 20)\n",
        "\n",
        "# pandas\n",
        "# numpy\n",
        "# import pandas as pd\n",
        "# import numpy as np"
      ]
    },
    {
      "cell_type": "code",
      "execution_count": 32,
      "metadata": {
        "colab": {
          "base_uri": "https://localhost:8080/"
        },
        "id": "zeIKXYtX_Uud",
        "outputId": "baf92c50-6320-42c8-d443-93beeda9bdf1"
      },
      "outputs": [
        {
          "name": "stdout",
          "output_type": "stream",
          "text": [
            "Hola  me llamo Juan  tengo 24  soy de marinilla\n",
            "Hola,,me,llamo,Juan,,tengo,24,,soy,de,marinilla\n"
          ]
        }
      ],
      "source": [
        "documento = \"Hola, me llamo Juan, tengo 24, soy de marinilla\"\n",
        "print(documento.replace(\",\", \" \"))\n",
        "print(documento.replace(\" \", \",\"))\n",
        "# Tarea: Investigar que significa el tercer argumento de replace\n",
        "# print(documento.replace(\" \", \",\", 1))"
      ]
    },
    {
      "cell_type": "code",
      "execution_count": 33,
      "metadata": {
        "colab": {
          "base_uri": "https://localhost:8080/"
        },
        "id": "_xq2PfOeALxa",
        "outputId": "8868eb7f-fd9d-4472-b3c5-5c94ef1d5906"
      },
      "outputs": [
        {
          "name": "stdout",
          "output_type": "stream",
          "text": [
            "Requirement already satisfied: pandas in /usr/local/lib/python3.10/dist-packages (2.0.3)\n",
            "Requirement already satisfied: python-dateutil>=2.8.2 in /usr/local/lib/python3.10/dist-packages (from pandas) (2.8.2)\n",
            "Requirement already satisfied: pytz>=2020.1 in /usr/local/lib/python3.10/dist-packages (from pandas) (2023.4)\n",
            "Requirement already satisfied: tzdata>=2022.1 in /usr/local/lib/python3.10/dist-packages (from pandas) (2024.1)\n",
            "Requirement already satisfied: numpy>=1.21.0 in /usr/local/lib/python3.10/dist-packages (from pandas) (1.25.2)\n",
            "Requirement already satisfied: six>=1.5 in /usr/local/lib/python3.10/dist-packages (from python-dateutil>=2.8.2->pandas) (1.16.0)\n"
          ]
        }
      ],
      "source": [
        "!pip install pandas"
      ]
    },
    {
      "cell_type": "code",
      "execution_count": null,
      "metadata": {
        "id": "B7No4CCDBFdR"
      },
      "outputs": [],
      "source": [
        "# Modulos built - in\n",
        "# math, random, time"
      ]
    },
    {
      "cell_type": "code",
      "execution_count": 34,
      "metadata": {
        "id": "4urduSF-Blzm"
      },
      "outputs": [],
      "source": [
        "import pandas as pd"
      ]
    },
    {
      "cell_type": "code",
      "execution_count": null,
      "metadata": {
        "id": "JZ1qTe3UBq3x"
      },
      "outputs": [],
      "source": [
        "# Pandas sirve para manipulacion de archivos\n",
        "# Los archivos deben estar en modo tabla\n",
        "# Pandas introduce nuevos tipos de datos\n",
        "# DataFrame y Series son los dos tipos de datos mas importantes\n",
        "# en pandas\n",
        "# DataFrame es una tabla\n",
        "# Series es una sola columna"
      ]
    },
    {
      "cell_type": "code",
      "execution_count": 35,
      "metadata": {
        "colab": {
          "base_uri": "https://localhost:8080/"
        },
        "id": "YP6saGc7Cjyy",
        "outputId": "ba21e9e8-da4a-45ae-bd05-eda370b8d502"
      },
      "outputs": [
        {
          "name": "stdout",
          "output_type": "stream",
          "text": [
            "['Product, Price, Stock\\n', 'Widget A, 10.50, 100\\n', 'Widget B, 15.75, 75\\n', 'Widget C, 8.99, 120\\n', 'Gadget X, 49.99, 50\\n', 'Gadget Y, 64.75, 40\\n', 'Gadget Z, 74.50, 30\\n', 'Book 1, 12.99, 85\\n', 'Book 2, 18.25, 60\\n', 'Book 3, 14.99, 75\\n', 'Tool 1, 29.99, 40\\n', 'Tool 2, 22.50, 55\\n', 'Tool 3, 34.99, 35\\n', 'Clothing A, 24.95, 90\\n', 'Clothing B, 32.50, 65\\n', 'Clothing C, 19.99, 80\\n', 'Electronics 1, 199.99, 20\\n', 'Electronics 2, 299.50, 15\\n', 'Electronics 3, 149.99, 25\\n', 'Furniture A, 149.50, 45\\n', 'Furniture B, 199.99, 30\\n', 'Furniture C, 99.75, 55']\n"
          ]
        }
      ],
      "source": [
        "with open(\"products.txt\", \"r\") as f:\n",
        "  lines = f.readlines()\n",
        "\n",
        "print(lines)"
      ]
    },
    {
      "cell_type": "code",
      "execution_count": 36,
      "metadata": {
        "colab": {
          "base_uri": "https://localhost:8080/",
          "height": 35
        },
        "id": "FBwWpMW-C-qu",
        "outputId": "e3e23a94-aa5d-467b-cad4-113740196385"
      },
      "outputs": [
        {
          "data": {
            "application/vnd.google.colaboratory.intrinsic+json": {
              "type": "string"
            },
            "text/plain": [
              "'Product, Price, Stock\\n'"
            ]
          },
          "execution_count": 36,
          "metadata": {},
          "output_type": "execute_result"
        }
      ],
      "source": [
        "lines[0]"
      ]
    },
    {
      "cell_type": "code",
      "execution_count": 37,
      "metadata": {
        "colab": {
          "base_uri": "https://localhost:8080/",
          "height": 35
        },
        "id": "lLhGNDsDDACm",
        "outputId": "688b158b-d4d7-4d03-ad1c-278e3ba3e655"
      },
      "outputs": [
        {
          "data": {
            "application/vnd.google.colaboratory.intrinsic+json": {
              "type": "string"
            },
            "text/plain": [
              "'Widget A, 10.50, 100\\n'"
            ]
          },
          "execution_count": 37,
          "metadata": {},
          "output_type": "execute_result"
        }
      ],
      "source": [
        "lines[1]"
      ]
    },
    {
      "cell_type": "code",
      "execution_count": 39,
      "metadata": {
        "colab": {
          "base_uri": "https://localhost:8080/"
        },
        "id": "sJX_LqmfDFW9",
        "outputId": "fd262e3d-f9e0-49df-8ec9-683b38ab188c"
      },
      "outputs": [
        {
          "name": "stdout",
          "output_type": "stream",
          "text": [
            "Hola\n",
            "Mi nombre es Juan\n"
          ]
        }
      ],
      "source": [
        "# \\n es una nueva linea\n",
        "print(\"Hola\\nMi nombre es Juan\")"
      ]
    },
    {
      "cell_type": "code",
      "execution_count": 40,
      "metadata": {
        "colab": {
          "base_uri": "https://localhost:8080/"
        },
        "id": "6z8_buj9Dkr2",
        "outputId": "a71dba56-0daa-4803-d39b-3deef62e764f"
      },
      "outputs": [
        {
          "name": "stdout",
          "output_type": "stream",
          "text": [
            "          Product   Price   Stock\n",
            "0        Widget A   10.50     100\n",
            "1        Widget B   15.75      75\n",
            "2        Widget C    8.99     120\n",
            "3        Gadget X   49.99      50\n",
            "4        Gadget Y   64.75      40\n",
            "5        Gadget Z   74.50      30\n",
            "6          Book 1   12.99      85\n",
            "7          Book 2   18.25      60\n",
            "8          Book 3   14.99      75\n",
            "9          Tool 1   29.99      40\n",
            "10         Tool 2   22.50      55\n",
            "11         Tool 3   34.99      35\n",
            "12     Clothing A   24.95      90\n",
            "13     Clothing B   32.50      65\n",
            "14     Clothing C   19.99      80\n",
            "15  Electronics 1  199.99      20\n",
            "16  Electronics 2  299.50      15\n",
            "17  Electronics 3  149.99      25\n",
            "18    Furniture A  149.50      45\n",
            "19    Furniture B  199.99      30\n",
            "20    Furniture C   99.75      55\n"
          ]
        }
      ],
      "source": [
        "data = pd.read_csv(\"products.txt\")\n",
        "print(data)"
      ]
    },
    {
      "cell_type": "code",
      "execution_count": 42,
      "metadata": {
        "colab": {
          "base_uri": "https://localhost:8080/"
        },
        "id": "L-ix1iZhERFi",
        "outputId": "775cd538-9eb4-4f5f-a260-70db89a8da73"
      },
      "outputs": [
        {
          "name": "stdout",
          "output_type": "stream",
          "text": [
            "<class 'str'>\n",
            "<class 'int'>\n",
            "<class 'pandas.core.frame.DataFrame'>\n"
          ]
        }
      ],
      "source": [
        "print(type(\"3\"))\n",
        "print(type(3))\n",
        "print(type(data))"
      ]
    },
    {
      "cell_type": "code",
      "execution_count": 43,
      "metadata": {
        "colab": {
          "base_uri": "https://localhost:8080/"
        },
        "id": "_GIhhqXWE3zD",
        "outputId": "c0d95f72-7308-4603-cfa3-c14bd6f3bb96"
      },
      "outputs": [
        {
          "name": "stdout",
          "output_type": "stream",
          "text": [
            "    Product   Price   Stock\n",
            "0  Widget A   10.50     100\n",
            "1  Widget B   15.75      75\n",
            "2  Widget C    8.99     120\n",
            "3  Gadget X   49.99      50\n",
            "4  Gadget Y   64.75      40\n"
          ]
        }
      ],
      "source": [
        "print(data.head())"
      ]
    },
    {
      "cell_type": "code",
      "execution_count": 44,
      "metadata": {
        "colab": {
          "base_uri": "https://localhost:8080/"
        },
        "id": "hYpGB7R-FFVx",
        "outputId": "0e5c04d7-c3f4-426b-f9b0-a33ba63e12f6"
      },
      "outputs": [
        {
          "name": "stdout",
          "output_type": "stream",
          "text": [
            "    Product   Price   Stock\n",
            "0  Widget A    10.5     100\n"
          ]
        }
      ],
      "source": [
        "print(data.head(1))"
      ]
    },
    {
      "cell_type": "code",
      "execution_count": 45,
      "metadata": {
        "colab": {
          "base_uri": "https://localhost:8080/"
        },
        "id": "WSTjdkacFKPu",
        "outputId": "3b2214a2-ff13-4368-ce02-38a9d5b22c33"
      },
      "outputs": [
        {
          "name": "stdout",
          "output_type": "stream",
          "text": [
            "          Product   Price   Stock\n",
            "16  Electronics 2  299.50      15\n",
            "17  Electronics 3  149.99      25\n",
            "18    Furniture A  149.50      45\n",
            "19    Furniture B  199.99      30\n",
            "20    Furniture C   99.75      55\n"
          ]
        }
      ],
      "source": [
        "print(data.tail())"
      ]
    },
    {
      "cell_type": "code",
      "execution_count": 46,
      "metadata": {
        "colab": {
          "base_uri": "https://localhost:8080/"
        },
        "id": "7iep1QtRFPnv",
        "outputId": "3c0d426b-b146-431c-c01a-a0ea0d7c87bd"
      },
      "outputs": [
        {
          "name": "stdout",
          "output_type": "stream",
          "text": [
            "          Product   Price   Stock\n",
            "0        Widget A   10.50     100\n",
            "1        Widget B   15.75      75\n",
            "2        Widget C    8.99     120\n",
            "3        Gadget X   49.99      50\n",
            "4        Gadget Y   64.75      40\n",
            "5        Gadget Z   74.50      30\n",
            "6          Book 1   12.99      85\n",
            "7          Book 2   18.25      60\n",
            "8          Book 3   14.99      75\n",
            "9          Tool 1   29.99      40\n",
            "10         Tool 2   22.50      55\n",
            "11         Tool 3   34.99      35\n",
            "12     Clothing A   24.95      90\n",
            "13     Clothing B   32.50      65\n",
            "14     Clothing C   19.99      80\n",
            "15  Electronics 1  199.99      20\n",
            "16  Electronics 2  299.50      15\n",
            "17  Electronics 3  149.99      25\n",
            "18    Furniture A  149.50      45\n",
            "19    Furniture B  199.99      30\n",
            "20    Furniture C   99.75      55\n"
          ]
        }
      ],
      "source": [
        "print(data.tail(25))"
      ]
    },
    {
      "cell_type": "code",
      "execution_count": 48,
      "metadata": {
        "colab": {
          "base_uri": "https://localhost:8080/"
        },
        "id": "nTo9KBBoFaKo",
        "outputId": "2bdb6b0e-0c30-481f-96ca-c266d2c06c5b"
      },
      "outputs": [
        {
          "name": "stdout",
          "output_type": "stream",
          "text": [
            "[0, 1, 2, 3, 4, 5, 6, 7, 8, 9, 10, 11, 12, 13, 14, 15, 16, 17, 18, 19, 20]\n"
          ]
        }
      ],
      "source": [
        "print(list(data.index))"
      ]
    },
    {
      "cell_type": "code",
      "execution_count": 49,
      "metadata": {
        "colab": {
          "base_uri": "https://localhost:8080/"
        },
        "id": "O_JSjvS6FxS-",
        "outputId": "75c41000-7710-4038-b5ef-cd308ceac528"
      },
      "outputs": [
        {
          "name": "stdout",
          "output_type": "stream",
          "text": [
            "Index(['Product', ' Price', ' Stock'], dtype='object')\n"
          ]
        }
      ],
      "source": [
        "print(data.columns)"
      ]
    },
    {
      "cell_type": "code",
      "execution_count": 51,
      "metadata": {
        "colab": {
          "base_uri": "https://localhost:8080/"
        },
        "id": "v_vMgCM9F4jX",
        "outputId": "7509420c-1a38-4030-eae1-2b31f18dda34"
      },
      "outputs": [
        {
          "name": "stdout",
          "output_type": "stream",
          "text": [
            "Product     object\n",
            " Price     float64\n",
            " Stock       int64\n",
            "dtype: object\n"
          ]
        }
      ],
      "source": [
        "print(data.dtypes)"
      ]
    },
    {
      "cell_type": "code",
      "execution_count": 53,
      "metadata": {
        "colab": {
          "base_uri": "https://localhost:8080/"
        },
        "id": "-LxDyZguGkKE",
        "outputId": "a0f84bcf-0b29-4f5c-df04-55c64e35354c"
      },
      "outputs": [
        {
          "name": "stdout",
          "output_type": "stream",
          "text": [
            "0    Widget A\n",
            "1    Widget B\n",
            "2    Widget C\n",
            "Name: Product, dtype: object\n"
          ]
        }
      ],
      "source": [
        "print(data[\"Product\"].head(3))"
      ]
    },
    {
      "cell_type": "code",
      "execution_count": 56,
      "metadata": {
        "colab": {
          "base_uri": "https://localhost:8080/"
        },
        "id": "xw95nq_NGwYj",
        "outputId": "e45093b2-6e93-4efd-da07-e6b10146e411"
      },
      "outputs": [
        {
          "name": "stdout",
          "output_type": "stream",
          "text": [
            "0    100\n",
            "1     75\n",
            "2    120\n",
            "Name:  Stock, dtype: int64\n"
          ]
        }
      ],
      "source": [
        "print(data[\" Stock\"].head(3))"
      ]
    },
    {
      "cell_type": "code",
      "execution_count": 58,
      "metadata": {
        "id": "voUdsNFrHDtf"
      },
      "outputs": [],
      "source": [
        "lista_1 = [\"Product\", \" Price\", \" Stock\"]\n",
        "lista_1[0] = lista_1[0].replace(\" \", \"\")\n",
        "lista_1[1] = lista_1[1].replace(\" \", \"\")\n",
        "lista_1[2] = lista_1[2].replace(\" \", \"\")\n",
        "\n",
        "clean_columns = []\n",
        "for column in data.columns:\n",
        "  clean_columns.append(column.strip())"
      ]
    },
    {
      "cell_type": "code",
      "execution_count": 59,
      "metadata": {
        "colab": {
          "base_uri": "https://localhost:8080/"
        },
        "id": "Hn6oJBn8H1WQ",
        "outputId": "7dc2319b-9c97-47e4-d168-28cc1d06982d"
      },
      "outputs": [
        {
          "name": "stdout",
          "output_type": "stream",
          "text": [
            "['Product', 'Price', 'Stock']\n"
          ]
        }
      ],
      "source": [
        "print(clean_columns)"
      ]
    },
    {
      "cell_type": "code",
      "execution_count": 60,
      "metadata": {
        "id": "X9KHL41qH6Cd"
      },
      "outputs": [],
      "source": [
        "# Forma numero 1\n",
        "data.columns = clean_columns\n",
        "# Forma numero 2\n",
        "# clean_data = data.rename(columns={\" Products\": \"Products\"})\n",
        "# Forma numero 2, solo se usa cuando necesito cambiar algunas columnas\n",
        "# Si debo cambiar todas, uso la forma numero 1"
      ]
    },
    {
      "cell_type": "code",
      "execution_count": 61,
      "metadata": {
        "colab": {
          "base_uri": "https://localhost:8080/"
        },
        "id": "dA6RK6XVIT7a",
        "outputId": "46d99fd5-14df-4e05-d34a-a711dd96d3c1"
      },
      "outputs": [
        {
          "name": "stdout",
          "output_type": "stream",
          "text": [
            "    Product  Price  Stock\n",
            "0  Widget A  10.50    100\n",
            "1  Widget B  15.75     75\n"
          ]
        }
      ],
      "source": [
        "print(data.head(2))"
      ]
    },
    {
      "cell_type": "code",
      "execution_count": 62,
      "metadata": {
        "colab": {
          "base_uri": "https://localhost:8080/"
        },
        "id": "fCB2OIueInDc",
        "outputId": "4dc8a3f6-7372-4637-c8ae-ad28347c7177"
      },
      "outputs": [
        {
          "name": "stdout",
          "output_type": "stream",
          "text": [
            "   columna1  columna2  columna3\n",
            "0  Widget A     10.50       100\n",
            "1  Widget B     15.75        75\n"
          ]
        }
      ],
      "source": [
        "data_copy = data.copy()\n",
        "data_copy.columns = [\"columna1\", \"columna2\", \"columna3\"]\n",
        "print(data_copy.head(2))"
      ]
    },
    {
      "cell_type": "code",
      "execution_count": 63,
      "metadata": {
        "colab": {
          "base_uri": "https://localhost:8080/"
        },
        "id": "yNpjg-14I3S_",
        "outputId": "28f05e05-125e-4810-a886-b201534f9786"
      },
      "outputs": [
        {
          "name": "stdout",
          "output_type": "stream",
          "text": [
            "    Product  Price  Stock\n",
            "0  Widget A  10.50    100\n",
            "1  Widget B  15.75     75\n"
          ]
        }
      ],
      "source": [
        "print(data.head(2))"
      ]
    },
    {
      "cell_type": "code",
      "execution_count": 64,
      "metadata": {
        "colab": {
          "base_uri": "https://localhost:8080/"
        },
        "id": "k5CBQ0gDI4Tc",
        "outputId": "96eb3468-01d7-4337-fede-8bcfe9177848"
      },
      "outputs": [
        {
          "name": "stdout",
          "output_type": "stream",
          "text": [
            "Index(['Product', 'Price', 'Stock'], dtype='object')\n"
          ]
        }
      ],
      "source": [
        "print(data.columns)"
      ]
    },
    {
      "cell_type": "code",
      "execution_count": 65,
      "metadata": {
        "colab": {
          "base_uri": "https://localhost:8080/"
        },
        "id": "eS7NQxgFI9nn",
        "outputId": "04c0c89c-f2da-41ed-c507-6b1d74751296"
      },
      "outputs": [
        {
          "name": "stdout",
          "output_type": "stream",
          "text": [
            "0    100\n",
            "1     75\n",
            "Name: Stock, dtype: int64\n"
          ]
        }
      ],
      "source": [
        "print(data[\"Stock\"].head(2))"
      ]
    },
    {
      "cell_type": "code",
      "execution_count": 66,
      "metadata": {
        "colab": {
          "base_uri": "https://localhost:8080/"
        },
        "id": "jFT_nDYOJEAb",
        "outputId": "a6e7dda9-2537-4583-d0c1-2c6733bc5434"
      },
      "outputs": [
        {
          "name": "stdout",
          "output_type": "stream",
          "text": [
            "            Price       Stock\n",
            "count   21.000000   21.000000\n",
            "mean    73.064286   56.666667\n",
            "std     80.777202   28.121759\n",
            "min      8.990000   15.000000\n",
            "25%     18.250000   35.000000\n",
            "50%     32.500000   55.000000\n",
            "75%     99.750000   75.000000\n",
            "max    299.500000  120.000000\n"
          ]
        }
      ],
      "source": [
        "print(data.describe())"
      ]
    },
    {
      "cell_type": "code",
      "execution_count": 67,
      "metadata": {
        "colab": {
          "base_uri": "https://localhost:8080/"
        },
        "id": "msHxd6GHKQme",
        "outputId": "82e77eea-fb7b-4a99-c22d-34966cc7aee0"
      },
      "outputs": [
        {
          "name": "stdout",
          "output_type": "stream",
          "text": [
            "<class 'pandas.core.frame.DataFrame'>\n",
            "RangeIndex: 21 entries, 0 to 20\n",
            "Data columns (total 3 columns):\n",
            " #   Column   Non-Null Count  Dtype  \n",
            "---  ------   --------------  -----  \n",
            " 0   Product  21 non-null     object \n",
            " 1   Price    21 non-null     float64\n",
            " 2   Stock    21 non-null     int64  \n",
            "dtypes: float64(1), int64(1), object(1)\n",
            "memory usage: 632.0+ bytes\n",
            "None\n"
          ]
        }
      ],
      "source": [
        "print(data.info())"
      ]
    },
    {
      "cell_type": "code",
      "execution_count": 69,
      "metadata": {
        "colab": {
          "base_uri": "https://localhost:8080/"
        },
        "id": "3HloqM0OKReV",
        "outputId": "6d22bd5d-006a-47fc-9e2e-70e2cf5d1967"
      },
      "outputs": [
        {
          "name": "stdout",
          "output_type": "stream",
          "text": [
            "(21, 3)\n"
          ]
        }
      ],
      "source": [
        "print(data.shape)"
      ]
    },
    {
      "cell_type": "code",
      "execution_count": 71,
      "metadata": {
        "colab": {
          "base_uri": "https://localhost:8080/"
        },
        "id": "6x525C5hMOWp",
        "outputId": "24233721-c925-4031-8875-8cd358952242"
      },
      "outputs": [
        {
          "name": "stdout",
          "output_type": "stream",
          "text": [
            "[['Widget A' 10.5 100]\n",
            " ['Widget B' 15.75 75]\n",
            " ['Widget C' 8.99 120]\n",
            " ['Gadget X' 49.99 50]\n",
            " ['Gadget Y' 64.75 40]\n",
            " ['Gadget Z' 74.5 30]\n",
            " ['Book 1' 12.99 85]\n",
            " ['Book 2' 18.25 60]\n",
            " ['Book 3' 14.99 75]\n",
            " ['Tool 1' 29.99 40]\n",
            " ['Tool 2' 22.5 55]\n",
            " ['Tool 3' 34.99 35]\n",
            " ['Clothing A' 24.95 90]\n",
            " ['Clothing B' 32.5 65]\n",
            " ['Clothing C' 19.99 80]\n",
            " ['Electronics 1' 199.99 20]\n",
            " ['Electronics 2' 299.5 15]\n",
            " ['Electronics 3' 149.99 25]\n",
            " ['Furniture A' 149.5 45]\n",
            " ['Furniture B' 199.99 30]\n",
            " ['Furniture C' 99.75 55]]\n"
          ]
        }
      ],
      "source": [
        "print(data.values)"
      ]
    },
    {
      "cell_type": "code",
      "execution_count": 72,
      "metadata": {
        "colab": {
          "base_uri": "https://localhost:8080/"
        },
        "id": "fPWvOFUvMjT_",
        "outputId": "e00fdbd9-c69c-4286-bb09-fa234d18c57e"
      },
      "outputs": [
        {
          "name": "stdout",
          "output_type": "stream",
          "text": [
            "          Product   Price  Stock\n",
            "16  Electronics 2  299.50     15\n",
            "19    Furniture B  199.99     30\n",
            "15  Electronics 1  199.99     20\n",
            "17  Electronics 3  149.99     25\n",
            "18    Furniture A  149.50     45\n",
            "20    Furniture C   99.75     55\n",
            "5        Gadget Z   74.50     30\n",
            "4        Gadget Y   64.75     40\n",
            "3        Gadget X   49.99     50\n",
            "11         Tool 3   34.99     35\n",
            "13     Clothing B   32.50     65\n",
            "9          Tool 1   29.99     40\n",
            "12     Clothing A   24.95     90\n",
            "10         Tool 2   22.50     55\n",
            "14     Clothing C   19.99     80\n",
            "7          Book 2   18.25     60\n",
            "1        Widget B   15.75     75\n",
            "8          Book 3   14.99     75\n",
            "6          Book 1   12.99     85\n",
            "0        Widget A   10.50    100\n",
            "2        Widget C    8.99    120\n"
          ]
        }
      ],
      "source": [
        "print(data.sort_values(by=\"Price\", ascending=0))"
      ]
    },
    {
      "cell_type": "code",
      "execution_count": 73,
      "metadata": {
        "colab": {
          "base_uri": "https://localhost:8080/"
        },
        "id": "DFYVzGXAM6PN",
        "outputId": "162c1cf7-bd60-4750-a35c-7a71657194a3"
      },
      "outputs": [
        {
          "name": "stdout",
          "output_type": "stream",
          "text": [
            "          Product   Price  Stock\n",
            "16  Electronics 2  299.50     15\n",
            "15  Electronics 1  199.99     20\n",
            "17  Electronics 3  149.99     25\n",
            "5        Gadget Z   74.50     30\n",
            "19    Furniture B  199.99     30\n",
            "11         Tool 3   34.99     35\n",
            "4        Gadget Y   64.75     40\n",
            "9          Tool 1   29.99     40\n",
            "18    Furniture A  149.50     45\n",
            "3        Gadget X   49.99     50\n",
            "10         Tool 2   22.50     55\n",
            "20    Furniture C   99.75     55\n",
            "7          Book 2   18.25     60\n",
            "13     Clothing B   32.50     65\n",
            "1        Widget B   15.75     75\n",
            "8          Book 3   14.99     75\n",
            "14     Clothing C   19.99     80\n",
            "6          Book 1   12.99     85\n",
            "12     Clothing A   24.95     90\n",
            "0        Widget A   10.50    100\n",
            "2        Widget C    8.99    120\n"
          ]
        }
      ],
      "source": [
        "print(data.sort_values(by=\"Stock\", ascending=1))"
      ]
    },
    {
      "cell_type": "code",
      "execution_count": 74,
      "metadata": {
        "colab": {
          "base_uri": "https://localhost:8080/"
        },
        "id": "Pb--Zp8cNBJG",
        "outputId": "89e44bd3-94cf-4f85-a873-0af9f37f8dcf"
      },
      "outputs": [
        {
          "name": "stdout",
          "output_type": "stream",
          "text": [
            "    Product   Price   Stock\n",
            "0  Widget A   10.50     100\n",
            "1  Widget B   15.75      75\n",
            "2  Widget C    8.99     120\n",
            "3  Gadget X   49.99      50\n",
            "4  Gadget Y   64.75      40\n"
          ]
        }
      ],
      "source": [
        "df = pd.read_excel(\"products.xlsx\")\n",
        "print(df.head())"
      ]
    },
    {
      "cell_type": "code",
      "execution_count": 75,
      "metadata": {
        "colab": {
          "base_uri": "https://localhost:8080/",
          "height": 448
        },
        "id": "gsBcvTY2OT3Y",
        "outputId": "527b3922-60d1-4645-c691-eba23ab911aa"
      },
      "outputs": [
        {
          "name": "stdout",
          "output_type": "stream",
          "text": [
            "Axes(0.125,0.11;0.775x0.77)\n"
          ]
        },
        {
          "data": {
            "image/png": "[encoded data removed]",
            "text/plain": [
              "<Figure size 640x480 with 1 Axes>"
            ]
          },
          "metadata": {},
          "output_type": "display_data"
        }
      ],
      "source": [
        "print(df.plot())"
      ]
    }
  ],
  "metadata": {
    "colab": {
      "provenance": []
    },
    "kernelspec": {
      "display_name": "Python 3",
      "name": "python3"
    },
    "language_info": {
      "name": "python",
      "version": "3.12.2"
    }
  },
  "nbformat": 4,
  "nbformat_minor": 0
}
