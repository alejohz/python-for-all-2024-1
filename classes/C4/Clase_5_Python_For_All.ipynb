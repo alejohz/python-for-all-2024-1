{
  "cells": [
    {
      "cell_type": "markdown",
      "metadata": {
        "id": "dMUp5RfDIKSn"
      },
      "source": [
        "# Clase 5\n",
        "\n",
        "**Contenido**\n",
        "- Preguntas ejercicios anteriores\n",
        "- Metodología de evaluación al final de la clase (Insignia)\n",
        "- Ejercicio de repaso For y Diccionarios\n",
        "- Ejercicios (114, 115)\n",
        "- Ciclos (While), sleep\n",
        "- Ejercicio 62\n",
        "- Que son funciones?\n",
        "- Ejercicio 62 (Normal y Con funciones)\n",
        "- Ejercicio 69 (Normal y Con funciones)"
      ]
    },
    {
      "cell_type": "markdown",
      "metadata": {
        "id": "Hb--N3l_IKSp"
      },
      "source": [
        "## Temas de estudio\n",
        "- [While Loops](https://www.w3schools.com/python/python_while_loops.asp)\n",
        "- [Funciones](https://www.w3schools.com/python/python_functions.asp)\n",
        "\n",
        "## Ejercicios\n",
        "- Ejercicios 63, *67*, 75, 76, 77, 79, *84*, 110, 111, 113, 116, 120, 133, 139, 140, 142, *143*"
      ]
    },
    {
      "cell_type": "code",
      "execution_count": 1,
      "metadata": {
        "colab": {
          "base_uri": "https://localhost:8080/"
        },
        "id": "GfNhQOUzIKSp",
        "outputId": "561f3d66-a6ce-447a-e1bc-acd2892c4ebe"
      },
      "outputs": [
        {
          "output_type": "stream",
          "name": "stdout",
          "text": [
            "{}\n",
            "Iteración 1\n",
            "a\n",
            "{'a': 1}\n",
            "Iteración 2\n",
            "n\n",
            "{'a': 1, 'n': 1}\n",
            "Iteración 3\n",
            "a\n",
            "{'a': 2, 'n': 1}\n",
            "Iteración 4\n",
            "n\n",
            "{'a': 2, 'n': 2}\n",
            "Iteración 5\n",
            "a\n",
            "{'a': 3, 'n': 2}\n",
            "5\n",
            "{'a': 3, 'n': 2}\n"
          ]
        }
      ],
      "source": [
        "# Ejercicio de repaso For y Diccionarios\n",
        "\"\"\"\n",
        "Crear un diccionario que cuente la cantidad de veces que se repite cada letra en una\n",
        "palabra.\n",
        "Ejercicio para estudio:\n",
        "Crear un diccionario que cuente la cantidad de veces que se repite cada palabra en una\n",
        "frase.\n",
        "\"\"\"\n",
        "palabra = \"anana\"\n",
        "lista_palabra = list(palabra)\n",
        "contador = 1\n",
        "dict_palabra = {}\n",
        "print(dict_palabra)\n",
        "for letra in lista_palabra:\n",
        "  print(\"Iteración\", contador)\n",
        "  contador = contador + 1\n",
        "  print(letra) # letra: iterador\n",
        "  if letra in dict_palabra.keys():\n",
        "    dict_palabra[letra] = dict_palabra[letra] + 1\n",
        "  else:\n",
        "    dict_palabra[letra] = 1\n",
        "  print(dict_palabra)\n",
        "print(len(lista_palabra))\n",
        "print(dict_palabra)"
      ]
    },
    {
      "cell_type": "code",
      "source": [
        "inventario = {\"a\": 100}\n",
        "print(inventario)\n",
        "print(inventario[\"a\"])\n",
        "print(inventario[\"a\"] + 100)\n",
        "inventario[\"a\"] = inventario[\"a\"] + 100\n",
        "print(inventario)"
      ],
      "metadata": {
        "colab": {
          "base_uri": "https://localhost:8080/"
        },
        "id": "j8m2DwJDW4fx",
        "outputId": "f0fa8c84-9594-4556-e8bd-9a9dc1bc4db6"
      },
      "execution_count": 2,
      "outputs": [
        {
          "output_type": "stream",
          "name": "stdout",
          "text": [
            "{'a': 100}\n",
            "100\n",
            "200\n",
            "{'a': 200}\n"
          ]
        }
      ]
    },
    {
      "cell_type": "code",
      "execution_count": 3,
      "metadata": {
        "colab": {
          "base_uri": "https://localhost:8080/"
        },
        "id": "b3Lk0gcxIKSq",
        "outputId": "f57b798e-b00b-4844-805d-0a140fba7579"
      },
      "outputs": [
        {
          "output_type": "stream",
          "name": "stdout",
          "text": [
            "Escribe el primer numero 1\n",
            "Escribe un numero 0\n",
            "Escribe un numero 1\n",
            "Escribe un numero  \n",
            "[]\n",
            "[0]\n",
            "[1, 1]\n"
          ]
        }
      ],
      "source": [
        "\"\"\"\n",
        "Exercise 114: Negatives, Zeros and Positives\n",
        "\n",
        "Create a program that reads integers from the user until a blank line is\n",
        "entered.\n",
        "\n",
        "Once all of the integers have been read your program should\n",
        "display all of the negative numbers, followed by all of the zeros, followed\n",
        "by all of the positive numbers.\n",
        "\n",
        "Within each group the numbers should be\n",
        "displayed in the same order that they were entered by the user. For example,\n",
        "if the user enters the values 3, -4, 1, 0, -1, 0, and -2 then\n",
        "your program should output the values -4, -1, -2, 0, 0, 3, and 1. Your\n",
        "program should display each value on its own line.\n",
        "\"\"\"\n",
        "# Debes usar while, listas, input, print\n",
        "# Vamos a usar un nuevo ciclo\n",
        "# Se llama WHILE\n",
        "# While me permite iterar hasta que una condicion se cumpla\n",
        "# En los ciclos\n",
        "# Hay dos iteradores especiales\n",
        "# Contadores, Acumuladores\n",
        "from time import sleep # modulo time tambien es built-in\n",
        "# Segunda forma de resolver el ejercicio: Iterar sobre la lista creada\n",
        "# Primera forma, organizar los elementos antes de crear la lista\n",
        "negativos = []\n",
        "ceros = []\n",
        "positivos = []\n",
        "numero = input(\"Escribe el primer numero \") # Inicializar la variable\n",
        "while numero != \" \":\n",
        "  # sleep(3)\n",
        "  numero_int = int(numero)\n",
        "  if numero_int < 0:\n",
        "    negativos.append(numero_int)\n",
        "  elif numero_int == 0:\n",
        "    ceros.append(numero_int)\n",
        "  elif numero_int > 0:\n",
        "    positivos.append(numero_int)\n",
        "  numero = input(\"Escribe un numero \")\n",
        "print(negativos)\n",
        "print(ceros)\n",
        "print(positivos)"
      ]
    },
    {
      "cell_type": "code",
      "source": [
        "\"\"\"\n",
        "Exercise 62: Roulette Payouts\n",
        "A roulette wheel has 38 spaces on it. Of these spaces, 18 are black, 18 are red,\n",
        "and two are green. The green spaces are numbered 0 and 00. The red spaces are\n",
        "numbered 1, 3, 5, 7, 9, 12, 14, 16, 18, 19, 21, 23, 25, 27, 30 32, 34 and 36.\n",
        "The remaining integers between 1 and 36 are used to number the black spaces.\n",
        "Many different bets can be placed in roulette. We will only consider the following\n",
        "subset of them in this exercise:\n",
        "• Single number (1 to 36, 0, or 00)\n",
        "• Red versus Black\n",
        "• Odd versus Even (Note that 0 and 00 do not pay out for even)\n",
        "• 1 to 18 versus 19 to 36\n",
        "Write a program that simulates a spin of a roulette wheel by using Python’s random\n",
        " number generator. Display the number that was selected and all of the bets that\n",
        " must be payed. For example, if 13 is selected then your program should display:\n",
        " The spin resulted in 13...\n",
        "Pay 13\n",
        "Pay Black\n",
        "Pay Odd\n",
        "Pay 1 to 18\n",
        "If the simulation results in 0 or 00 then your program should display Pay 0 or\n",
        "Pay 00 without any further output.\n",
        "\"\"\""
      ],
      "metadata": {
        "colab": {
          "base_uri": "https://localhost:8080/",
          "height": 143
        },
        "id": "sl_-hBCfji7G",
        "outputId": "2dfd7ea5-5e39-4b6a-91fc-6dc933594e6a"
      },
      "execution_count": 4,
      "outputs": [
        {
          "output_type": "execute_result",
          "data": {
            "text/plain": [
              "'\\nExercise 62: Roulette Payouts\\nA roulette wheel has 38 spaces on it. Of these spaces, 18 are black, 18 are red,\\nand two are green. The green spaces are numbered 0 and 00. The red spaces are\\nnumbered 1, 3, 5, 7, 9, 12, 14, 16, 18, 19, 21, 23, 25, 27, 30 32, 34 and 36.\\nThe remaining integers between 1 and 36 are used to number the black spaces.\\nMany different bets can be placed in roulette. We will only consider the following\\nsubset of them in this exercise:\\n• Single number (1 to 36, 0, or 00)\\n• Red versus Black\\n• Odd versus Even (Note that 0 and 00 do not pay out for even) \\n• 1 to 18 versus 19 to 36\\nWrite a program that simulates a spin of a roulette wheel by using Python’s random\\n number generator. Display the number that was selected and all of the bets that\\n must be payed. For example, if 13 is selected then your program should display:\\n The spin resulted in 13...\\nPay 13\\nPay Black\\nPay Odd\\nPay 1 to 18\\nIf the simulation results in 0 or 00 then your program should display Pay 0 or \\nPay 00 without any further output.\\n'"
            ],
            "application/vnd.google.colaboratory.intrinsic+json": {
              "type": "string"
            }
          },
          "metadata": {},
          "execution_count": 4
        }
      ]
    },
    {
      "cell_type": "code",
      "source": [
        "from random import choice\n",
        "\n",
        "numeros = list(range(1, 37))\n",
        "ceros = [0, \"00\"]\n",
        "lista_completa = numeros + ceros\n",
        "lista_rojos = [\n",
        "    1, 3, 5, 7, 9, 12, 14, 16, 18, 19, 21, 23, 25, 27, 30, 32, 34, 36\n",
        "]\n",
        "eleccion_aleatoria = choice(lista_completa)\n",
        "print(f\"La ruleta saca {eleccion_aleatoria}\")\n",
        "if eleccion_aleatoria == 0 or eleccion_aleatoria == \"00\":\n",
        "  print(f\"Pay {eleccion_aleatoria}\")\n",
        "else:\n",
        "  print(f\"Pay {eleccion_aleatoria}\") # Primera regla de pago\n",
        "  if eleccion_aleatoria in lista_rojos: # Segunda regla de pago\n",
        "    print(\"Pay Red\")\n",
        "  else:\n",
        "    print(\"Pay Black\")\n",
        "  numero_es_par = eleccion_aleatoria % 2 == 0\n",
        "  if numero_es_par: # Tercera regla de pago\n",
        "    print(\"Pay Even\")\n",
        "  else:\n",
        "    print(\"Pay Odd\")\n",
        "  if eleccion_aleatoria <= 18: # Cuarta regla de pago\n",
        "    print(\"Pay 1 to 18\")\n",
        "  else:\n",
        "    print(\"Pay 19 to 36\")"
      ],
      "metadata": {
        "colab": {
          "base_uri": "https://localhost:8080/"
        },
        "id": "l1JMqX5Zkl1t",
        "outputId": "1a6e9c17-f942-4f7f-c0c9-d91372279a22"
      },
      "execution_count": 5,
      "outputs": [
        {
          "output_type": "stream",
          "name": "stdout",
          "text": [
            "La ruleta saca 35\n",
            "Pay 35\n",
            "Pay Black\n",
            "Pay Odd\n",
            "Pay 19 to 36\n"
          ]
        }
      ]
    },
    {
      "cell_type": "code",
      "source": [
        "# + también funciona para strings y listas\n",
        "print(\"Hola\" + \"Mundo\")\n",
        "print([1, 2] + [3, 4])"
      ],
      "metadata": {
        "colab": {
          "base_uri": "https://localhost:8080/"
        },
        "id": "6RE4TpSAmB5p",
        "outputId": "51ebf293-c3a4-441d-927d-8d3f231948bd"
      },
      "execution_count": 6,
      "outputs": [
        {
          "output_type": "stream",
          "name": "stdout",
          "text": [
            "HolaMundo\n",
            "[1, 2, 3, 4]\n"
          ]
        }
      ]
    },
    {
      "cell_type": "code",
      "source": [
        "numero = 1\n",
        "print(numero)\n",
        "print(\"numero\")\n",
        "print(\"{numero}\")\n",
        "print(f\"El valor es {numero}\")"
      ],
      "metadata": {
        "colab": {
          "base_uri": "https://localhost:8080/"
        },
        "id": "PucfbLhUo43i",
        "outputId": "ef00c4ef-6389-4da8-8215-4ae307ce9490"
      },
      "execution_count": 7,
      "outputs": [
        {
          "output_type": "stream",
          "name": "stdout",
          "text": [
            "1\n",
            "numero\n",
            "{numero}\n",
            "El valor es 1\n"
          ]
        }
      ]
    },
    {
      "cell_type": "code",
      "source": [
        "# Funciones.\n",
        "# Hay funciones ya hechas por python que yo utilizo\n",
        "# Por ejemplo: print, input, int, float\n",
        "# Hay funciones, que puedo importar de modulos ya creados\n",
        "# Por ejemplo: de random choice, o de time sleep, o de math sqrt\n",
        "# Pero tambien, YO mismo puedo crear mis funciones\n",
        "# Las funciones que yo creo, tienen un nombre especial\n",
        "# Se llaman UDF\n",
        "# User Defined Functions\n",
        "\n",
        "# Las funciones son comandos, o actividades que hacen algo.\n",
        "# Pueden recibir o no recibir parametros.\n",
        "# Pueden devolver o no devolver valores.\n",
        "# Pero siempre, deben tener un nombre."
      ],
      "metadata": {
        "id": "Tu-GPuvor-fQ"
      },
      "execution_count": 8,
      "outputs": []
    },
    {
      "cell_type": "code",
      "source": [
        "nombre = input(\"Dame tu nombre\")\n",
        "print(\"Hola\", nombre)"
      ],
      "metadata": {
        "colab": {
          "base_uri": "https://localhost:8080/"
        },
        "id": "y-U6AR3yslUU",
        "outputId": "76df950f-2293-4118-c2d9-2d8cc04802e9"
      },
      "execution_count": 9,
      "outputs": [
        {
          "output_type": "stream",
          "name": "stdout",
          "text": [
            "Dame tu nombrejuan\n",
            "Hola juan\n"
          ]
        }
      ]
    },
    {
      "cell_type": "code",
      "source": [
        "# Convertir en una función\n",
        "# Las palabras reservadas que voy a usar en funciones\n",
        "# Son def y return\n",
        "# Def viene de definir\n",
        "# return es devolver"
      ],
      "metadata": {
        "id": "oIhCg559suJq"
      },
      "execution_count": 10,
      "outputs": []
    },
    {
      "cell_type": "code",
      "source": [
        "def saludar():\n",
        "  nombre = input(\"Dame tu nombre\")\n",
        "  print(\"Hola\", nombre)"
      ],
      "metadata": {
        "id": "8DNVgWKms9gI"
      },
      "execution_count": 11,
      "outputs": []
    },
    {
      "cell_type": "code",
      "source": [
        "saludar()"
      ],
      "metadata": {
        "colab": {
          "base_uri": "https://localhost:8080/"
        },
        "id": "7SebKrXNtPth",
        "outputId": "fc2125a8-3885-4fe6-a4e4-73953636f0e6"
      },
      "execution_count": 12,
      "outputs": [
        {
          "output_type": "stream",
          "name": "stdout",
          "text": [
            "Dame tu nombrejuan\n",
            "Hola juan\n"
          ]
        }
      ]
    },
    {
      "cell_type": "code",
      "source": [
        "# Algunas convenciones\n",
        "# Los nombres de las funciones\n",
        "# Siguen la misma regla que los nombres de las variables\n",
        "# Se recomienda tener un nombre, que explique la función que\n",
        "# hace"
      ],
      "metadata": {
        "id": "10nIJ7jrtVuX"
      },
      "execution_count": 13,
      "outputs": []
    },
    {
      "cell_type": "code",
      "source": [
        "saludo = saludar()\n",
        "print(saludo, \"Aqui deberia haber un saludo\")\n",
        "# Si la funcion no tiene return\n",
        "# no puedo almacenar el valor"
      ],
      "metadata": {
        "colab": {
          "base_uri": "https://localhost:8080/"
        },
        "id": "oMZw98GluS3r",
        "outputId": "790e8fe0-ed9d-40fa-9b9d-082eb9f63f6b"
      },
      "execution_count": 14,
      "outputs": [
        {
          "output_type": "stream",
          "name": "stdout",
          "text": [
            "Dame tu nombrejuan\n",
            "Hola juan\n",
            "None Aqui deberia haber un saludo\n"
          ]
        }
      ]
    },
    {
      "cell_type": "code",
      "source": [
        "def calculadora(a, b, operacion = \"suma\"):\n",
        "  print(f\"Argumento operacion {operacion}\")\n",
        "  if operacion == \"suma\":\n",
        "    return a + b\n",
        "  elif operacion == \"resta\":\n",
        "    return a - b\n",
        "  elif operacion == \"multiplicacion\":\n",
        "    return a * b\n",
        "  elif operacion == \"division\":\n",
        "    return a / b\n",
        "  else:\n",
        "    return \"ERROR\"\n",
        "  print(f\"Primer argumento {a}\")\n",
        "  print(f\"Segundo argumento {b}\")\n",
        "\n",
        "# Nomenclatura de las funciones\n",
        "# def nombre_funcion(argumentos):\n",
        "#   Codigo de la funcion\n",
        "#   Aca puede o no ir RETURN\n",
        "# Solo si quiero que mi funcion devuelva el resultado"
      ],
      "metadata": {
        "id": "VQrDLUeXtycB"
      },
      "execution_count": 15,
      "outputs": []
    },
    {
      "cell_type": "code",
      "source": [
        "a = input(\"Escribe el primer numero\")\n",
        "b = input(\"Escribe el segundo numero\")\n",
        "resultado = calculadora(int(a), int(b), \"multiplicacion\")\n",
        "print(resultado)"
      ],
      "metadata": {
        "colab": {
          "base_uri": "https://localhost:8080/"
        },
        "id": "H79T_if9uAme",
        "outputId": "3e2d0c0b-3e59-4017-e153-21b09ae587e9"
      },
      "execution_count": 16,
      "outputs": [
        {
          "output_type": "stream",
          "name": "stdout",
          "text": [
            "Escribe el primer numero1\n",
            "Escribe el segundo numero1\n",
            "Argumento operacion multiplicacion\n",
            "1\n"
          ]
        }
      ]
    },
    {
      "cell_type": "code",
      "source": [
        "def number_payments(numero):\n",
        "  lista_rojos = [\n",
        "    1, 3, 5, 7, 9, 12, 14, 16, 18, 19, 21, 23, 25, 27,\n",
        "    30, 32, 34, 36\n",
        "  ]\n",
        "  print(f\"Pay {numero}\")\n",
        "  if numero in lista_rojos:\n",
        "    print(\"Pay Red\")\n",
        "  else:\n",
        "    print(\"Pay Black\")\n",
        "  numero_es_par = numero % 2 == 0\n",
        "  if numero_es_par:\n",
        "    print(\"Pay Even\")\n",
        "  else:\n",
        "    print(\"Pay Odd\")\n",
        "  if numero <= 18:\n",
        "    print(\"Pay 1 to 18\")\n",
        "  else:\n",
        "    print(\"Pay 19 to 36\")\n",
        "\n",
        "def zero_payments(eleccion):\n",
        "  print(f\"Pay {eleccion}\")\n",
        "\n",
        "def verify_conditions_and_pay(variable):\n",
        "  if variable == 0 or variable == \"00\":\n",
        "    zero_payments(variable)\n",
        "  else:\n",
        "    number_payments(variable)"
      ],
      "metadata": {
        "id": "XzxhfKW6zCbI"
      },
      "execution_count": 26,
      "outputs": []
    },
    {
      "cell_type": "code",
      "source": [
        "from random import choice\n",
        "\n",
        "numeros = list(range(1, 37))\n",
        "ceros = [0, \"00\"]\n",
        "lista_completa = numeros + ceros\n",
        "eleccion_aleatoria = choice(lista_completa)\n",
        "print(f\"Roulette has {eleccion_aleatoria}\")\n",
        "verify_conditions_and_pay(eleccion_aleatoria)\n"
      ],
      "metadata": {
        "colab": {
          "base_uri": "https://localhost:8080/"
        },
        "id": "oqJiaHbXyNOP",
        "outputId": "5223e836-e704-4828-dda5-474056000189"
      },
      "execution_count": 27,
      "outputs": [
        {
          "output_type": "stream",
          "name": "stdout",
          "text": [
            "Roulette has 13\n",
            "Pay 13\n",
            "Pay Black\n",
            "Pay Odd\n",
            "Pay 1 to 18\n"
          ]
        }
      ]
    },
    {
      "cell_type": "code",
      "source": [
        "# Extensiones de python\n",
        "# .py -> SCRIPTS (RECETA)\n",
        "# .ipynb -> NOTEBOOKS"
      ],
      "metadata": {
        "id": "AiN5FwZD16p4"
      },
      "execution_count": null,
      "outputs": []
    },
    {
      "cell_type": "code",
      "source": [
        "def suma(numero_funcion_1=5, numero_funcion_2=5):\n",
        "  return numero_funcion_1 + numero_funcion_2\n",
        "\n",
        "print(suma())"
      ],
      "metadata": {
        "colab": {
          "base_uri": "https://localhost:8080/"
        },
        "id": "9rKaRgn73Ehw",
        "outputId": "423f58a2-78c0-4643-e5f7-15584fc4578f"
      },
      "execution_count": 32,
      "outputs": [
        {
          "output_type": "stream",
          "name": "stdout",
          "text": [
            "10\n"
          ]
        }
      ]
    }
  ],
  "metadata": {
    "language_info": {
      "name": "python"
    },
    "colab": {
      "provenance": []
    },
    "kernelspec": {
      "name": "python3",
      "display_name": "Python 3"
    }
  },
  "nbformat": 4,
  "nbformat_minor": 0
}