{
  "cells": [
    {
      "cell_type": "markdown",
      "metadata": {
        "id": "WQg_oVF9Sn0l"
      },
      "source": [
        "# Clase 9\n",
        "\n",
        "#### **Contenido**\n",
        "- Dudas ejercicio final\n",
        "- Mínima introducción a Numpy\n",
        "- If con verdadero, con lista vacía, con string vacio, con DataFrame Vacio, con 0\n",
        "- List comprehension (Dict comprehension)\n",
        "- Pandas Repaso\n",
        "  - Como crear una columna\n",
        "  - Como eliminar una columna\n",
        "  - Como eliminar una fila\n",
        "  - Como seleccionar una columna\n",
        "  - Como seleccionar una fila\n",
        "  - Como asignar un valor a una columna entera\n",
        "  - Como asignar un valor dinamico a una columna\n",
        "- Visualización con plotly (Desde Pandas 🐼)\n",
        "- Iniciar POO\n",
        "\n",
        "#### Temas de estudio\n",
        "- Qué es un algoritmo de ordenamiento?\n",
        "- Qué es un algoritmo de búsqueda?\n",
        "- Cuales son los paradigmas de la programación?\n",
        "\n",
        "#### Links\n",
        "\n",
        "- [Numpy](https://numpy.org/doc/stable/user/absolute_beginners.html)"
      ]
    },
    {
      "cell_type": "code",
      "source": [
        "!pip install numpy"
      ],
      "metadata": {
        "colab": {
          "base_uri": "https://localhost:8080/"
        },
        "id": "6xzEDHyySzeJ",
        "outputId": "93a36d07-386f-45fd-906b-2777e1f572ec"
      },
      "execution_count": 11,
      "outputs": [
        {
          "output_type": "stream",
          "name": "stdout",
          "text": [
            "Requirement already satisfied: numpy in /usr/local/lib/python3.10/dist-packages (1.25.2)\n"
          ]
        }
      ]
    },
    {
      "cell_type": "markdown",
      "metadata": {
        "id": "HnVArASxSn0m"
      },
      "source": [
        "### Conceptos claves de POO (OOP - Object Oriented Programming)\n",
        "\n",
        "#### Objetos y Clases:\n",
        "Plano (Clase) y Edificio (Objeto)   \n",
        "    Ejemplo: Clase Persona:  \n",
        "        Atributos:  \n",
        "        - Nombre  \n",
        "        - Edad  \n",
        "        - Estatura  \n",
        "        - Peso  \n",
        "        Métodos:  \n",
        "        - Hablar  \n",
        "        - Caminar  \n",
        "        - Comer  \n",
        "\n",
        "#### Encapsulamiento:\n",
        "Cápsula que autocontiene y protege su contenido.   \n",
        "    Ejemplo: Clase Persona nadie puede tener sus atributos ni métodos, excepto\n",
        "    la clase persona.\n",
        "\n",
        "#### Herencia:\n",
        "Relación de padre e hijo.   \n",
        "    Ejemplo: Clase Persona es el padre.  \n",
        "    Clases hijos son las Clase Estudiante, Clase Profesor, Clase Conductor.\n",
        "\n",
        "#### Polimorfismo:\n",
        "Demuestra que un objeto puede comportarse de diferentes maneras. El polimorfismo se puede ver\n",
        "entre objetos, entre clases y entre padres e hijos.\n",
        "    Ejemplo: Clase Forma, puede tener varias Clases hijas como Circulo o Cuadrado,\n",
        "    ambos con el método calcular_area, pero cada uno lo hace de manera diferente."
      ]
    },
    {
      "cell_type": "code",
      "source": [
        "import math as m"
      ],
      "metadata": {
        "id": "yAZNrOQmeYjo"
      },
      "execution_count": null,
      "outputs": []
    },
    {
      "cell_type": "code",
      "execution_count": null,
      "metadata": {
        "id": "xKYKFRPGSn0n"
      },
      "outputs": [],
      "source": [
        "class Persona:\n",
        "    def __init__(self, nombre, edad, estatura, peso):\n",
        "        self.nombre = nombre\n",
        "        self.edad = edad\n",
        "        self.estatura = estatura\n",
        "        self.peso = peso\n",
        "\n",
        "    def hablar(self):\n",
        "        print(\"Hola\")\n",
        "\n",
        "    def caminar(self):\n",
        "        print(\"Caminando ...\")\n",
        "\n",
        "    def comer(self):\n",
        "        print(\"Comiendo ...\")"
      ]
    },
    {
      "cell_type": "code",
      "source": [
        "lista1 = [1, 2, 3]\n",
        "print(lista1)\n",
        "print(lista1[0])\n",
        "print(lista1[::-1])\n",
        "print(lista1.reverse())\n",
        "print(lista1)"
      ],
      "metadata": {
        "colab": {
          "base_uri": "https://localhost:8080/"
        },
        "id": "59fXoXXUbhC8",
        "outputId": "9d628714-a51a-450e-b588-6b60247a430e"
      },
      "execution_count": 5,
      "outputs": [
        {
          "output_type": "stream",
          "name": "stdout",
          "text": [
            "[1, 2, 3]\n",
            "1\n",
            "[3, 2, 1]\n",
            "None\n",
            "[3, 2, 1]\n"
          ]
        }
      ]
    },
    {
      "cell_type": "code",
      "source": [
        "print(lista1)\n",
        "print(lista1[:2]) # Slicing de listas"
      ],
      "metadata": {
        "colab": {
          "base_uri": "https://localhost:8080/"
        },
        "id": "LDVJQvmIcPtT",
        "outputId": "936926f9-e43b-40fb-9dfb-b2522b59cccf"
      },
      "execution_count": 10,
      "outputs": [
        {
          "output_type": "stream",
          "name": "stdout",
          "text": [
            "[3, 2, 1]\n",
            "[3, 2]\n"
          ]
        }
      ]
    },
    {
      "cell_type": "code",
      "source": [
        "!python --version"
      ],
      "metadata": {
        "colab": {
          "base_uri": "https://localhost:8080/"
        },
        "id": "465qnRsRfovz",
        "outputId": "10deded1-044a-445a-9250-cb6b5316c494"
      },
      "execution_count": 14,
      "outputs": [
        {
          "output_type": "stream",
          "name": "stdout",
          "text": [
            "Python 3.10.12\n"
          ]
        }
      ]
    },
    {
      "cell_type": "code",
      "source": [
        "import numpy as np"
      ],
      "metadata": {
        "id": "L-sLVjXPcRfs"
      },
      "execution_count": 12,
      "outputs": []
    },
    {
      "cell_type": "code",
      "source": [
        "# Python para ciencia de datos\n",
        "# Pandas, Numpy, Plotly\n",
        "# statsmodels, scikitlearn\n",
        "# Big Data - PySpark - Spark\n",
        "\n",
        "# Machine Learning\n",
        "# Tensorflow - Pytorch"
      ],
      "metadata": {
        "id": "pQi_IVJbgE_b"
      },
      "execution_count": null,
      "outputs": []
    },
    {
      "cell_type": "code",
      "source": [
        "a = np.array([1, 2, 3, 4, 5, 6])\n",
        "print(a)\n",
        "print(type(a))"
      ],
      "metadata": {
        "colab": {
          "base_uri": "https://localhost:8080/"
        },
        "id": "p_hM6MDAhFMf",
        "outputId": "117e3b4a-dce1-4e10-eb34-47d990d583d7"
      },
      "execution_count": 16,
      "outputs": [
        {
          "output_type": "stream",
          "name": "stdout",
          "text": [
            "[1 2 3 4 5 6]\n",
            "<class 'numpy.ndarray'>\n"
          ]
        }
      ]
    },
    {
      "cell_type": "code",
      "source": [
        "print(np.ones([2, 3]))"
      ],
      "metadata": {
        "colab": {
          "base_uri": "https://localhost:8080/"
        },
        "id": "qcQH6P8mhNHC",
        "outputId": "3edf4e7a-57a7-4b87-becc-1744f2e2e330"
      },
      "execution_count": 17,
      "outputs": [
        {
          "output_type": "stream",
          "name": "stdout",
          "text": [
            "[[1. 1. 1.]\n",
            " [1. 1. 1.]]\n"
          ]
        }
      ]
    },
    {
      "cell_type": "code",
      "source": [
        "print(np.zeros([3, 2]))"
      ],
      "metadata": {
        "colab": {
          "base_uri": "https://localhost:8080/"
        },
        "id": "VVquKE8XhP43",
        "outputId": "7892786a-1596-49ef-a34a-1eae9d0012ee"
      },
      "execution_count": 18,
      "outputs": [
        {
          "output_type": "stream",
          "name": "stdout",
          "text": [
            "[[0. 0.]\n",
            " [0. 0.]\n",
            " [0. 0.]]\n"
          ]
        }
      ]
    },
    {
      "cell_type": "code",
      "source": [
        "# JavaScript (React, Vue, Angular, Next) - Frontend\n",
        "# TypeScript\n",
        "\n",
        "# Lo que pasa detras de las paginas - Backend\n",
        "# Para el backend tambien es famoso python\n",
        "# FastAPI - Pydantic\n",
        "# Go, Rust\n",
        "\"\"\"\n",
        "Hay librerias que me permiten hacer demos en paginas web\n",
        "dash-plotly , django, streamlit\n",
        "\"\"\""
      ],
      "metadata": {
        "id": "RGuXF8Clhn_B"
      },
      "execution_count": null,
      "outputs": []
    },
    {
      "cell_type": "code",
      "source": [
        "lista2 = [1, 2, 3]\n",
        "for i in range(1, len(lista2)):\n",
        "  print(lista2[i])"
      ],
      "metadata": {
        "colab": {
          "base_uri": "https://localhost:8080/"
        },
        "id": "abEYVEm-mCAF",
        "outputId": "76399138-2cce-463c-9822-b0121a5298a9"
      },
      "execution_count": 22,
      "outputs": [
        {
          "output_type": "stream",
          "name": "stdout",
          "text": [
            "2\n",
            "3\n"
          ]
        }
      ]
    },
    {
      "cell_type": "code",
      "source": [
        "# Forma de los condicionales\n",
        "lista3 = []\n",
        "\n",
        "if len(lista3) == 0:\n",
        "  print(\"lista vacia\")\n",
        "else:\n",
        "  print(\"lista tiene elementos\")\n",
        "\n",
        "if lista3: # Verdadero cuando si tiene elementos Falso cuando no tiene elementos\n",
        "  print(\"lista tiene elementos\")\n",
        "else:\n",
        "  print(\"lista vacia\")"
      ],
      "metadata": {
        "colab": {
          "base_uri": "https://localhost:8080/"
        },
        "id": "RTa1OKEXnJh8",
        "outputId": "93896791-a6d5-41ab-9104-9035ec6b8305"
      },
      "execution_count": 24,
      "outputs": [
        {
          "output_type": "stream",
          "name": "stdout",
          "text": [
            "lista vacia\n",
            "lista vacia\n"
          ]
        }
      ]
    },
    {
      "cell_type": "code",
      "source": [
        "documento = \"\"\n",
        "\n",
        "# 1. len porque los strings tambien tienen longitud, len(documento) == 0\n",
        "# 2. documento == \"\"\n",
        "if documento:\n",
        "  print(\"el documento tiene palabras\")\n",
        "else:\n",
        "  print(\"Esta vacio\")"
      ],
      "metadata": {
        "colab": {
          "base_uri": "https://localhost:8080/"
        },
        "id": "KiokSUzanwjj",
        "outputId": "cec31589-e967-447e-86e6-89db99efd31f"
      },
      "execution_count": 25,
      "outputs": [
        {
          "output_type": "stream",
          "name": "stdout",
          "text": [
            "Esta vacio\n"
          ]
        }
      ]
    },
    {
      "cell_type": "code",
      "source": [
        "# Está comparacion vacia, tambien se puede hacer con\n",
        "# Dict, Set, DataFrame"
      ],
      "metadata": {
        "id": "1ab0XHdQoVle"
      },
      "execution_count": null,
      "outputs": []
    },
    {
      "cell_type": "code",
      "source": [
        "# Comprension - en listas o diccionarios\n",
        "# La compresion, normalmente se hace para simplificar codigo\n",
        "# Para ahorrar lineas, para volver un proceso mas eficiente\n",
        "# Sin embargo, SIN la compresion el codigo funciona igual"
      ],
      "metadata": {
        "id": "0u802KKKodte"
      },
      "execution_count": null,
      "outputs": []
    },
    {
      "cell_type": "code",
      "source": [
        "# List comprehension\n",
        "lista4 = [1, 2, 3, 4, 5]\n",
        "lista5 = [] # Debo añadir solo los elementos impares de lista4 a lista5\n",
        "for number in lista4:\n",
        "  if (number % 2) == 1:\n",
        "    lista5.append(number)\n",
        "print(lista4)\n",
        "print(lista5)"
      ],
      "metadata": {
        "colab": {
          "base_uri": "https://localhost:8080/"
        },
        "id": "I1DkQ_nsosTl",
        "outputId": "8c0d99b8-5de5-4d06-be41-bbd57391926b"
      },
      "execution_count": 26,
      "outputs": [
        {
          "output_type": "stream",
          "name": "stdout",
          "text": [
            "[1, 2, 3, 4, 5]\n",
            "[1, 3, 5]\n"
          ]
        }
      ]
    },
    {
      "cell_type": "code",
      "source": [
        "# 1. Me robo la parte del for\n",
        "# 2. Pongo la condicion despues (Si hay condicion)\n",
        "# 3. Añado el iterador antes\n",
        "lista5 = [number for number in lista4 if (number % 2) == 1]\n",
        "lista6 = [-1 for number in lista4 if (number % 2) == 1]\n",
        "print(lista4)\n",
        "print(lista5)\n",
        "print(lista6)\n",
        "\n",
        "# Restricciones, debe estar dentro de corchetes\n",
        "# no siempre debe tener condiciones\n",
        "# Solo se puede hacer con FOR\n",
        "# Sirve para velocidad, tidyness, sintetizar"
      ],
      "metadata": {
        "colab": {
          "base_uri": "https://localhost:8080/"
        },
        "id": "ct2k4CpNpgT7",
        "outputId": "b86a7847-a566-4fbf-d444-0773bad932be"
      },
      "execution_count": 28,
      "outputs": [
        {
          "output_type": "stream",
          "name": "stdout",
          "text": [
            "[1, 2, 3, 4, 5]\n",
            "[1, 3, 5]\n",
            "[-1, -1, -1]\n"
          ]
        }
      ]
    },
    {
      "cell_type": "code",
      "source": [
        "lista7 = [\"una\", \"palabra\", \"dos\", \"okey\", \"nuevo\"]\n",
        "lista8 = [] # Voy a añadir las palabras impares de longitud\n",
        "for word in lista7:\n",
        "  if (len(word) % 2) == 1:\n",
        "    lista8.append(word[::-1]) # aca estoy añadiendo la palabra al reves\n",
        "print(lista7)\n",
        "print(lista8)"
      ],
      "metadata": {
        "colab": {
          "base_uri": "https://localhost:8080/"
        },
        "id": "GXLledJ5qt2f",
        "outputId": "c5968050-1221-404b-ba51-1f6324f1f811"
      },
      "execution_count": 29,
      "outputs": [
        {
          "output_type": "stream",
          "name": "stdout",
          "text": [
            "['una', 'palabra', 'dos', 'okey', 'nuevo']\n",
            "['anu', 'arbalap', 'sod', 'oveun']\n"
          ]
        }
      ]
    },
    {
      "cell_type": "code",
      "source": [
        "lista8 = [word[::-1] for word in lista7 if (len(word) % 2) == 1]\n",
        "print(lista8)\n",
        "\n",
        "lista9 = [word[::-1] if (len(word) % 2) == 1  else word for word in lista7]\n",
        "print(lista9)\n",
        "# Las comprensiones de lista, eliminan los dos puntos y el append\n",
        "lista9 = []\n",
        "for word in lista7:\n",
        "  if (len(word) % 2) == 1:\n",
        "    lista9.append(word[::-1])\n",
        "  else:\n",
        "    lista9.append(word)\n",
        "# Puede tener varios condicionales\n",
        "# Puede tener varios sub for\n",
        "# Puede añadir varias cosas"
      ],
      "metadata": {
        "colab": {
          "base_uri": "https://localhost:8080/"
        },
        "id": "sHRwO0h0rrZM",
        "outputId": "d9564f3a-d522-4427-b072-a384ef5f3422"
      },
      "execution_count": 33,
      "outputs": [
        {
          "output_type": "stream",
          "name": "stdout",
          "text": [
            "['anu', 'arbalap', 'sod', 'oveun']\n",
            "['anu', 'arbalap', 'sod', 'okey', 'oveun']\n"
          ]
        }
      ]
    },
    {
      "cell_type": "code",
      "source": [
        "from random import randint\n",
        "lista10 = [randint(10, 20) for i in range(5)]\n",
        "print(lista10)\n",
        "\n",
        "for index, element in enumerate(lista10):\n",
        "  print(f\"Iteracion {index}\")\n",
        "  print(f\"Elemento {element}\")\n",
        "\n",
        "for conjunto in enumerate(lista10):\n",
        "  print(f\"Iteracion {conjunto[0]}\")\n",
        "  print(f\"Elemento {conjunto[1]}\")"
      ],
      "metadata": {
        "colab": {
          "base_uri": "https://localhost:8080/"
        },
        "id": "58WKb6zdte7f",
        "outputId": "2f989eaf-8f8d-4a60-ecd8-95d5021e22dc"
      },
      "execution_count": 48,
      "outputs": [
        {
          "output_type": "stream",
          "name": "stdout",
          "text": [
            "[14, 17, 15, 17, 18]\n",
            "Iteracion 0\n",
            "Elemento 14\n",
            "Iteracion 1\n",
            "Elemento 17\n",
            "Iteracion 2\n",
            "Elemento 15\n",
            "Iteracion 3\n",
            "Elemento 17\n",
            "Iteracion 4\n",
            "Elemento 18\n",
            "Iteracion 0\n",
            "Elemento 14\n",
            "Iteracion 1\n",
            "Elemento 17\n",
            "Iteracion 2\n",
            "Elemento 15\n",
            "Iteracion 3\n",
            "Elemento 17\n",
            "Iteracion 4\n",
            "Elemento 18\n"
          ]
        }
      ]
    },
    {
      "cell_type": "code",
      "source": [
        "tupla1 = (1, 3) # Inmutable\n",
        "# tupla1 = (3 ,5)\n",
        "# tupla1[0] = 4 # AQUI SALE UN ERROR\n",
        "\n",
        "lista1 = [1, 3]\n",
        "lista1[0] = 4\n",
        "print(lista1)"
      ],
      "metadata": {
        "colab": {
          "base_uri": "https://localhost:8080/"
        },
        "id": "NSDKSs_LwPE5",
        "outputId": "b0964778-f1a4-453a-b3eb-591af8aca262"
      },
      "execution_count": 54,
      "outputs": [
        {
          "output_type": "stream",
          "name": "stdout",
          "text": [
            "[4, 3]\n"
          ]
        }
      ]
    },
    {
      "cell_type": "code",
      "source": [
        "lista11 = [10, 20, 30, 40]\n",
        "lista12 = [conjunto for conjunto in enumerate(lista11)]\n",
        "print(lista12)"
      ],
      "metadata": {
        "colab": {
          "base_uri": "https://localhost:8080/"
        },
        "id": "MYpyz28yxZ0Q",
        "outputId": "1be120eb-ae9d-43de-c098-870297d60f8c"
      },
      "execution_count": 56,
      "outputs": [
        {
          "output_type": "stream",
          "name": "stdout",
          "text": [
            "[(0, 10), (1, 20), (2, 30), (3, 40)]\n"
          ]
        }
      ]
    },
    {
      "cell_type": "code",
      "source": [
        "meses = range(12)\n",
        "nombres_meses = [\n",
        "    \"enero\", \"febrero\", \"marzo\", \"abril\", \"mayo\", \"junio\",\n",
        "    \"julio\", \"agosto\", \"septiembre\", \"octubre\", \"noviembre\",\n",
        "    \"diciembre\"\n",
        "]\n",
        "diccionario_nombres = {}\n",
        "for n in meses:\n",
        "  diccionario_nombres[nombres_meses[n]] = n + 1\n",
        "print(diccionario_nombres)"
      ],
      "metadata": {
        "colab": {
          "base_uri": "https://localhost:8080/"
        },
        "id": "_zieZY2Jxo9y",
        "outputId": "a4d02a9f-d951-4c09-f5b3-931704022476"
      },
      "execution_count": 59,
      "outputs": [
        {
          "output_type": "stream",
          "name": "stdout",
          "text": [
            "{'enero': 1, 'febrero': 2, 'marzo': 3, 'abril': 4, 'mayo': 5, 'junio': 6, 'julio': 7, 'agosto': 8, 'septiembre': 9, 'octubre': 10, 'noviembre': 11, 'diciembre': 12}\n"
          ]
        }
      ]
    },
    {
      "cell_type": "code",
      "source": [
        "# Dict comprehension\n",
        "diccionario_nombres = {nombres_meses[n]: n + 1 for n in meses}\n",
        "print(diccionario_nombres)"
      ],
      "metadata": {
        "colab": {
          "base_uri": "https://localhost:8080/"
        },
        "id": "vyA16UsDy0kr",
        "outputId": "36af0e9b-5067-430d-ad49-20ce7a29216a"
      },
      "execution_count": 60,
      "outputs": [
        {
          "output_type": "stream",
          "name": "stdout",
          "text": [
            "{'enero': 1, 'febrero': 2, 'marzo': 3, 'abril': 4, 'mayo': 5, 'junio': 6, 'julio': 7, 'agosto': 8, 'septiembre': 9, 'octubre': 10, 'noviembre': 11, 'diciembre': 12}\n"
          ]
        }
      ]
    },
    {
      "cell_type": "code",
      "source": [
        "nombres_meses = [\n",
        "    \"enero\", \"febrero\", \"marzo\", \"abril\", \"mayo\", \"junio\",\n",
        "    \"julio\", \"agosto\", \"septiembre\", \"octubre\", \"noviembre\",\n",
        "    \"diciembre\"\n",
        "]\n",
        "meses_vocales = [] # Crear una nueva lista, que tenga\n",
        "# solo los meses que empiezan con una vocal\n",
        "# 1. if m[0] == \"a\" or m[0] == \"e\" or ...\n",
        "# 2. if m[0] in \"aeiou\"\n",
        "\n",
        "for m in nombres_meses:\n",
        "  # print(m[0])\n",
        "  if m[0] in \"aeiou\":\n",
        "    meses_vocales.append(m)\n",
        "  # print(meses_vocales)\n",
        "\n",
        "meses_vocales_lc = [m for m in nombres_meses if m[0] in \"aeiou\"]\n",
        "# print(meses_vocales)\n",
        "# print(meses_vocales_lc)\n",
        "\n",
        "# Crear un diccionario, en el cual se le añadan los numeros correspodientes\n",
        "# A los meses que tengan una vocal al inicio, el resto de meses no debe ser\n",
        "# añadido al diccionario\n",
        "meses = range(12)\n",
        "nombres_meses = [\n",
        "    \"enero\", \"febrero\", \"marzo\", \"abril\", \"mayo\", \"junio\",\n",
        "    \"julio\", \"agosto\", \"septiembre\", \"octubre\", \"noviembre\",\n",
        "    \"diciembre\"\n",
        "]\n",
        "diccionario_vocales = {}\n",
        "for n in meses:\n",
        "  if nombres_meses[n][0] in \"aeiou\":\n",
        "    diccionario_vocales[nombres_meses[n]] = n + 1\n",
        "\n",
        "# Debo resumir en dict comprehension\n",
        "diccionario_vocales_lc = {nombres_meses[n]: n + 1 for n in meses\n",
        "                          if nombres_meses[n][0] in \"aeiou\"}\n",
        "\n",
        "print(diccionario_vocales)\n",
        "print(diccionario_vocales_lc)"
      ],
      "metadata": {
        "colab": {
          "base_uri": "https://localhost:8080/"
        },
        "id": "vUF46gNHzkaD",
        "outputId": "c59657f5-e864-49d9-ba0b-ec95ab60e2ce"
      },
      "execution_count": 69,
      "outputs": [
        {
          "output_type": "stream",
          "name": "stdout",
          "text": [
            "{'enero': 1, 'abril': 4, 'agosto': 8, 'octubre': 10}\n",
            "{'enero': 1, 'abril': 4, 'agosto': 8, 'octubre': 10}\n"
          ]
        }
      ]
    },
    {
      "cell_type": "code",
      "source": [
        "import pandas as pd\n",
        "\n",
        "df = pd.read_csv(\"/content/sample_data/california_housing_train.csv\")\n",
        "print(df.head())"
      ],
      "metadata": {
        "colab": {
          "base_uri": "https://localhost:8080/"
        },
        "id": "vsPmOo-q07mm",
        "outputId": "b4ced2ff-6510-4c2b-b94c-a496964ff29c"
      },
      "execution_count": 70,
      "outputs": [
        {
          "output_type": "stream",
          "name": "stdout",
          "text": [
            "   longitude  latitude  housing_median_age  total_rooms  total_bedrooms  \\\n",
            "0    -114.31     34.19                15.0       5612.0          1283.0   \n",
            "1    -114.47     34.40                19.0       7650.0          1901.0   \n",
            "2    -114.56     33.69                17.0        720.0           174.0   \n",
            "3    -114.57     33.64                14.0       1501.0           337.0   \n",
            "4    -114.57     33.57                20.0       1454.0           326.0   \n",
            "\n",
            "   population  households  median_income  median_house_value  \n",
            "0      1015.0       472.0         1.4936             66900.0  \n",
            "1      1129.0       463.0         1.8200             80100.0  \n",
            "2       333.0       117.0         1.6509             85700.0  \n",
            "3       515.0       226.0         3.1917             73400.0  \n",
            "4       624.0       262.0         1.9250             65500.0  \n"
          ]
        }
      ]
    },
    {
      "cell_type": "code",
      "source": [
        "print(df.columns)"
      ],
      "metadata": {
        "colab": {
          "base_uri": "https://localhost:8080/"
        },
        "id": "N02JroFs5iY3",
        "outputId": "8bc1e3de-924c-4e4e-e253-4614434c4a6d"
      },
      "execution_count": 71,
      "outputs": [
        {
          "output_type": "stream",
          "name": "stdout",
          "text": [
            "Index(['longitude', 'latitude', 'housing_median_age', 'total_rooms',\n",
            "       'total_bedrooms', 'population', 'households', 'median_income',\n",
            "       'median_house_value'],\n",
            "      dtype='object')\n"
          ]
        }
      ]
    },
    {
      "cell_type": "code",
      "source": [
        "print(df.describe())"
      ],
      "metadata": {
        "colab": {
          "base_uri": "https://localhost:8080/"
        },
        "id": "Wc8ycOYI6CkH",
        "outputId": "1bad9a88-81f8-46b1-b9aa-c85a2a34b640"
      },
      "execution_count": 72,
      "outputs": [
        {
          "output_type": "stream",
          "name": "stdout",
          "text": [
            "          longitude      latitude  housing_median_age   total_rooms  \\\n",
            "count  17000.000000  17000.000000        17000.000000  17000.000000   \n",
            "mean    -119.562108     35.625225           28.589353   2643.664412   \n",
            "std        2.005166      2.137340           12.586937   2179.947071   \n",
            "min     -124.350000     32.540000            1.000000      2.000000   \n",
            "25%     -121.790000     33.930000           18.000000   1462.000000   \n",
            "50%     -118.490000     34.250000           29.000000   2127.000000   \n",
            "75%     -118.000000     37.720000           37.000000   3151.250000   \n",
            "max     -114.310000     41.950000           52.000000  37937.000000   \n",
            "\n",
            "       total_bedrooms    population    households  median_income  \\\n",
            "count    17000.000000  17000.000000  17000.000000   17000.000000   \n",
            "mean       539.410824   1429.573941    501.221941       3.883578   \n",
            "std        421.499452   1147.852959    384.520841       1.908157   \n",
            "min          1.000000      3.000000      1.000000       0.499900   \n",
            "25%        297.000000    790.000000    282.000000       2.566375   \n",
            "50%        434.000000   1167.000000    409.000000       3.544600   \n",
            "75%        648.250000   1721.000000    605.250000       4.767000   \n",
            "max       6445.000000  35682.000000   6082.000000      15.000100   \n",
            "\n",
            "       median_house_value  \n",
            "count        17000.000000  \n",
            "mean        207300.912353  \n",
            "std         115983.764387  \n",
            "min          14999.000000  \n",
            "25%         119400.000000  \n",
            "50%         180400.000000  \n",
            "75%         265000.000000  \n",
            "max         500001.000000  \n"
          ]
        }
      ]
    },
    {
      "cell_type": "code",
      "source": [
        "print(df[\"median_house_value\"])"
      ],
      "metadata": {
        "colab": {
          "base_uri": "https://localhost:8080/"
        },
        "id": "ByBbLtot6SI4",
        "outputId": "fd1dc4eb-c92b-495c-cf6e-b32ff41d5de9"
      },
      "execution_count": 73,
      "outputs": [
        {
          "output_type": "stream",
          "name": "stdout",
          "text": [
            "0         66900.0\n",
            "1         80100.0\n",
            "2         85700.0\n",
            "3         73400.0\n",
            "4         65500.0\n",
            "           ...   \n",
            "16995    111400.0\n",
            "16996     79000.0\n",
            "16997    103600.0\n",
            "16998     85800.0\n",
            "16999     94600.0\n",
            "Name: median_house_value, Length: 17000, dtype: float64\n"
          ]
        }
      ]
    },
    {
      "cell_type": "code",
      "source": [
        "df[\"median_house_value_agg\"] = df[\"median_house_value\"] + 10000\n",
        "print(df[\"median_house_value_agg\"])"
      ],
      "metadata": {
        "colab": {
          "base_uri": "https://localhost:8080/"
        },
        "id": "CKPsix_66YEN",
        "outputId": "0096a8e3-0442-44b2-c8ec-f922d74998f7"
      },
      "execution_count": 74,
      "outputs": [
        {
          "output_type": "stream",
          "name": "stdout",
          "text": [
            "0         76900.0\n",
            "1         90100.0\n",
            "2         95700.0\n",
            "3         83400.0\n",
            "4         75500.0\n",
            "           ...   \n",
            "16995    121400.0\n",
            "16996     89000.0\n",
            "16997    113600.0\n",
            "16998     95800.0\n",
            "16999    104600.0\n",
            "Name: median_house_value_agg, Length: 17000, dtype: float64\n"
          ]
        }
      ]
    },
    {
      "cell_type": "code",
      "source": [
        "# POO - OOP Object oriented programming\n",
        "# class es una nueva palabra reservada\n",
        "\n",
        "\n",
        "class Ruleta:\n",
        "  # Atributo Cuales numeros pueden salir\n",
        "  # Atributo Cuanto pago por cada numero\n",
        "  # Atributo Cuanta plata tengo\n",
        "  # Metodo - Girar\n",
        "  # Metodo - Pagar\n",
        "  # Metodo - Jugar de nuevo\n",
        "\n",
        "# Las clases tienen metodos y tienen atributos\n",
        "# Las funciones adentro de las clases, se llaman metodos\n",
        "\n",
        "# Yo creo metodos para hacer cosas con el objeto\n",
        "# yo creo los atributos para describir el objeto"
      ],
      "metadata": {
        "id": "ymLgzOVz7VQq"
      },
      "execution_count": null,
      "outputs": []
    },
    {
      "cell_type": "code",
      "source": [
        "class Persona:\n",
        "    def __init__(self, nombre, edad, estatura, peso): # Metodo inicializar\n",
        "        self.nombre = nombre\n",
        "        self.edad = edad\n",
        "        self.estatura = estatura\n",
        "        self.peso = peso\n",
        "\n",
        "    def hablar(self):\n",
        "        print(\"Hola\")\n",
        "\n",
        "    def caminar(self):\n",
        "        print(\"Caminando ...\")\n",
        "\n",
        "    def comer(self):\n",
        "        print(\"Comiendo ...\")\n",
        "\n",
        "mateo = Persona(\"nombre\", 19, 178, 80)\n",
        "print(mateo)"
      ],
      "metadata": {
        "colab": {
          "base_uri": "https://localhost:8080/"
        },
        "id": "Mr73e3yi8N7I",
        "outputId": "2b947e3c-0e1b-43d6-aea0-856c7e0e7ad1"
      },
      "execution_count": 75,
      "outputs": [
        {
          "output_type": "stream",
          "name": "stdout",
          "text": [
            "<__main__.Persona object at 0x79ac09e1b5b0>\n"
          ]
        }
      ]
    }
  ],
  "metadata": {
    "language_info": {
      "name": "python"
    },
    "colab": {
      "provenance": []
    },
    "kernelspec": {
      "name": "python3",
      "display_name": "Python 3"
    }
  },
  "nbformat": 4,
  "nbformat_minor": 0
}