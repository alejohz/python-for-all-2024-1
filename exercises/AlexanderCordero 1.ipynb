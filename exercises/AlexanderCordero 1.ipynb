# CORDERO GUERRA,ALEXANDER JOSE: Develop a Python function to check if the average of numbers in an array is a whole number.
#  For [3, 6, 9], return True; for [2, 5], return False

def es_promedio_entero(matriz):
    """
    Verifica si el promedio de todos los elementos de una matriz es un número entero.

    Parámetros:
    matriz (list): Una matriz representada como una lista de listas. Cada lista interna
                   representa una fila de la matriz.

    Retorna:
    bool: True si el promedio de los elementos de la matriz es un número entero, False de lo contrario.
          Si la matriz está vacía, devuelve False.
    """
    # Verificar si la matriz está vacía
    if not matriz:
        return False

    # Inicializar variables para almacenar la suma total de elementos y el número total de elementos
    suma_total = 0
    num_elementos = 0

    # Iterar sobre cada fila y elemento de la matriz
    for fila in matriz:
        for elemento in fila:
            # Verificar si el elemento es numérico
            if not isinstance(elemento, (int, float)):
                raise ValueError("La matriz contiene elementos no numéricos.")

            # Sumar el elemento a la suma total y aumentar el contador de elementos
            suma_total += elemento
            num_elementos += 1

    # Calcular el promedio dividiendo la suma total entre el número total de elementos
    promedio = suma_total / num_elementos

    # Verificar si el promedio es un número entero y devolver el resultado
    return promedio.is_integer()


# Ejemplo de uso:
matriz_ejemplo = [
    [4, 3, 5, 6],
    [7, 3, 1, 3]
]

try:
    resultado = es_promedio_entero(matriz_ejemplo)
    print("El promedio de la matriz es un número entero:", resultado)
except ValueError as e:
    print("Error:", e)
