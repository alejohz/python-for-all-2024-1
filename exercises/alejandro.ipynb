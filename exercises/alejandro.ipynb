{
  "nbformat": 4,
  "nbformat_minor": 0,
  "metadata": {
    "colab": {
      "provenance": [],
      "toc_visible": true
    },
    "kernelspec": {
      "name": "python3",
      "display_name": "Python 3"
    },
    "language_info": {
      "name": "python"
    }
  },
  "cells": [
    {
      "cell_type": "code",
      "execution_count": 4,
      "metadata": {
        "id": "RUGxYBklTlWD",
        "colab": {
          "base_uri": "https://localhost:8080/"
        },
        "outputId": "4db918e3-36a5-4ec7-bdc4-47f556715913"
      },
      "outputs": [
        {
          "output_type": "stream",
          "name": "stdout",
          "text": [
            "write a positive integer 5\n",
            "The sum of the cubes numbers smaller than the one you wrote is: 100\n"
          ]
        }
      ],
      "source": [
        "input_number = input(\"write a positive integer \") # pide que escriban un número entero positivo.\n",
        "integer_number = int(input_number) # convierte el string ingresado en número entero.\n",
        "\n",
        "if integer_number <= 0: # verifica si el entero es menor o igual a cero\n",
        "    print (\"please write a positive integer number\") # si es menor igual a cero pide\n",
        "    # reitera que escriban un número positivo y entero.\n",
        "else: # en caso contrario\n",
        "    sum_cubes = 0 # se genera inicialmente esta variable igual a cero.\n",
        "    for n in range(0,integer_number): # se define un rango entre 0 y el numero ingresa\n",
        "        # y se itera dentro de ese rango.\n",
        "        sum_cubes += n ** 3 # la variable creada se reescribe como la suma de esa variable más\n",
        "        # los números iterados en el rango elevandolos a la potencia 3.\n",
        "    print(\"The sum of the cubes numbers smaller than the one you wrote is:\", sum_cubes) # se presenta el resultado."
      ]
    },
    {
      "cell_type": "code",
      "source": [],
      "metadata": {
        "id": "pZyG9X7wOLfH"
      },
      "execution_count": null,
      "outputs": []
    }
  ]
}