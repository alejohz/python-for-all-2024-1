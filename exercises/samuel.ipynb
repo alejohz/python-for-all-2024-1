{
  "nbformat": 4,
  "nbformat_minor": 0,
  "metadata": {
    "colab": {
      "provenance": []
    },
    "kernelspec": {
      "name": "python3",
      "display_name": "Python 3"
    },
    "language_info": {
      "name": "python"
    }
  },
  "cells": [
    {
      "cell_type": "code",
      "source": [
        "def sufijo_comun_mas_largo(cadena1, cadena2):\n",
        "    \"\"\"\n",
        "    Encuentra el sufijo común más largo entre dos cadenas.\n",
        "\n",
        "    Args:\n",
        "    cadena1 (str): La primera cadena.\n",
        "    cadena2 (str): La segunda cadena.\n",
        "\n",
        "    Returns:\n",
        "    str: El sufijo común más largo.\n",
        "    \"\"\"\n",
        "    longitud_sufijo = 0\n",
        "    len_cadena1 = len(cadena1)\n",
        "    len_cadena2 = len(cadena2)\n",
        "\n",
        "    # Iteramos a través de las cadenas para encontrar el sufijo común más largo\n",
        "    while (longitud_sufijo < len_cadena1 and longitud_sufijo < len_cadena2 and cadena1[len_cadena1 - longitud_sufijo - 1] == cadena2[len_cadena2 - longitud_sufijo - 1]):\n",
        "        longitud_sufijo += 1\n",
        "\n",
        "    return cadena1[len_cadena1 - longitud_sufijo:]  # Devolvemos el sufijo común más largo\n",
        "\n",
        "\n"
      ],
      "metadata": {
        "id": "immEfSnjBUR1"
      },
      "execution_count": null,
      "outputs": []
    }
  ]
}